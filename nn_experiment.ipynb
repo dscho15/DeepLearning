{
  "nbformat": 4,
  "nbformat_minor": 0,
  "metadata": {
    "colab": {
      "name": "nn_experiment.ipynb",
      "provenance": [],
      "collapsed_sections": [],
      "mount_file_id": "1HgzpqRUnuUYwXB19sC5zHr7Fsvu-yTJt",
      "authorship_tag": "ABX9TyMxa0QGZsp9ooyt06FzMz1F",
      "include_colab_link": true
    },
    "kernelspec": {
      "name": "python3",
      "display_name": "Python 3"
    },
    "language_info": {
      "name": "python"
    },
    "accelerator": "GPU",
    "widgets": {
      "application/vnd.jupyter.widget-state+json": {
        "bcec00711fea476aa4ed504ebdf8d528": {
          "model_module": "@jupyter-widgets/controls",
          "model_name": "HBoxModel",
          "model_module_version": "1.5.0",
          "state": {
            "_view_name": "HBoxView",
            "_dom_classes": [],
            "_model_name": "HBoxModel",
            "_view_module": "@jupyter-widgets/controls",
            "_model_module_version": "1.5.0",
            "_view_count": null,
            "_view_module_version": "1.5.0",
            "box_style": "",
            "layout": "IPY_MODEL_8358710aa86f45a39999834e9e93afd2",
            "_model_module": "@jupyter-widgets/controls",
            "children": [
              "IPY_MODEL_e24f34acfdb9491b8c7755d00391b305",
              "IPY_MODEL_918a8d909c5d4e74aa7f67ef8ad184d8",
              "IPY_MODEL_36870f7e901846f0ba81982f6025f928"
            ]
          }
        },
        "8358710aa86f45a39999834e9e93afd2": {
          "model_module": "@jupyter-widgets/base",
          "model_name": "LayoutModel",
          "model_module_version": "1.2.0",
          "state": {
            "_view_name": "LayoutView",
            "grid_template_rows": null,
            "right": null,
            "justify_content": null,
            "_view_module": "@jupyter-widgets/base",
            "overflow": null,
            "_model_module_version": "1.2.0",
            "_view_count": null,
            "flex_flow": null,
            "width": null,
            "min_width": null,
            "border": null,
            "align_items": null,
            "bottom": null,
            "_model_module": "@jupyter-widgets/base",
            "top": null,
            "grid_column": null,
            "overflow_y": null,
            "overflow_x": null,
            "grid_auto_flow": null,
            "grid_area": null,
            "grid_template_columns": null,
            "flex": null,
            "_model_name": "LayoutModel",
            "justify_items": null,
            "grid_row": null,
            "max_height": null,
            "align_content": null,
            "visibility": null,
            "align_self": null,
            "height": null,
            "min_height": null,
            "padding": null,
            "grid_auto_rows": null,
            "grid_gap": null,
            "max_width": null,
            "order": null,
            "_view_module_version": "1.2.0",
            "grid_template_areas": null,
            "object_position": null,
            "object_fit": null,
            "grid_auto_columns": null,
            "margin": null,
            "display": null,
            "left": null
          }
        },
        "e24f34acfdb9491b8c7755d00391b305": {
          "model_module": "@jupyter-widgets/controls",
          "model_name": "HTMLModel",
          "model_module_version": "1.5.0",
          "state": {
            "_view_name": "HTMLView",
            "style": "IPY_MODEL_d81af97b41fb4e65be18d97a40c7ead3",
            "_dom_classes": [],
            "description": "",
            "_model_name": "HTMLModel",
            "placeholder": "​",
            "_view_module": "@jupyter-widgets/controls",
            "_model_module_version": "1.5.0",
            "value": "100%",
            "_view_count": null,
            "_view_module_version": "1.5.0",
            "description_tooltip": null,
            "_model_module": "@jupyter-widgets/controls",
            "layout": "IPY_MODEL_bf731dfa1ca44a43a6bc03b343bd6874"
          }
        },
        "918a8d909c5d4e74aa7f67ef8ad184d8": {
          "model_module": "@jupyter-widgets/controls",
          "model_name": "FloatProgressModel",
          "model_module_version": "1.5.0",
          "state": {
            "_view_name": "ProgressView",
            "style": "IPY_MODEL_b03911b6945247ae9d10d0709a634d29",
            "_dom_classes": [],
            "description": "",
            "_model_name": "FloatProgressModel",
            "bar_style": "success",
            "max": 50,
            "_view_module": "@jupyter-widgets/controls",
            "_model_module_version": "1.5.0",
            "value": 50,
            "_view_count": null,
            "_view_module_version": "1.5.0",
            "orientation": "horizontal",
            "min": 0,
            "description_tooltip": null,
            "_model_module": "@jupyter-widgets/controls",
            "layout": "IPY_MODEL_1fe97e57a7624ed98bb9301deaa08c0d"
          }
        },
        "36870f7e901846f0ba81982f6025f928": {
          "model_module": "@jupyter-widgets/controls",
          "model_name": "HTMLModel",
          "model_module_version": "1.5.0",
          "state": {
            "_view_name": "HTMLView",
            "style": "IPY_MODEL_c09070ad838e47f58bd156dc12fedf76",
            "_dom_classes": [],
            "description": "",
            "_model_name": "HTMLModel",
            "placeholder": "​",
            "_view_module": "@jupyter-widgets/controls",
            "_model_module_version": "1.5.0",
            "value": " 50/50 [01:10&lt;00:00,  1.39s/it]",
            "_view_count": null,
            "_view_module_version": "1.5.0",
            "description_tooltip": null,
            "_model_module": "@jupyter-widgets/controls",
            "layout": "IPY_MODEL_6cd04660e3d54eb88056c176739360d5"
          }
        },
        "d81af97b41fb4e65be18d97a40c7ead3": {
          "model_module": "@jupyter-widgets/controls",
          "model_name": "DescriptionStyleModel",
          "model_module_version": "1.5.0",
          "state": {
            "_view_name": "StyleView",
            "_model_name": "DescriptionStyleModel",
            "description_width": "",
            "_view_module": "@jupyter-widgets/base",
            "_model_module_version": "1.5.0",
            "_view_count": null,
            "_view_module_version": "1.2.0",
            "_model_module": "@jupyter-widgets/controls"
          }
        },
        "bf731dfa1ca44a43a6bc03b343bd6874": {
          "model_module": "@jupyter-widgets/base",
          "model_name": "LayoutModel",
          "model_module_version": "1.2.0",
          "state": {
            "_view_name": "LayoutView",
            "grid_template_rows": null,
            "right": null,
            "justify_content": null,
            "_view_module": "@jupyter-widgets/base",
            "overflow": null,
            "_model_module_version": "1.2.0",
            "_view_count": null,
            "flex_flow": null,
            "width": null,
            "min_width": null,
            "border": null,
            "align_items": null,
            "bottom": null,
            "_model_module": "@jupyter-widgets/base",
            "top": null,
            "grid_column": null,
            "overflow_y": null,
            "overflow_x": null,
            "grid_auto_flow": null,
            "grid_area": null,
            "grid_template_columns": null,
            "flex": null,
            "_model_name": "LayoutModel",
            "justify_items": null,
            "grid_row": null,
            "max_height": null,
            "align_content": null,
            "visibility": null,
            "align_self": null,
            "height": null,
            "min_height": null,
            "padding": null,
            "grid_auto_rows": null,
            "grid_gap": null,
            "max_width": null,
            "order": null,
            "_view_module_version": "1.2.0",
            "grid_template_areas": null,
            "object_position": null,
            "object_fit": null,
            "grid_auto_columns": null,
            "margin": null,
            "display": null,
            "left": null
          }
        },
        "b03911b6945247ae9d10d0709a634d29": {
          "model_module": "@jupyter-widgets/controls",
          "model_name": "ProgressStyleModel",
          "model_module_version": "1.5.0",
          "state": {
            "_view_name": "StyleView",
            "_model_name": "ProgressStyleModel",
            "description_width": "",
            "_view_module": "@jupyter-widgets/base",
            "_model_module_version": "1.5.0",
            "_view_count": null,
            "_view_module_version": "1.2.0",
            "bar_color": null,
            "_model_module": "@jupyter-widgets/controls"
          }
        },
        "1fe97e57a7624ed98bb9301deaa08c0d": {
          "model_module": "@jupyter-widgets/base",
          "model_name": "LayoutModel",
          "model_module_version": "1.2.0",
          "state": {
            "_view_name": "LayoutView",
            "grid_template_rows": null,
            "right": null,
            "justify_content": null,
            "_view_module": "@jupyter-widgets/base",
            "overflow": null,
            "_model_module_version": "1.2.0",
            "_view_count": null,
            "flex_flow": null,
            "width": null,
            "min_width": null,
            "border": null,
            "align_items": null,
            "bottom": null,
            "_model_module": "@jupyter-widgets/base",
            "top": null,
            "grid_column": null,
            "overflow_y": null,
            "overflow_x": null,
            "grid_auto_flow": null,
            "grid_area": null,
            "grid_template_columns": null,
            "flex": null,
            "_model_name": "LayoutModel",
            "justify_items": null,
            "grid_row": null,
            "max_height": null,
            "align_content": null,
            "visibility": null,
            "align_self": null,
            "height": null,
            "min_height": null,
            "padding": null,
            "grid_auto_rows": null,
            "grid_gap": null,
            "max_width": null,
            "order": null,
            "_view_module_version": "1.2.0",
            "grid_template_areas": null,
            "object_position": null,
            "object_fit": null,
            "grid_auto_columns": null,
            "margin": null,
            "display": null,
            "left": null
          }
        },
        "c09070ad838e47f58bd156dc12fedf76": {
          "model_module": "@jupyter-widgets/controls",
          "model_name": "DescriptionStyleModel",
          "model_module_version": "1.5.0",
          "state": {
            "_view_name": "StyleView",
            "_model_name": "DescriptionStyleModel",
            "description_width": "",
            "_view_module": "@jupyter-widgets/base",
            "_model_module_version": "1.5.0",
            "_view_count": null,
            "_view_module_version": "1.2.0",
            "_model_module": "@jupyter-widgets/controls"
          }
        },
        "6cd04660e3d54eb88056c176739360d5": {
          "model_module": "@jupyter-widgets/base",
          "model_name": "LayoutModel",
          "model_module_version": "1.2.0",
          "state": {
            "_view_name": "LayoutView",
            "grid_template_rows": null,
            "right": null,
            "justify_content": null,
            "_view_module": "@jupyter-widgets/base",
            "overflow": null,
            "_model_module_version": "1.2.0",
            "_view_count": null,
            "flex_flow": null,
            "width": null,
            "min_width": null,
            "border": null,
            "align_items": null,
            "bottom": null,
            "_model_module": "@jupyter-widgets/base",
            "top": null,
            "grid_column": null,
            "overflow_y": null,
            "overflow_x": null,
            "grid_auto_flow": null,
            "grid_area": null,
            "grid_template_columns": null,
            "flex": null,
            "_model_name": "LayoutModel",
            "justify_items": null,
            "grid_row": null,
            "max_height": null,
            "align_content": null,
            "visibility": null,
            "align_self": null,
            "height": null,
            "min_height": null,
            "padding": null,
            "grid_auto_rows": null,
            "grid_gap": null,
            "max_width": null,
            "order": null,
            "_view_module_version": "1.2.0",
            "grid_template_areas": null,
            "object_position": null,
            "object_fit": null,
            "grid_auto_columns": null,
            "margin": null,
            "display": null,
            "left": null
          }
        }
      }
    }
  },
  "cells": [
    {
      "cell_type": "markdown",
      "metadata": {
        "id": "view-in-github",
        "colab_type": "text"
      },
      "source": [
        "<a href=\"https://colab.research.google.com/github/dscho15/DeepLearning/blob/main/nn_experiment.ipynb\" target=\"_parent\"><img src=\"https://colab.research.google.com/assets/colab-badge.svg\" alt=\"Open In Colab\"/></a>"
      ]
    },
    {
      "cell_type": "code",
      "metadata": {
        "id": "psbItQsscviy"
      },
      "source": [
        "import copy\n",
        "\n",
        "# Numpy\n",
        "import numpy as np \n",
        "\n",
        "# Scipy\n",
        "from scipy.io import loadmat\n",
        "from scipy.spatial.transform import Rotation as R\n",
        "\n",
        "# Matplotlib\n",
        "import matplotlib.pyplot as plt\n",
        "from tqdm.notebook import tqdm\n",
        "\n",
        "# Torch\n",
        "import torch\n",
        "from torch import nn\n",
        "import torch.nn.functional as F\n",
        "import torchvision\n",
        "from torchvision import transforms as T"
      ],
      "execution_count": 29,
      "outputs": []
    },
    {
      "cell_type": "code",
      "metadata": {
        "id": "wtLrymgnfa6t"
      },
      "source": [
        "data = loadmat('/content/drive/MyDrive/ForceTorque/nn_subsample.mat')\n",
        "\n",
        "x = data['nn_subsample'][:,6:]\n",
        "y = data['nn_subsample'][:,:6]"
      ],
      "execution_count": 30,
      "outputs": []
    },
    {
      "cell_type": "code",
      "metadata": {
        "id": "7kOcTrbNeotF"
      },
      "source": [
        "quat_list = []\n",
        "\n",
        "for rotm in x:\n",
        "  rotm = np.array(rotm).reshape(3, 3)\n",
        "  quat_list.append(R.from_matrix(rotm).as_quat())\n",
        "\n",
        "x = np.stack(quat_list)"
      ],
      "execution_count": 31,
      "outputs": []
    },
    {
      "cell_type": "code",
      "metadata": {
        "id": "Pzn0FreWhsMh"
      },
      "source": [
        "class Dataset(torch.utils.data.Dataset):\n",
        "  def __init__(self, x, y):\n",
        "        self.x = torch.tensor(x.copy().astype(np.float32))\n",
        "        self.y = torch.tensor(y.copy().astype(np.float32))\n",
        "\n",
        "  def __len__(self):\n",
        "        return x.shape[0]\n",
        "\n",
        "  def __getitem__(self, index):\n",
        "        return self.x[index].clone(), self.y[index].clone()"
      ],
      "execution_count": 32,
      "outputs": []
    },
    {
      "cell_type": "code",
      "metadata": {
        "id": "tR8EwA_1lRY4"
      },
      "source": [
        "data_train = Dataset(x, y)\n",
        "data_train, data_valid, data_test = torch.utils.data.random_split(data_train, (25000, 5000, x.shape[0] - 30000))\n",
        "\n",
        "\n",
        "loader_train = torch.utils.data.DataLoader(data_train, batch_size = 256, num_workers=2, shuffle=True)\n",
        "loader_valid = torch.utils.data.DataLoader(data_valid, batch_size = 256, num_workers=2)\n",
        "loader_test = torch.utils.data.DataLoader(data_test, batch_size = 256, num_workers=2)"
      ],
      "execution_count": 33,
      "outputs": []
    },
    {
      "cell_type": "code",
      "metadata": {
        "id": "9w5ZgHBfdI7C"
      },
      "source": [
        "class NeuralNetwork(nn.Module):\n",
        "    def __init__(self):\n",
        "      super(NeuralNetwork, self).__init__()\n",
        "      self.model = nn.Sequential(\n",
        "          \n",
        "          nn.BatchNorm1d(4),\n",
        "          nn.Linear(4, 16),\n",
        "          nn.ReLU(),\n",
        "          \n",
        "          nn.BatchNorm1d(16),\n",
        "          nn.Linear(16, 32),\n",
        "          nn.ReLU(),\n",
        "\n",
        "          nn.BatchNorm1d(32),\n",
        "          nn.Linear(32, 16),\n",
        "          nn.ReLU(),\n",
        "\n",
        "          nn.BatchNorm1d(16),\n",
        "          nn.Linear(16, 6),\n",
        "      )\n",
        "\n",
        "    def forward(self, x):\n",
        "      return self.model(x)"
      ],
      "execution_count": 34,
      "outputs": []
    },
    {
      "cell_type": "code",
      "metadata": {
        "id": "sjE6feO6hg4u"
      },
      "source": [
        "all_losses = {}\n",
        "best_loss = 10000000000000\n",
        "best_model = None"
      ],
      "execution_count": 35,
      "outputs": []
    },
    {
      "cell_type": "code",
      "metadata": {
        "colab": {
          "base_uri": "https://localhost:8080/",
          "height": 49,
          "referenced_widgets": [
            "bcec00711fea476aa4ed504ebdf8d528",
            "8358710aa86f45a39999834e9e93afd2",
            "e24f34acfdb9491b8c7755d00391b305",
            "918a8d909c5d4e74aa7f67ef8ad184d8",
            "36870f7e901846f0ba81982f6025f928",
            "d81af97b41fb4e65be18d97a40c7ead3",
            "bf731dfa1ca44a43a6bc03b343bd6874",
            "b03911b6945247ae9d10d0709a634d29",
            "1fe97e57a7624ed98bb9301deaa08c0d",
            "c09070ad838e47f58bd156dc12fedf76",
            "6cd04660e3d54eb88056c176739360d5"
          ]
        },
        "id": "tzU0_I3dnCj3",
        "outputId": "83ae3672-dcf3-4de9-903d-03692f67849a"
      },
      "source": [
        "device = torch.device('cuda')\n",
        "model = NeuralNetwork().to(device)\n",
        "opt = torch.optim.Adam(model.parameters(), lr=2e-4, weight_decay=2e-6)\n",
        "\n",
        "train_losses = []\n",
        "valid_losses = []\n",
        "\n",
        "for epoch in tqdm(range(50)):\n",
        "\n",
        "    model.train()\n",
        "\n",
        "    epoch_losses = []\n",
        "    correct, total = 0, 0\n",
        "\n",
        "    for x, y in loader_train:\n",
        "  \n",
        "        x, y = x.to(device), y.to(device)\n",
        "        \n",
        "        y_hat = model(x)\n",
        "        loss = F.mse_loss(y_hat, y)\n",
        "\n",
        "        opt.zero_grad()\n",
        "        loss.backward()\n",
        "        opt.step()\n",
        "\n",
        "        epoch_losses.append(loss.item())\n",
        "        total += len(x)\n",
        "\n",
        "    train_loss = np.mean(epoch_losses)\n",
        "\n",
        "\n",
        "    # validation\n",
        "\n",
        "    with torch.no_grad():\n",
        "\n",
        "        model.eval()\n",
        "\n",
        "        valid_losses_batch = []\n",
        "        correct, total = 0, 0\n",
        "\n",
        "        for x, y in loader_valid:\n",
        "\n",
        "            x, y = x.to(device), y.to(device)\n",
        "            y_hat = model(x)\n",
        "            loss = F.mse_loss(y_hat, y)\n",
        "\n",
        "            total += len(x)\n",
        "            valid_losses_batch.append(loss.item())\n",
        "    \n",
        "    valid_loss = np.mean(valid_losses_batch)\n",
        "\n",
        "    if valid_loss < best_loss:\n",
        "        best_loss = valid_loss\n",
        "        best_model = copy.deepcopy(model), epoch\n",
        "\n",
        "    train_losses.append(train_loss)\n",
        "    valid_losses.append(valid_loss)\n"
      ],
      "execution_count": 36,
      "outputs": [
        {
          "output_type": "display_data",
          "data": {
            "application/vnd.jupyter.widget-view+json": {
              "model_id": "bcec00711fea476aa4ed504ebdf8d528",
              "version_minor": 0,
              "version_major": 2
            },
            "text/plain": [
              "  0%|          | 0/50 [00:00<?, ?it/s]"
            ]
          },
          "metadata": {}
        }
      ]
    },
    {
      "cell_type": "code",
      "metadata": {
        "colab": {
          "base_uri": "https://localhost:8080/",
          "height": 505
        },
        "id": "QdIRm0LUnTOI",
        "outputId": "e9b2b948-da0f-411e-a1b0-395e2eaf3c2a"
      },
      "source": [
        "plt.figure(1, figsize=(20,10))\n",
        "plt.plot(train_losses)\n",
        "plt.plot(valid_losses)\n",
        "plt.xlabel(\"epoche\")\n",
        "plt.ylabel(\"loss\")\n",
        "plt.legend([\"Train\", \"Valid\"])\n",
        "\n",
        "plt.show()"
      ],
      "execution_count": 38,
      "outputs": [
        {
          "output_type": "display_data",
          "data": {
            "image/png": "[encoded data removed]",
            "text/plain": [
              "<Figure size 1440x720 with 1 Axes>"
            ]
          },
          "metadata": {
            "needs_background": "light"
          }
        }
      ]
    },
    {
      "cell_type": "code",
      "metadata": {
        "colab": {
          "base_uri": "https://localhost:8080/"
        },
        "id": "4TODMF9krhum",
        "outputId": "3509c99b-3918-4efb-d204-e8f716a8a6ae"
      },
      "source": [
        "model = best_model[0]\n",
        "\n",
        "with torch.no_grad():\n",
        "\n",
        "    test_losses_batch = []\n",
        "    total = 0\n",
        "    model.eval()\n",
        "\n",
        "    for x, y in loader_test:\n",
        "\n",
        "      x, y = x.to(device), y.to(device)\n",
        "      y_hat = model(x)\n",
        "      loss = F.mse_loss(y_hat, y)\n",
        "\n",
        "      total += len(x)\n",
        "      test_losses_batch.append(loss.item())\n",
        "    \n",
        "test_loss = np.mean(test_losses_batch)\n",
        "\n",
        "print(\"The test loss: %s\"%(test_loss))"
      ],
      "execution_count": 39,
      "outputs": [
        {
          "output_type": "stream",
          "name": "stdout",
          "text": [
            "The test loss: 0.11965858138033322\n"
          ]
        }
      ]
    }
  ]
}