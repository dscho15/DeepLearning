{
 "cells": [
  {
   "cell_type": "code",
   "execution_count": 37,
   "metadata": {},
   "outputs": [],
   "source": [
    "import numpy as np\n",
    "import copy\n",
    "\n",
    "from tqdm import tqdm\n",
    "\n",
    "import torch\n",
    "from torch import nn\n",
    "import torch.nn.functional as F\n",
    "import torchvision\n",
    "import matplotlib.pyplot as plt\n",
    "from torchvision import transforms as T"
   ]
  },
  {
   "cell_type": "code",
   "execution_count": 46,
   "metadata": {},
   "outputs": [
    {
     "name": "stdout",
     "output_type": "stream",
     "text": [
      "Files already downloaded and verified\n",
      "Files already downloaded and verified\n"
     ]
    }
   ],
   "source": [
    "transform = {\"train\": T.Compose([\n",
    "                        T.ToTensor(),\n",
    "                        T.Normalize([0.4914, 0.44822, 0.4465], [0.247, 0.243, 0.261]),\n",
    "                        T.RandomCrop(32, 4),\n",
    "                        T.RandomRotation(10)\n",
    "                      ]),\n",
    "             \"test\": T.Compose([\n",
    "                        T.ToTensor(),\n",
    "                        T.Normalize([0.4914, 0.44822, 0.4465], [0.247, 0.243, 0.261])\n",
    "                      ])}\n",
    "\n",
    "data_train = torchvision.datasets.CIFAR10(root='./data', train=True, download=True, transform=transform[\"train\"])\n",
    "data_train, data_valid = torch.utils.data.random_split(data_train, (45000, 5000))\n",
    "data_test = torchvision.datasets.CIFAR10(root='./data', train=False, download=True, transform=transform[\"test\"])"
   ]
  },
  {
   "cell_type": "code",
   "execution_count": 47,
   "metadata": {},
   "outputs": [],
   "source": [
    "loader_train = torch.utils.data.DataLoader(data_train, batch_size=128, shuffle=False, num_workers=12)\n",
    "loader_valid = torch.utils.data.DataLoader(data_valid, batch_size=128, shuffle=False, num_workers=12)\n",
    "loader_test = torch.utils.data.DataLoader(data_test, batch_size=128, shuffle=False, num_workers=12)"
   ]
  },
  {
   "cell_type": "code",
   "execution_count": 48,
   "metadata": {},
   "outputs": [],
   "source": [
    "class ConvNet(nn.Module):\n",
    "    def __init__(self):\n",
    "        \n",
    "        super(ConvNet, self).__init__()\n",
    "\n",
    "        self.conv = nn.Sequential(\n",
    "            \n",
    "            # Layer set 1 - half ones - scaledown: 2 * 2\n",
    "            nn.Conv2d(3, 64, 3, 1, 1),\n",
    "            nn.LeakyReLU(inplace=True),\n",
    "            nn.BatchNorm2d(64),\n",
    "            nn.Conv2d(64, 64, 3, 1, 1),\n",
    "            nn.LeakyReLU(inplace=True),\n",
    "            nn.MaxPool2d(2, 2),\n",
    "\n",
    "            # Layer set 2 - half twice - scaledown: 2 * 2\n",
    "            nn.Conv2d(64, 128, 3, 1, 1),\n",
    "            nn.LeakyReLU(inplace=True),\n",
    "            nn.BatchNorm2d(128),\n",
    "            nn.Conv2d(128, 128, 3, 1, 1),\n",
    "            nn.LeakyReLU(inplace=True),\n",
    "            nn.MaxPool2d(2, 2),\n",
    "\n",
    "            # Layer set 3 - half third - scaledown: 2 * 2\n",
    "            nn.Conv2d(128, 256, 3, 1, 1),\n",
    "            nn.LeakyReLU(inplace=True),\n",
    "            nn.BatchNorm2d(256),\n",
    "            nn.Conv2d(256, 256, 3, 1, 1),\n",
    "            nn.LeakyReLU(inplace=True),\n",
    "            nn.MaxPool2d(2, 2),\n",
    "            nn.Dropout2d(0.2)\n",
    "        )\n",
    "\n",
    "        self.linear = nn.Sequential(\n",
    "\n",
    "            nn.Linear(4096, 1024),\n",
    "            nn.LeakyReLU(inplace=True),\n",
    "            nn.BatchNorm1d(1024),\n",
    "\n",
    "            nn.Linear(1024, 512),\n",
    "            nn.LeakyReLU(inplace=True),\n",
    "            nn.BatchNorm1d(512),\n",
    "            nn.Dropout2d(0.2),\n",
    "\n",
    "            nn.Linear(512, 10),\n",
    "        )\n",
    "\n",
    "    def forward(self, x):\n",
    "\n",
    "        # Conv layer\n",
    "        x = self.conv(x)\n",
    "\n",
    "        # View \n",
    "        x = x.view(x.size(0), -1)\n",
    "\n",
    "        # Linear layer\n",
    "        logits = self.linear(x)\n",
    "\n",
    "        return logits"
   ]
  },
  {
   "cell_type": "code",
   "execution_count": 49,
   "metadata": {},
   "outputs": [
    {
     "name": "stderr",
     "output_type": "stream",
     "text": [
      "100%|██████████| 50/50 [06:13<00:00,  7.47s/it]\n"
     ]
    }
   ],
   "source": [
    "best_accuracy = 0\n",
    "best_model = None\n",
    "\n",
    "device = torch.device('cuda')\n",
    "\n",
    "model = ConvNet().to(device)\n",
    "opt = torch.optim.Adam(model.parameters(), lr=0.005)\n",
    "scheduler = torch.optim.lr_scheduler.StepLR(opt, step_size=10, gamma=0.5)\n",
    "criterion = nn.CrossEntropyLoss()\n",
    "\n",
    "early_stoppin = 0\n",
    "train_losses, train_accuracies = [], []\n",
    "valid_losses, valid_accuracies = [], []\n",
    "\n",
    "for epoch in tqdm(range(50)):\n",
    "\n",
    "    # Training set\n",
    "\n",
    "    model.train()\n",
    "\n",
    "    epoch_losses = []\n",
    "    correct, total = 0, 0\n",
    "\n",
    "    for x, y in loader_train:\n",
    "        \n",
    "        x, y = x.to(device), y.to(device)\n",
    "        \n",
    "        logits = model(x)\n",
    "        yhat = F.log_softmax(logits, dim=1)\n",
    "        loss = F.nll_loss(yhat, y)\n",
    "\n",
    "        opt.zero_grad()\n",
    "        loss.backward()\n",
    "        opt.step()\n",
    "\n",
    "        epoch_losses.append(loss.item())\n",
    "        total += len(x)\n",
    "        correct += (torch.argmax(logits, dim=1) == y).sum().item()\n",
    "\n",
    "    train_loss = np.mean(epoch_losses)\n",
    "    train_accuracy = correct / total\n",
    "\n",
    "    #  Validation set\n",
    "\n",
    "    with torch.no_grad():\n",
    "\n",
    "        model.eval()\n",
    "\n",
    "        valid_losses_batch = []\n",
    "        correct, total = 0, 0\n",
    "\n",
    "        for x, y in loader_valid:\n",
    "\n",
    "            x, y = x.to(device), y.to(device)\n",
    "            logits = model(x)\n",
    "            yhat = F.log_softmax(logits, dim=1)\n",
    "            loss = F.nll_loss(yhat, y)\n",
    "\n",
    "            total += len(x)\n",
    "            valid_losses_batch.append(loss.item())\n",
    "            correct += (torch.argmax(logits, dim=1) == y).sum().item()\n",
    "    \n",
    "    valid_loss = np.mean(valid_losses_batch)\n",
    "    valid_accuracy = correct/total\n",
    "\n",
    "    # Save the best model\n",
    "\n",
    "    if valid_accuracy > best_accuracy:\n",
    "        best_accuracy = valid_accuracy\n",
    "        best_model = copy.deepcopy(model), epoch\n",
    "        early_stoppin = 0\n",
    "    else:\n",
    "        early_stoppin += 1\n",
    "\n",
    "    train_losses.append(train_loss)\n",
    "    valid_losses.append(valid_loss)\n",
    "    train_accuracies.append(train_accuracy)\n",
    "    valid_accuracies.append(valid_accuracy)\n",
    "\n",
    "    scheduler.step()\n",
    "\n",
    "    if early_stoppin > 10:\n",
    "        break"
   ]
  },
  {
   "cell_type": "code",
   "execution_count": 51,
   "metadata": {},
   "outputs": [
    {
     "data": {
      "image/png": "[encoded data removed]",
      "text/plain": [
       "<Figure size 720x288 with 2 Axes>"
      ]
     },
     "metadata": {
      "needs_background": "light"
     },
     "output_type": "display_data"
    }
   ],
   "source": [
    "plt.figure(figsize=(10, 4))\n",
    "\n",
    "plt.subplot(1, 2, 1)\n",
    "plt.plot(train_losses, label='train')\n",
    "plt.plot(valid_losses, label='valid')\n",
    "plt.ylabel('loss')\n",
    "plt.xlabel('epoch')\n",
    "plt.legend()\n",
    "plt.grid()\n",
    "\n",
    "plt.subplot(1, 2, 2)\n",
    "plt.plot(train_accuracies, label='train')\n",
    "plt.plot(valid_accuracies, label='valid')\n",
    "plt.ylim(0, 1)\n",
    "plt.ylabel('accuracy')\n",
    "plt.xlabel('epoch')\n",
    "plt.legend()\n",
    "plt.grid()\n",
    "\n",
    "plt.tight_layout()\n",
    "plt.show()"
   ]
  },
  {
   "cell_type": "code",
   "execution_count": null,
   "metadata": {},
   "outputs": [],
   "source": [
    "model = best_model[0]\n",
    "\n",
    "with torch.no_grad():\n",
    "\n",
    "    correct, total = 0, 0\n",
    "    model.eval()\n",
    "\n",
    "    for x, y in loader_test:\n",
    "\n",
    "      x, y = x.to(device), y.to(device)\n",
    "      logits = model(x)\n",
    "      log_probs = F.log_softmax(logits, dim=1)\n",
    "      loss = F.nll_loss(log_probs, y)\n",
    "\n",
    "      total += len(x)\n",
    "      correct += (torch.argmax(logits, dim=1) == y).sum().item()\n",
    "    \n",
    "valid_accuracy = correct/total\n",
    "\n",
    "print(\"The test accuracy: %s\"%(valid_accuracy))"
   ]
  }
 ],
 "metadata": {
  "interpreter": {
   "hash": "c7675c060ae6be0e4a78f02d07415c22a179793e9c72b0c8077ca44abeee7abb"
  },
  "kernelspec": {
   "display_name": "Python 3.8.10 64-bit ('pytorch-gpu': conda)",
   "name": "python3"
  },
  "language_info": {
   "codemirror_mode": {
    "name": "ipython",
    "version": 3
   },
   "file_extension": ".py",
   "mimetype": "text/x-python",
   "name": "python",
   "nbconvert_exporter": "python",
   "pygments_lexer": "ipython3",
   "version": "3.8.10"
  },
  "orig_nbformat": 4
 },
 "nbformat": 4,
 "nbformat_minor": 2
}
