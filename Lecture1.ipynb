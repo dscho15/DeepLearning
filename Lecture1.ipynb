{
  "nbformat": 4,
  "nbformat_minor": 0,
  "metadata": {
    "colab": {
      "name": "Lecture1.ipynb",
      "provenance": [],
      "collapsed_sections": [],
      "authorship_tag": "ABX9TyPCTg40B/BAQvd+r1jgjBiQ",
      "include_colab_link": true
    },
    "kernelspec": {
      "name": "python3",
      "display_name": "Python 3"
    },
    "language_info": {
      "name": "python"
    }
  },
  "cells": [
    {
      "cell_type": "markdown",
      "metadata": {
        "id": "view-in-github",
        "colab_type": "text"
      },
      "source": [
        "<a href=\"https://colab.research.google.com/github/dscho15/DeepLearning/blob/main/Lecture1.ipynb\" target=\"_parent\"><img src=\"https://colab.research.google.com/assets/colab-badge.svg\" alt=\"Open In Colab\"/></a>"
      ]
    },
    {
      "cell_type": "markdown",
      "metadata": {
        "id": "rQMMzsfSBSk7"
      },
      "source": [
        "# Lecture 1\n",
        "\n",
        "This lecture, we implement a KNN classifier to recognize images from a known dataset: MNIST.\n",
        "\n"
      ]
    },
    {
      "cell_type": "code",
      "metadata": {
        "id": "uROwK_-I8pKv"
      },
      "source": [
        "from sklearn.neighbors import KNeighborsClassifier\n",
        "import matplotlib.pyplot as plt"
      ],
      "execution_count": 4,
      "outputs": []
    },
    {
      "cell_type": "code",
      "metadata": {
        "id": "8eQb9YABBQ-7"
      },
      "source": [
        "import torch\n",
        "from torchvision import datasets\n",
        "\n",
        "mnist_train_dataset = datasets.MNIST('', train=True, download=True);\n",
        "mnist_test_dataset = datasets.MNIST('', train=False, download=True); "
      ],
      "execution_count": 7,
      "outputs": []
    },
    {
      "cell_type": "code",
      "metadata": {
        "colab": {
          "base_uri": "https://localhost:8080/"
        },
        "id": "VEyzD9bLCd0b",
        "outputId": "9250d2cf-8ff4-4ecb-efb0-e219fd147748"
      },
      "source": [
        "# The tensor sizes of the data labels etc.\n",
        "\n",
        "train_labels = mnist_train_dataset.train_labels.numpy();\n",
        "train_data = mnist_train_dataset.train_data.numpy().reshape((-1, 28*28));\n",
        "\n",
        "test_labels = mnist_test_dataset.test_labels.numpy();\n",
        "test_data = mnist_test_dataset.train_data.numpy().reshape((-1, 28*28))\n",
        "\n",
        "print(\"The train labls and data: \", train_labels.shape, train_data.shape)\n",
        "print(\"The test labels and data: \", test_labels.shape, test_data.shape)"
      ],
      "execution_count": 43,
      "outputs": [
        {
          "output_type": "stream",
          "name": "stdout",
          "text": [
            "The train labls and data:  (60000,) (60000, 784)\n",
            "The test labels and data:  (10000,) (10000, 784)\n"
          ]
        },
        {
          "output_type": "stream",
          "name": "stderr",
          "text": [
            "/usr/local/lib/python3.7/dist-packages/torchvision/datasets/mnist.py:52: UserWarning: train_labels has been renamed targets\n",
            "  warnings.warn(\"train_labels has been renamed targets\")\n",
            "/usr/local/lib/python3.7/dist-packages/torchvision/datasets/mnist.py:62: UserWarning: train_data has been renamed data\n",
            "  warnings.warn(\"train_data has been renamed data\")\n",
            "/usr/local/lib/python3.7/dist-packages/torchvision/datasets/mnist.py:57: UserWarning: test_labels has been renamed targets\n",
            "  warnings.warn(\"test_labels has been renamed targets\")\n"
          ]
        }
      ]
    },
    {
      "cell_type": "code",
      "metadata": {
        "colab": {
          "base_uri": "https://localhost:8080/"
        },
        "id": "dNC-_oFtFf3H",
        "outputId": "a4f39528-bc3e-42db-f18b-cad2df40b225"
      },
      "source": [
        "import numpy as np\n",
        "\n",
        "k = [1, 5, 20]\n",
        "results = []\n",
        "\n",
        "for i in k:\n",
        "\n",
        "  # Make a classifier\n",
        "  KNC = KNeighborsClassifier(i, algorithm='brute')\n",
        "\n",
        "  # Fit the classifiers\n",
        "  KNC.fit(train_data, train_labels) \n",
        "\n",
        "  # Get the results\n",
        "  prediction = KNC.predict(test_data)\n",
        "\n",
        "  # How well do we perform with k = 5?\n",
        "  results.append(np.sum(prediction == test_labels)/test_data.shape[0])\n",
        "\n",
        "# Get the results of this simple classifier, but do we need to parse all the data\n",
        "print(results)"
      ],
      "execution_count": 51,
      "outputs": [
        {
          "output_type": "stream",
          "name": "stdout",
          "text": [
            "[0.9691, 0.9688, 0.9625]\n"
          ]
        }
      ]
    },
    {
      "cell_type": "code",
      "metadata": {
        "id": "4jsGHTaAKvH_"
      },
      "source": [
        ""
      ],
      "execution_count": null,
      "outputs": []
    },
    {
      "cell_type": "code",
      "metadata": {
        "id": "VddJuptUKvA7"
      },
      "source": [
        ""
      ],
      "execution_count": null,
      "outputs": []
    }
  ]
}