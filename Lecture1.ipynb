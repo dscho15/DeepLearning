{
  "nbformat": 4,
  "nbformat_minor": 2,
  "metadata": {
    "colab": {
      "name": "Lecture1.ipynb",
      "provenance": [],
      "collapsed_sections": [],
      "authorship_tag": "ABX9TyNdeWT1Nzs/FIpeXZsexSAz",
      "include_colab_link": true
    },
    "kernelspec": {
      "name": "python3",
      "display_name": "Python 3.8.10 64-bit"
    },
    "language_info": {
      "name": "python",
      "version": "3.8.10"
    },
    "interpreter": {
      "hash": "916dbcbb3f70747c44a77c7bcd40155683ae19c65e1c03b4aa3499c5328201f1"
    }
  },
  "cells": [
    {
      "cell_type": "markdown",
      "source": [
        "<a href=\"https://colab.research.google.com/github/dscho15/DeepLearning/blob/main/Lecture1.ipynb\" target=\"_parent\"><img src=\"https://colab.research.google.com/assets/colab-badge.svg\" alt=\"Open In Colab\"/></a>"
      ],
      "metadata": {
        "id": "view-in-github",
        "colab_type": "text"
      }
    },
    {
      "cell_type": "markdown",
      "source": [
        "# Lecture 1\n",
        "\n",
        "This lecture, we implement a KNN classifier to recognize images from a known dataset: MNIST.\n",
        "\n"
      ],
      "metadata": {
        "id": "rQMMzsfSBSk7"
      }
    },
    {
      "cell_type": "code",
      "execution_count": 24,
      "source": [
        "from sklearn.neighbors import KNeighborsClassifier\n",
        "from sklearn.metrics import confusion_matrix, plot_confusion_matrix\n",
        "from sklearn.decomposition import PCA\n",
        "from sklearn.manifold import TSNE\n",
        "import matplotlib.pyplot as plt\n",
        "import numpy as np\n",
        "from tqdm import tqdm"
      ],
      "outputs": [],
      "metadata": {
        "id": "uROwK_-I8pKv"
      }
    },
    {
      "cell_type": "code",
      "execution_count": 10,
      "source": [
        "import torch\n",
        "from torchvision import datasets\n",
        "\n",
        "mnist_train_dataset = datasets.MNIST('', train=True, download=True);\n",
        "mnist_test_dataset = datasets.MNIST('', train=False, download=True); \n",
        "\n",
        "# The tensor sizes of the data labels etc.\n",
        "\n",
        "mnist_train_labels = mnist_train_dataset.targets.numpy();\n",
        "mnist_train_data = mnist_train_dataset.data.numpy().reshape((-1, 28*28));\n",
        "\n",
        "mnist_test_labels = mnist_test_dataset.targets.numpy();\n",
        "mnist_test_data = mnist_test_dataset.data.numpy().reshape((-1, 28*28))\n",
        "\n",
        "print(\"The train labls and data: \", mnist_train_labels.shape, mnist_train_data.shape)\n",
        "print(\"The test labels and data: \", mnist_test_labels.shape, mnist_test_data.shape)"
      ],
      "outputs": [
        {
          "output_type": "stream",
          "name": "stdout",
          "text": [
            "The train labls and data:  (60000,) (60000, 784)\n",
            "The test labels and data:  (10000,) (10000, 784)\n"
          ]
        }
      ],
      "metadata": {
        "id": "8eQb9YABBQ-7",
        "colab": {
          "base_uri": "https://localhost:8080/"
        },
        "outputId": "18937f4d-d32a-4d55-d77a-f449e626df24"
      }
    },
    {
      "cell_type": "code",
      "execution_count": 11,
      "source": [
        "cifar10_train_dataset = datasets.CIFAR10('../', train=True, download=True);\n",
        "cifar10_test_dataset = datasets.CIFAR10('../', train=False, download=True);\n",
        "\n",
        "cifar10_train_labels = np.array(cifar10_train_dataset.targets)\n",
        "cifar10_train_data = np.array(cifar10_train_dataset.data)\n",
        "\n",
        "cifar10_test_labels = np.array(cifar10_test_dataset.targets)\n",
        "cifar10_test_data = np.array(cifar10_test_dataset.data)\n",
        "\n",
        "print(\"The train labls and data: \", cifar10_train_labels.shape, cifar10_train_data.shape)\n",
        "print(\"The test labels and data: \", cifar10_test_labels.shape, cifar10_test_data.shape)\n",
        "\n",
        "def rgb2gray(rgb):\n",
        "    return np.dot(rgb[...,:3], [0.2989, 0.5870, 0.1140]);\n",
        "\n",
        "cifar10_train_data_gray = rgb2gray(cifar10_train_data).reshape((-1, 32*32))\n",
        "cifar10_test_data_gray = rgb2gray(cifar10_test_data).reshape((-1, 32*32))\n",
        "\n",
        "print(\"The train labls and data(gray): \", cifar10_train_labels.shape, cifar10_train_data_gray.shape)\n",
        "print(\"The test labels and data(gray): \", cifar10_test_labels.shape, cifar10_test_data_gray.shape)\n"
      ],
      "outputs": [
        {
          "output_type": "stream",
          "name": "stdout",
          "text": [
            "Files already downloaded and verified\n",
            "Files already downloaded and verified\n",
            "The train labls and data:  (50000,) (50000, 32, 32, 3)\n",
            "The test labels and data:  (10000,) (10000, 32, 32, 3)\n",
            "The train labls and data(gray):  (50000,) (50000, 1024)\n",
            "The test labels and data(gray):  (10000,) (10000, 1024)\n"
          ]
        }
      ],
      "metadata": {
        "id": "LMwegSojMR0Z",
        "colab": {
          "base_uri": "https://localhost:8080/"
        },
        "outputId": "34d069c9-57c1-43c6-809f-c7ff1414e38c"
      }
    },
    {
      "cell_type": "code",
      "execution_count": 13,
      "source": [
        "def KNN(train_data, train_label, test_data, test_label, shuffle = [True, 10000], k = [1, 5, 10, 25], p=[1, 2]):\n",
        "\n",
        "  methods = []\n",
        "  results = []\n",
        "  confusion_matrices = []\n",
        "\n",
        "  if shuffle[0] == True:\n",
        "    indices = np.random.permutation(train_data.shape[0])\n",
        "    train_data = train_data[indices]\n",
        "    train_label = train_label[indices]\n",
        "    train_data = train_data[:shuffle[1]]\n",
        "    train_label = train_label[:shuffle[1]]\n",
        "\n",
        "  for i in p:\n",
        "\n",
        "    for j in k:\n",
        "\n",
        "      # Make a classifier\n",
        "      KNC = KNeighborsClassifier(j, algorithm='brute', n_jobs = -1, p=i)\n",
        "\n",
        "      # Fit the classifiers\n",
        "      KNC.fit(train_data, train_label) \n",
        "\n",
        "      # Get the results\n",
        "      prediction = KNC.predict(test_data)\n",
        "\n",
        "      # How well do we perform with k = 5?\n",
        "      results.append(np.sum(prediction == test_label)/test_label.shape[0])\n",
        "\n",
        "      # Get the confusion matrix\n",
        "      confusion_matrices.append(confusion_matrix(test_label, prediction))\n",
        "\n",
        "      methods.append([i, j])\n",
        "\n",
        "  return results, confusion_matrices, methods"
      ],
      "outputs": [],
      "metadata": {
        "id": "dNC-_oFtFf3H"
      }
    },
    {
      "cell_type": "code",
      "execution_count": 14,
      "source": [
        "mnist_results, mnist_cfmatrix, mnist_method = KNN(mnist_train_data, mnist_train_labels, mnist_test_data, mnist_test_labels)\n",
        "cifar10_results, cifar10_cfmatrix, cifar10_method = KNN(cifar10_train_data_gray, cifar10_train_labels, cifar10_test_data_gray, cifar10_test_labels)"
      ],
      "outputs": [],
      "metadata": {
        "id": "4jsGHTaAKvH_"
      }
    },
    {
      "cell_type": "code",
      "execution_count": null,
      "source": [
        "print(\"MNIST results, only KNN: \\n\", mnist_results)\n",
        "print(\"CIFAR10 results, only KNN: \\n\", cifar10_results)"
      ],
      "outputs": [],
      "metadata": {
        "id": "LpOSHSqjarj8"
      }
    },
    {
      "cell_type": "code",
      "execution_count": 22,
      "source": [
        "def PCA_KNN(train_data, train_label, test_data, test_label, comp=[5, 10, 25, 30]):\n",
        "\n",
        "  results, cf_matrix, met = [], [], []\n",
        "\n",
        "  for i in tqdm(range(len(comp))):\n",
        "    \n",
        "    # Create instance\n",
        "    pca = PCA(comp[i])\n",
        "\n",
        "    # Create transform and get it\n",
        "    pca_train = pca.fit_transform(train_data)\n",
        "    pca_test = pca.transform(test_data)\n",
        "\n",
        "    # Parse to KNN\n",
        "    results_knn, confusion_matrices_knn, methods_knn = KNN(pca_train, train_label, pca_test, test_label)\n",
        "\n",
        "    results.append(results_knn)\n",
        "    cf_matrix.append(confusion_matrices_knn)\n",
        "    met.append(methods_knn)\n",
        "\n",
        "  return results, cf_matrix, met, comp"
      ],
      "outputs": [],
      "metadata": {
        "id": "VddJuptUKvA7"
      }
    },
    {
      "cell_type": "code",
      "execution_count": 23,
      "source": [
        "mnist_results, mnist_cf_matrix, mnist_met, mnist_comp = PCA_KNN(mnist_train_data, mnist_train_labels, mnist_test_data, mnist_test_labels)\n",
        "cifar_results, cifar_cf_matrix, cifar_met, cifar_comp = PCA_KNN(cifar10_train_data_gray, cifar10_train_labels, cifar10_test_data_gray, cifar10_test_labels)"
      ],
      "outputs": [
        {
          "output_type": "stream",
          "name": "stderr",
          "text": [
            "100%|██████████| 4/4 [02:39<00:00, 39.84s/it]\n",
            "100%|██████████| 4/4 [02:54<00:00, 43.75s/it]\n"
          ]
        }
      ],
      "metadata": {
        "id": "eaQ5ljvgbnkF",
        "outputId": "ad3f35fa-81ba-4766-875f-c60db24485d4",
        "colab": {
          "base_uri": "https://localhost:8080/"
        }
      }
    },
    {
      "cell_type": "code",
      "execution_count": 27,
      "source": [
        "print(\"MNIST results, only KNN: \\n\", np.max(mnist_results))\n",
        "print(\"CIFAR10 results, only KNN: \\n\", np.max(cifar10_results))"
      ],
      "outputs": [
        {
          "output_type": "stream",
          "name": "stdout",
          "text": [
            "MNIST results, only KNN: \n",
            " 0.9517\n",
            "CIFAR10 results, only KNN: \n",
            " 0.2889\n"
          ]
        }
      ],
      "metadata": {
        "id": "NioDXqfLdiQ9",
        "outputId": "3eeb0c9c-1c55-48c3-e2b3-f4c4cf1e05c4",
        "colab": {
          "base_uri": "https://localhost:8080/"
        }
      }
    },
    {
      "cell_type": "code",
      "execution_count": 30,
      "source": [
        "def TSNE_EMBEDDING(train_data, train_label):\n",
        "\n",
        "  # Get the embedding, then make a scatter plot\n",
        "  train_embedding = TSNE(n_components=2).fit_transform(train_data)\n",
        "\n",
        "  colors = train_label / 10\n",
        "\n",
        "  fig = plt.figure(figsize=(8,8))\n",
        "  plt.scatter(x, y, c=colors)  \n",
        "  plt.show()"
      ],
      "outputs": [],
      "metadata": {
        "id": "y7edS2Aic_gN"
      }
    },
    {
      "cell_type": "code",
      "execution_count": null,
      "source": [
        "TSNE_EMBEDDING(mnist_train_data, mnist_train_labels)"
      ],
      "outputs": [],
      "metadata": {
        "id": "JsL_5fUyeMoA"
      }
    }
  ]
}