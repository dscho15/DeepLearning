{
 "cells": [
  {
   "cell_type": "code",
   "execution_count": 83,
   "source": [
    "import numpy as np\n",
    "\n",
    "from tqdm.notebook import tqdm\n",
    "\n",
    "import torch\n",
    "from torch import nn\n",
    "import torch.nn.functional as F\n",
    "import torchvision\n",
    "from torchvision import transforms as T"
   ],
   "outputs": [],
   "metadata": {}
  },
  {
   "cell_type": "code",
   "execution_count": 53,
   "source": [
    "transform = T.Compose([\n",
    "                        T.ToTensor(),\n",
    "                        T.Normalize([0.4914, 0.44822, 0.4465], [0.247, 0.243, 0.261])\n",
    "                      ])\n",
    "\n",
    "data_train = torchvision.datasets.CIFAR10(root='./data', train=True, download=True, transform=transform)\n",
    "data_train, data_valid = torch.utils.data.random_split(data_train, (45000, 5000))\n",
    "data_test = torchvision.datasets.CIFAR10(root='./data', train=False, download=True, transform=transform)"
   ],
   "outputs": [
    {
     "output_type": "stream",
     "name": "stdout",
     "text": [
      "Files already downloaded and verified\n",
      "Files already downloaded and verified\n"
     ]
    }
   ],
   "metadata": {}
  },
  {
   "cell_type": "code",
   "execution_count": 56,
   "source": [
    "batch_size = 256\n",
    "\n",
    "loader_train = torch.utils.data.DataLoader(data_train, batch_size=batch_size, shuffle=False, num_workers=2)\n",
    "loader_valid = torch.utils.data.DataLoader(data_valid, batch_size=batch_size, shuffle=False, num_workers=2)\n",
    "loader_test = torch.utils.data.DataLoader(data_test, batch_size=batch_size, shuffle=False, num_workers=2)"
   ],
   "outputs": [],
   "metadata": {}
  },
  {
   "cell_type": "code",
   "execution_count": 55,
   "source": [
    "def softmax(x):\n",
    "    x = x - np.max(x, axis=0, keepdims=True)\n",
    "    ex = np.exp(x)\n",
    "    return ex / np.sum(ex, axis=0, keepdims=True)\n",
    "\n",
    "def negative_log_likelihood(yhat, y, eps=1e-9):\n",
    "    return -np.sum(y * np.log(yhat + eps)) / y.shape[1]\n",
    "\n",
    "class ReLU:\n",
    "    x = None\n",
    "    \n",
    "    def forward(self, x):\n",
    "        self.x = x\n",
    "        y = np.maximum(x, 0)\n",
    "        return y\n",
    "\n",
    "    def backward(self, dldy):\n",
    "        # Note that the jacobian is a diagonal matrix, since ReLU is applied elementwise\n",
    "        # we can thus simply express the jacobian as the diagonal vector\n",
    "\n",
    "        dydx = self.x > 0  # (one where x > 0, else 0)\n",
    "        dldx = dldy * dydx  # chain rule\n",
    "        return dldx\n",
    "\n",
    "\n",
    "class MultinomialCrossEntropyLoss:\n",
    "    y, yhat = None, None\n",
    "\n",
    "    def forward(self, logits, y):\n",
    "        self.y = y\n",
    "        self.yhat = softmax(logits)\n",
    "        return negative_log_likelihood(self.yhat, y)\n",
    "\n",
    "    def backward(self):\n",
    "        dldlogits = (self.yhat - self.y) / self.y.shape[1]\n",
    "        return dldlogits"
   ],
   "outputs": [],
   "metadata": {}
  },
  {
   "cell_type": "code",
   "execution_count": 78,
   "source": [
    "class MLP():\n",
    "    def __init__(self, hidden_neurons = 100, input_shape = 32*32*3, output_shape = 10):\n",
    "\n",
    "        # Weights and biases\n",
    "        b = np.sqrt(1 / input_shape)\n",
    "        self.W1 = np.random.uniform(-b, b, size=(hidden_neurons, input_shape)).astype(np.float32)\n",
    "        self.b1 = np.random.uniform(-b, b, size=(hidden_neurons, 1)).astype(np.float32)\n",
    "\n",
    "        b = np.sqrt(1 / hidden_neurons)\n",
    "        self.W2 = np.random.uniform(-b, b, size=(output_shape, hidden_neurons)).astype(np.float32)\n",
    "        self.b2 = np.random.uniform(-b, b, size=(output_shape, 1)).astype(np.float32)\n",
    "        \n",
    "        # Placeholders for their gradients\n",
    "        self.dldW1, self.dldb1, self.dldW2, self.dldb2 = None, None, None, None\n",
    "\n",
    "        # Activations and hiddens/outputs to be computed in forward() and to be used in backward()\n",
    "        self.x, self.h = None, None\n",
    "\n",
    "        # Activation function for hidden layer\n",
    "        self.relu = ReLU()\n",
    "\n",
    "    def forward(self, x):\n",
    "        \n",
    "        self.x = self.W1 @ x.T + self.b1\n",
    "        self.h = self.relu.forward(self.x)\n",
    "        logits = self.W2 @ self.h + self.b2\n",
    "        return logits\n",
    "    \n",
    "    def backward(self, x):\n",
    "        raise NotImplementedError"
   ],
   "outputs": [],
   "metadata": {}
  },
  {
   "cell_type": "code",
   "execution_count": null,
   "source": [],
   "outputs": [],
   "metadata": {}
  },
  {
   "cell_type": "code",
   "execution_count": 87,
   "source": [
    "# initialization\n",
    "mlp = MLP(100)\n",
    "loss_fun = MultinomialCrossEntropyLoss()\n",
    "\n",
    "train_losses = []\n",
    "train_accuracies = []\n",
    "valid_losses = []\n",
    "valid_accuracies = []\n",
    "\n",
    "# mini batch gradient descent\n",
    "lr = 5e-2\n",
    "batch_size = 50\n",
    "epoches = 50\n",
    "\n",
    "for epoch in tqdm(range(epoches)):\n",
    "\n",
    "  epoch_losses = []\n",
    "  correct = 0\n",
    "\n",
    "  for x, y in loader_train:\n",
    "    \n",
    "    # Do the numpy stuff here, dirty and quick\n",
    "    x, y = x.numpy().reshape((-1, 32*32*3)), y.numpy()\n",
    "\n",
    "    logits = mlp.forward(x)\n",
    "    print(y.shape, logits.shape)\n",
    "    loss_fun.forward(logits, y)\n",
    "\n",
    "#     ##### YOUR CODE GOES HERE #####\n",
    "    \n",
    "#     # forward pass: calculate logits and loss\n",
    "    \n",
    "#     ##### YOUR CODE GOES HERE #####\n",
    "\n",
    "#     # backward pass: back propogate the loss gradient to your weights and update them with the learning rate\n",
    "\n",
    "#     ##### YOUR CODE GOES HERE #####\n",
    "    \n",
    "#     ###############################\n",
    "\n",
    "#     # stats\n",
    "#     epoch_losses.append(loss)\n",
    "#     correct += np.sum(np.argmax(logits, 0) == np.argmax(y, 0))\n",
    "\n",
    "#   train_losses.append(np.mean(epoch_losses))\n",
    "#   train_accuracies.append(correct / x_train.shape[1])\n",
    "  \n",
    "#   # we're using the test set as a validation set here\n",
    "#   logits = mlp.forward(x_test)\n",
    "#   valid_losses.append(loss_fun.forward(logits, y_test))\n",
    "#   valid_accuracies.append(np.mean(np.argmax(logits, 0) == np.argmax(y_test, 0)))\n",
    "  \n",
    "#   # update progress bar\n",
    "#   pbar.set_description(f'acc: {train_accuracies[-1]:.2f}/{valid_accuracies[-1]:.2f}')"
   ],
   "outputs": [
    {
     "output_type": "display_data",
     "data": {
      "application/vnd.jupyter.widget-view+json": {
       "version_major": 2,
       "version_minor": 0,
       "model_id": "05522f4888114168a68fe773792898a8"
      },
      "text/plain": [
       "  0%|          | 0/50 [00:00<?, ?it/s]"
      ]
     },
     "metadata": {}
    },
    {
     "output_type": "stream",
     "name": "stdout",
     "text": [
      "(256,) (10, 256)\n"
     ]
    },
    {
     "output_type": "error",
     "ename": "IndexError",
     "evalue": "tuple index out of range",
     "traceback": [
      "\u001b[0;31m---------------------------------------------------------------------------\u001b[0m",
      "\u001b[0;31mIndexError\u001b[0m                                Traceback (most recent call last)",
      "\u001b[0;32m/tmp/ipykernel_7713/1195535214.py\u001b[0m in \u001b[0;36m<module>\u001b[0;34m\u001b[0m\n\u001b[1;32m     24\u001b[0m     \u001b[0mlogits\u001b[0m \u001b[0;34m=\u001b[0m \u001b[0mmlp\u001b[0m\u001b[0;34m.\u001b[0m\u001b[0mforward\u001b[0m\u001b[0;34m(\u001b[0m\u001b[0mx\u001b[0m\u001b[0;34m)\u001b[0m\u001b[0;34m\u001b[0m\u001b[0;34m\u001b[0m\u001b[0m\n\u001b[1;32m     25\u001b[0m     \u001b[0mprint\u001b[0m\u001b[0;34m(\u001b[0m\u001b[0my\u001b[0m\u001b[0;34m.\u001b[0m\u001b[0mshape\u001b[0m\u001b[0;34m,\u001b[0m \u001b[0mlogits\u001b[0m\u001b[0;34m.\u001b[0m\u001b[0mshape\u001b[0m\u001b[0;34m)\u001b[0m\u001b[0;34m\u001b[0m\u001b[0;34m\u001b[0m\u001b[0m\n\u001b[0;32m---> 26\u001b[0;31m     \u001b[0mloss_fun\u001b[0m\u001b[0;34m.\u001b[0m\u001b[0mforward\u001b[0m\u001b[0;34m(\u001b[0m\u001b[0mlogits\u001b[0m\u001b[0;34m,\u001b[0m \u001b[0my\u001b[0m\u001b[0;34m)\u001b[0m\u001b[0;34m\u001b[0m\u001b[0;34m\u001b[0m\u001b[0m\n\u001b[0m\u001b[1;32m     27\u001b[0m \u001b[0;34m\u001b[0m\u001b[0m\n\u001b[1;32m     28\u001b[0m \u001b[0;31m#     ##### YOUR CODE GOES HERE #####\u001b[0m\u001b[0;34m\u001b[0m\u001b[0;34m\u001b[0m\u001b[0;34m\u001b[0m\u001b[0m\n",
      "\u001b[0;32m/tmp/ipykernel_7713/1013024429.py\u001b[0m in \u001b[0;36mforward\u001b[0;34m(self, logits, y)\u001b[0m\n\u001b[1;32m     30\u001b[0m         \u001b[0mself\u001b[0m\u001b[0;34m.\u001b[0m\u001b[0my\u001b[0m \u001b[0;34m=\u001b[0m \u001b[0my\u001b[0m\u001b[0;34m\u001b[0m\u001b[0;34m\u001b[0m\u001b[0m\n\u001b[1;32m     31\u001b[0m         \u001b[0mself\u001b[0m\u001b[0;34m.\u001b[0m\u001b[0myhat\u001b[0m \u001b[0;34m=\u001b[0m \u001b[0msoftmax\u001b[0m\u001b[0;34m(\u001b[0m\u001b[0mlogits\u001b[0m\u001b[0;34m)\u001b[0m\u001b[0;34m\u001b[0m\u001b[0;34m\u001b[0m\u001b[0m\n\u001b[0;32m---> 32\u001b[0;31m         \u001b[0;32mreturn\u001b[0m \u001b[0mnegative_log_likelihood\u001b[0m\u001b[0;34m(\u001b[0m\u001b[0mself\u001b[0m\u001b[0;34m.\u001b[0m\u001b[0myhat\u001b[0m\u001b[0;34m,\u001b[0m \u001b[0my\u001b[0m\u001b[0;34m)\u001b[0m\u001b[0;34m\u001b[0m\u001b[0;34m\u001b[0m\u001b[0m\n\u001b[0m\u001b[1;32m     33\u001b[0m \u001b[0;34m\u001b[0m\u001b[0m\n\u001b[1;32m     34\u001b[0m     \u001b[0;32mdef\u001b[0m \u001b[0mbackward\u001b[0m\u001b[0;34m(\u001b[0m\u001b[0mself\u001b[0m\u001b[0;34m)\u001b[0m\u001b[0;34m:\u001b[0m\u001b[0;34m\u001b[0m\u001b[0;34m\u001b[0m\u001b[0m\n",
      "\u001b[0;32m/tmp/ipykernel_7713/1013024429.py\u001b[0m in \u001b[0;36mnegative_log_likelihood\u001b[0;34m(yhat, y, eps)\u001b[0m\n\u001b[1;32m      5\u001b[0m \u001b[0;34m\u001b[0m\u001b[0m\n\u001b[1;32m      6\u001b[0m \u001b[0;32mdef\u001b[0m \u001b[0mnegative_log_likelihood\u001b[0m\u001b[0;34m(\u001b[0m\u001b[0myhat\u001b[0m\u001b[0;34m,\u001b[0m \u001b[0my\u001b[0m\u001b[0;34m,\u001b[0m \u001b[0meps\u001b[0m\u001b[0;34m=\u001b[0m\u001b[0;36m1e-9\u001b[0m\u001b[0;34m)\u001b[0m\u001b[0;34m:\u001b[0m\u001b[0;34m\u001b[0m\u001b[0;34m\u001b[0m\u001b[0m\n\u001b[0;32m----> 7\u001b[0;31m     \u001b[0;32mreturn\u001b[0m \u001b[0;34m-\u001b[0m\u001b[0mnp\u001b[0m\u001b[0;34m.\u001b[0m\u001b[0msum\u001b[0m\u001b[0;34m(\u001b[0m\u001b[0my\u001b[0m \u001b[0;34m*\u001b[0m \u001b[0mnp\u001b[0m\u001b[0;34m.\u001b[0m\u001b[0mlog\u001b[0m\u001b[0;34m(\u001b[0m\u001b[0myhat\u001b[0m \u001b[0;34m+\u001b[0m \u001b[0meps\u001b[0m\u001b[0;34m)\u001b[0m\u001b[0;34m)\u001b[0m \u001b[0;34m/\u001b[0m \u001b[0my\u001b[0m\u001b[0;34m.\u001b[0m\u001b[0mshape\u001b[0m\u001b[0;34m[\u001b[0m\u001b[0;36m1\u001b[0m\u001b[0;34m]\u001b[0m\u001b[0;34m\u001b[0m\u001b[0;34m\u001b[0m\u001b[0m\n\u001b[0m\u001b[1;32m      8\u001b[0m \u001b[0;34m\u001b[0m\u001b[0m\n\u001b[1;32m      9\u001b[0m \u001b[0;32mclass\u001b[0m \u001b[0mReLU\u001b[0m\u001b[0;34m:\u001b[0m\u001b[0;34m\u001b[0m\u001b[0;34m\u001b[0m\u001b[0m\n",
      "\u001b[0;31mIndexError\u001b[0m: tuple index out of range"
     ]
    }
   ],
   "metadata": {}
  },
  {
   "cell_type": "code",
   "execution_count": null,
   "source": [
    "plt.figure(figsize=(10, 4))\n",
    "\n",
    "plt.subplot(1, 2, 1)\n",
    "plt.plot(train_losses, label='train')\n",
    "plt.plot(valid_losses, label='valid')\n",
    "plt.ylabel('loss')\n",
    "plt.xlabel('epoch')\n",
    "plt.legend()\n",
    "plt.grid()\n",
    "\n",
    "plt.subplot(1, 2, 2)\n",
    "plt.plot(train_accuracies, label='train')\n",
    "plt.plot(valid_accuracies, label='valid')\n",
    "plt.ylim(0, 1)\n",
    "plt.ylabel('accuracy')\n",
    "plt.xlabel('epoch')\n",
    "plt.legend()\n",
    "plt.grid()\n",
    "\n",
    "plt.tight_layout()\n",
    "plt.show()"
   ],
   "outputs": [],
   "metadata": {}
  }
 ],
 "metadata": {
  "orig_nbformat": 4,
  "language_info": {
   "name": "python",
   "version": "3.8.10",
   "mimetype": "text/x-python",
   "codemirror_mode": {
    "name": "ipython",
    "version": 3
   },
   "pygments_lexer": "ipython3",
   "nbconvert_exporter": "python",
   "file_extension": ".py"
  },
  "kernelspec": {
   "name": "python3",
   "display_name": "Python 3.8.10 64-bit"
  },
  "interpreter": {
   "hash": "31f2aee4e71d21fbe5cf8b01ff0e069b9275f58929596ceb00d14d90e3e16cd6"
  }
 },
 "nbformat": 4,
 "nbformat_minor": 2
}