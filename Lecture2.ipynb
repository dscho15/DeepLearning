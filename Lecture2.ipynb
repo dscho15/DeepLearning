{
  "nbformat": 4,
  "nbformat_minor": 0,
  "metadata": {
    "colab": {
      "name": "Lecture2.ipynb",
      "provenance": [],
      "collapsed_sections": [],
      "include_colab_link": true
    },
    "kernelspec": {
      "name": "python3",
      "display_name": "Python 3"
    },
    "language_info": {
      "name": "python"
    }
  },
  "cells": [
    {
      "cell_type": "markdown",
      "metadata": {
        "id": "view-in-github",
        "colab_type": "text"
      },
      "source": [
        "<a href=\"https://colab.research.google.com/github/dscho15/DeepLearning/blob/main/Lecture2.ipynb\" target=\"_parent\"><img src=\"https://colab.research.google.com/assets/colab-badge.svg\" alt=\"Open In Colab\"/></a>"
      ]
    },
    {
      "cell_type": "code",
      "metadata": {
        "id": "HH1cTixBMiXO"
      },
      "source": [
        "# All the used libs\n",
        "import numpy as np\n",
        "import matplotlib.pyplot as plt\n",
        "\n",
        "import torch\n",
        "from torchvision import datasets\n",
        "\n",
        "import sklearn.preprocessing\n",
        "from tqdm.notebook import tqdm"
      ],
      "execution_count": 12,
      "outputs": []
    },
    {
      "cell_type": "markdown",
      "metadata": {
        "id": "h_Wuh_C1cYcw"
      },
      "source": [
        "# Binomial - Logistic Regression (2 Class Problem)"
      ]
    },
    {
      "cell_type": "code",
      "metadata": {
        "colab": {
          "base_uri": "https://localhost:8080/",
          "height": 279
        },
        "id": "TzQaWfBkcYxX",
        "outputId": "b0a39413-48b0-4fa9-8dd8-0de4f843e0c8"
      },
      "source": [
        "n = 100\n",
        "\n",
        "c0 = np.random.normal(loc=1, scale=2.5, size=(1, n))\n",
        "c1 = np.random.normal(loc=10, scale=2.5, size=(1, n))\n",
        "\n",
        "plt.scatter(c0, np.zeros_like(c0), label='Class 0')\n",
        "plt.scatter(c1, np.ones_like(c1), label='Class 1')\n",
        "plt.xlabel('x')\n",
        "plt.ylabel('y')\n",
        "plt.legend()\n",
        "plt.show()"
      ],
      "execution_count": 36,
      "outputs": [
        {
          "output_type": "display_data",
          "data": {
            "image/png": "[encoded data removed]",
            "text/plain": [
              "<Figure size 432x288 with 1 Axes>"
            ]
          },
          "metadata": {
            "needs_background": "light"
          }
        }
      ]
    },
    {
      "cell_type": "markdown",
      "metadata": {
        "id": "wTtz6fW_MKzw"
      },
      "source": [
        "Implement the optimization loop:\n",
        "\n",
        "\n",
        "*   Compute the avg. log-likelihood and report it\n",
        "*   Compute the avg. gradient g (2x1)\n",
        "*   Update w by adding g\n",
        "*   (Repeat many times)\n",
        "\n",
        "Plot your resulting fit over [-10, 20]\n",
        "\n",
        "* Use np.arange(-10,20,0.1) for the x-values\n",
        "* Then evaluate your fitted sigmoid to get y-values\n",
        "* What’s the probability that x = 5 belongs to class 1?\n",
        "\n"
      ]
    },
    {
      "cell_type": "code",
      "metadata": {
        "colab": {
          "base_uri": "https://localhost:8080/"
        },
        "id": "l_51GMSwMlGZ",
        "outputId": "e0a66040-680d-476d-f56f-1cf1872397f0"
      },
      "source": [
        "x = np.vstack((np.ones((1, 200)), np.hstack((c0, c1))))\n",
        "y = np.stack((np.zeros_like(c0), np.ones_like(c1))).reshape(-1, 1)\n",
        "w = np.random.rand(2, 1)\n",
        "\n",
        "print(\"The shape of x: %s y: %s z: %s\"%(x.shape, y.shape, w.shape))"
      ],
      "execution_count": 14,
      "outputs": [
        {
          "output_type": "stream",
          "name": "stdout",
          "text": [
            "The shape of x: (2, 200) y: (200, 1) z: (2, 1)\n"
          ]
        }
      ]
    },
    {
      "cell_type": "markdown",
      "metadata": {
        "id": "Po_tqJQtPOqN"
      },
      "source": [
        "There is no close-form solution to this problem, therefore, we need to perform gradient descent:\n",
        "\n",
        "$$\n",
        "w = w - \\epsilon \\nabla_W \\log L(w)\n",
        "$$\n",
        "\n",
        "where\n",
        "\n",
        "$$\n",
        "\\log L(w) = \\sum_i y_i - \\sigma(w^T x_i) x_i\n",
        "$$"
      ]
    },
    {
      "cell_type": "code",
      "metadata": {
        "id": "mcuCrerfPeAR"
      },
      "source": [
        "# The sigmoid function\n",
        "def sigmoid(x, w):\n",
        "  return 1/(1 + np.exp(-w.T @ x))\n",
        "\n",
        "# Gradient of w\n",
        "def grad(x, y, w):\n",
        "  gradient = (y.T - sigmoid(x, w)) @ x.T\n",
        "  return gradient.T"
      ],
      "execution_count": 15,
      "outputs": []
    },
    {
      "cell_type": "markdown",
      "metadata": {
        "id": "rgw2ZibQbe8Y"
      },
      "source": [
        "Start the algorithm, take a random set of pointsl then compute the gradient. Notice, that we want to minimize the log-likelihood, therefore, we have to change to positive sign on gradient descent"
      ]
    },
    {
      "cell_type": "code",
      "metadata": {
        "id": "6R8T6vS0P7cI"
      },
      "source": [
        "lr = 0.002\n",
        "batch = 50\n",
        "\n",
        "gradient = grad(x, y, w)\n",
        "\n",
        "grad_list = []\n",
        "\n",
        "while np.linalg.norm(gradient*lr) > 0.0001:\n",
        "  pick = np.random.choice(y.shape[0], batch)\n",
        "  gradient = grad(x[:, pick], y[pick], w)\n",
        "  w = w + lr*gradient\n",
        "  grad_list.append(np.linalg.norm(gradient))"
      ],
      "execution_count": 16,
      "outputs": []
    },
    {
      "cell_type": "markdown",
      "metadata": {
        "id": "trGWaIeXJWIR"
      },
      "source": [
        "Plot the results"
      ]
    },
    {
      "cell_type": "code",
      "metadata": {
        "colab": {
          "base_uri": "https://localhost:8080/",
          "height": 578
        },
        "id": "w2YRG9hCba_R",
        "outputId": "40c40e60-8c9a-4ccc-c89e-d495ad8e25fe"
      },
      "source": [
        "x_test = np.arange(-10, 20, 0.1)\n",
        "x_test = np.vstack((np.ones_like(x_test), x_test))\n",
        "y_test = []\n",
        "for i in range(x_test.shape[1]):\n",
        "  y_test.append(sigmoid(x_test[:,i], w))\n",
        "\n",
        "y_test = np.array(y_test)\n",
        "c0 = (y_test < 0.5).reshape(-1)\n",
        "c1 = (y_test > 0.5).reshape(-1)\n",
        "\n",
        "# Scatter plot of the results\n",
        "plt.figure(1)\n",
        "plt.scatter(c0, np.zeros_like(c0), label='Class 0')\n",
        "plt.scatter(c1, np.ones_like(c1), label='Class 1')\n",
        "plt.scatter(x_test[1, c0], y_test[c0], label=\"Class 0\")\n",
        "plt.scatter(x_test[1, c1], y_test[c1], label=\"Class 1\")\n",
        "plt.xlabel('x')\n",
        "plt.ylabel('y')\n",
        "plt.legend()\n",
        "\n",
        "# Scatter plot of the gradients versus iterations\n",
        "plt.figure(2)\n",
        "plt.plot(np.array(grad_list)*lr)\n",
        "plt.xlabel('iteration')\n",
        "plt.ylabel('gradient')\n",
        "plt.show()\n",
        "\n",
        "print(w)"
      ],
      "execution_count": 38,
      "outputs": [
        {
          "output_type": "display_data",
          "data": {
            "image/png": "[encoded data removed]",
            "text/plain": [
              "<Figure size 432x288 with 1 Axes>"
            ]
          },
          "metadata": {
            "needs_background": "light"
          }
        },
        {
          "output_type": "display_data",
          "data": {
            "image/png": "[encoded data removed]",
            "text/plain": [
              "<Figure size 432x288 with 1 Axes>"
            ]
          },
          "metadata": {
            "needs_background": "light"
          }
        },
        {
          "output_type": "stream",
          "name": "stdout",
          "text": [
            "[[-7.92528668]\n",
            " [ 1.51909377]]\n"
          ]
        }
      ]
    },
    {
      "cell_type": "markdown",
      "metadata": {
        "id": "z39uXnN4cO9i"
      },
      "source": [
        "# Multinomial (softmax)"
      ]
    },
    {
      "cell_type": "code",
      "metadata": {
        "colab": {
          "base_uri": "https://localhost:8080/",
          "height": 279
        },
        "id": "DkeaKX-kcfHc",
        "outputId": "754d2556-8274-445d-a14c-f40f8e305849"
      },
      "source": [
        "c0 = np.random.multivariate_normal([0, 0], np.eye(2), n).T  # (2, 100)\n",
        "c1 = np.random.multivariate_normal([-2, 2], np.eye(2), n).T\n",
        "c2 = np.random.multivariate_normal([2, 2], np.eye(2), n).T\n",
        "\n",
        "plt.scatter(*c0, label='Class 0')\n",
        "plt.scatter(*c1, label='Class 1')\n",
        "plt.scatter(*c2, label='Class 2')\n",
        "plt.xlabel('x1')\n",
        "plt.ylabel('x2')\n",
        "plt.legend()\n",
        "plt.show()"
      ],
      "execution_count": null,
      "outputs": [
        {
          "output_type": "display_data",
          "data": {
            "image/png": "[encoded data removed]",
            "text/plain": [
              "<Figure size 432x288 with 1 Axes>"
            ]
          },
          "metadata": {
            "needs_background": "light"
          }
        }
      ]
    },
    {
      "cell_type": "markdown",
      "metadata": {
        "id": "yoKOZmfIciQ5"
      },
      "source": [
        "#### Fit model\n",
        "\n",
        "Just like before\n",
        "* Compute current softmax output using W and X (a $3 \\times m$ data matrix )\n",
        "* Compute the avg. log-likelihood\n",
        "* Compute the avg. gradient (a 3x3 matrix)\n",
        "* Update W\n",
        "\n",
        "What classification rate do you get?"
      ]
    },
    {
      "cell_type": "code",
      "metadata": {
        "id": "JFTKiWhackJD"
      },
      "source": [
        "# Put Code here"
      ],
      "execution_count": null,
      "outputs": []
    },
    {
      "cell_type": "markdown",
      "metadata": {
        "id": "nmMygS04ctyB"
      },
      "source": [
        "Now let's try it out on MNIST data"
      ]
    },
    {
      "cell_type": "code",
      "metadata": {
        "id": "uWoCW8L1cr_3"
      },
      "source": [
        "mnist_train_dataset = datasets.MNIST('', train=True, download=True)\n",
        "mnist_test_dataset = datasets.MNIST('', train=False, download=True)\n",
        "\n",
        "x_train = np.array(mnist_train_dataset.data)\n",
        "y_train = np.array(mnist_train_dataset.targets)\n",
        "\n",
        "x_test = np.array(mnist_test_dataset.data)\n",
        "y_test = np.array(mnist_test_dataset.targets)"
      ],
      "execution_count": null,
      "outputs": []
    },
    {
      "cell_type": "markdown",
      "metadata": {
        "id": "QL2HCwTSc_vX"
      },
      "source": [
        "Now repeat the same steps as above.\n",
        "\n",
        "What classification rate do you get? Is it better than last week?"
      ]
    },
    {
      "cell_type": "code",
      "metadata": {
        "id": "3fhlPOxEc0bh"
      },
      "source": [
        "# One-hot encode labels\n",
        "y_train = sklearn.preprocessing.label_binarize(y_train, range(10))\n",
        "y_test = sklearn.preprocessing.label_binarize(y_test, range(10))\n",
        "\n",
        "# Normalize images\n",
        "x_train, x_test = x_train / 255 - 0.5, x_test / 255 - 0.5\n",
        "\n",
        "# Vectorize\n",
        "d_data = np.prod(x_train.shape[1:])\n",
        "x_train = x_train.reshape((-1, d_data))\n",
        "x_test = x_test.reshape((-1, d_data))\n",
        "\n",
        "# Store images/labels in columns\n",
        "x_train, y_train, x_test, y_test = x_train.T, y_train.T, x_test.T, y_test.T\n",
        "\n",
        "# Add bias term\n",
        "x_train = np.concatenate((np.ones((1, 60000)), x_train), axis=0)\n",
        "x_test = np.concatenate((np.ones((1, 10000)), x_test), axis=0)\n",
        "d_data += 1\n",
        "\n",
        "# Initialize parameters\n",
        "w = np.random.randn(d_data, 10) * 1e-2"
      ],
      "execution_count": null,
      "outputs": []
    }
  ]
}