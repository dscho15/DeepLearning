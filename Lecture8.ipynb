{
  "nbformat": 4,
  "nbformat_minor": 0,
  "metadata": {
    "colab": {
      "name": "Lecture8.ipynb",
      "provenance": [],
      "collapsed_sections": [],
      "authorship_tag": "ABX9TyMlsoylIQcdxPQC4i/EnbuK",
      "include_colab_link": true
    },
    "kernelspec": {
      "name": "python3",
      "display_name": "Python 3"
    },
    "language_info": {
      "name": "python"
    },
    "accelerator": "GPU",
    "widgets": {
      "application/vnd.jupyter.widget-state+json": {
        "18e3ef84f1b646a7988e851e9e466905": {
          "model_module": "@jupyter-widgets/controls",
          "model_name": "HBoxModel",
          "model_module_version": "1.5.0",
          "state": {
            "_view_name": "HBoxView",
            "_dom_classes": [],
            "_model_name": "HBoxModel",
            "_view_module": "@jupyter-widgets/controls",
            "_model_module_version": "1.5.0",
            "_view_count": null,
            "_view_module_version": "1.5.0",
            "box_style": "",
            "layout": "IPY_MODEL_5d426962b9874139ac25edc0ea74754e",
            "_model_module": "@jupyter-widgets/controls",
            "children": [
              "IPY_MODEL_c689391acece4af2b5e2529d3fc97425",
              "IPY_MODEL_7ec07a7bb9ae478196f4c493080d7b5a",
              "IPY_MODEL_441a7484e25042b8b2f0a2fd4ebc8782"
            ]
          }
        },
        "5d426962b9874139ac25edc0ea74754e": {
          "model_module": "@jupyter-widgets/base",
          "model_name": "LayoutModel",
          "model_module_version": "1.2.0",
          "state": {
            "_view_name": "LayoutView",
            "grid_template_rows": null,
            "right": null,
            "justify_content": null,
            "_view_module": "@jupyter-widgets/base",
            "overflow": null,
            "_model_module_version": "1.2.0",
            "_view_count": null,
            "flex_flow": null,
            "width": null,
            "min_width": null,
            "border": null,
            "align_items": null,
            "bottom": null,
            "_model_module": "@jupyter-widgets/base",
            "top": null,
            "grid_column": null,
            "overflow_y": null,
            "overflow_x": null,
            "grid_auto_flow": null,
            "grid_area": null,
            "grid_template_columns": null,
            "flex": null,
            "_model_name": "LayoutModel",
            "justify_items": null,
            "grid_row": null,
            "max_height": null,
            "align_content": null,
            "visibility": null,
            "align_self": null,
            "height": null,
            "min_height": null,
            "padding": null,
            "grid_auto_rows": null,
            "grid_gap": null,
            "max_width": null,
            "order": null,
            "_view_module_version": "1.2.0",
            "grid_template_areas": null,
            "object_position": null,
            "object_fit": null,
            "grid_auto_columns": null,
            "margin": null,
            "display": null,
            "left": null
          }
        },
        "c689391acece4af2b5e2529d3fc97425": {
          "model_module": "@jupyter-widgets/controls",
          "model_name": "HTMLModel",
          "model_module_version": "1.5.0",
          "state": {
            "_view_name": "HTMLView",
            "style": "IPY_MODEL_36e98f7d70b440fbb6b156a6d4c9f024",
            "_dom_classes": [],
            "description": "",
            "_model_name": "HTMLModel",
            "placeholder": "​",
            "_view_module": "@jupyter-widgets/controls",
            "_model_module_version": "1.5.0",
            "value": "100%",
            "_view_count": null,
            "_view_module_version": "1.5.0",
            "description_tooltip": null,
            "_model_module": "@jupyter-widgets/controls",
            "layout": "IPY_MODEL_f76e4c0843d5433c8cdde9cae4740dcf"
          }
        },
        "7ec07a7bb9ae478196f4c493080d7b5a": {
          "model_module": "@jupyter-widgets/controls",
          "model_name": "FloatProgressModel",
          "model_module_version": "1.5.0",
          "state": {
            "_view_name": "ProgressView",
            "style": "IPY_MODEL_8c9fbb0ecb79428e94f0aec04e99602b",
            "_dom_classes": [],
            "description": "",
            "_model_name": "FloatProgressModel",
            "bar_style": "success",
            "max": 48000,
            "_view_module": "@jupyter-widgets/controls",
            "_model_module_version": "1.5.0",
            "value": 48000,
            "_view_count": null,
            "_view_module_version": "1.5.0",
            "orientation": "horizontal",
            "min": 0,
            "description_tooltip": null,
            "_model_module": "@jupyter-widgets/controls",
            "layout": "IPY_MODEL_da35b4eca2da406ab4125968e5bf5364"
          }
        },
        "441a7484e25042b8b2f0a2fd4ebc8782": {
          "model_module": "@jupyter-widgets/controls",
          "model_name": "HTMLModel",
          "model_module_version": "1.5.0",
          "state": {
            "_view_name": "HTMLView",
            "style": "IPY_MODEL_c483b334fe0141fe96bb5ecee637f207",
            "_dom_classes": [],
            "description": "",
            "_model_name": "HTMLModel",
            "placeholder": "​",
            "_view_module": "@jupyter-widgets/controls",
            "_model_module_version": "1.5.0",
            "value": " 48000/48000 [00:00&lt;00:00, 126158.48it/s]",
            "_view_count": null,
            "_view_module_version": "1.5.0",
            "description_tooltip": null,
            "_model_module": "@jupyter-widgets/controls",
            "layout": "IPY_MODEL_dc804f4ac4e041169acf883a592111c9"
          }
        },
        "36e98f7d70b440fbb6b156a6d4c9f024": {
          "model_module": "@jupyter-widgets/controls",
          "model_name": "DescriptionStyleModel",
          "model_module_version": "1.5.0",
          "state": {
            "_view_name": "StyleView",
            "_model_name": "DescriptionStyleModel",
            "description_width": "",
            "_view_module": "@jupyter-widgets/base",
            "_model_module_version": "1.5.0",
            "_view_count": null,
            "_view_module_version": "1.2.0",
            "_model_module": "@jupyter-widgets/controls"
          }
        },
        "f76e4c0843d5433c8cdde9cae4740dcf": {
          "model_module": "@jupyter-widgets/base",
          "model_name": "LayoutModel",
          "model_module_version": "1.2.0",
          "state": {
            "_view_name": "LayoutView",
            "grid_template_rows": null,
            "right": null,
            "justify_content": null,
            "_view_module": "@jupyter-widgets/base",
            "overflow": null,
            "_model_module_version": "1.2.0",
            "_view_count": null,
            "flex_flow": null,
            "width": null,
            "min_width": null,
            "border": null,
            "align_items": null,
            "bottom": null,
            "_model_module": "@jupyter-widgets/base",
            "top": null,
            "grid_column": null,
            "overflow_y": null,
            "overflow_x": null,
            "grid_auto_flow": null,
            "grid_area": null,
            "grid_template_columns": null,
            "flex": null,
            "_model_name": "LayoutModel",
            "justify_items": null,
            "grid_row": null,
            "max_height": null,
            "align_content": null,
            "visibility": null,
            "align_self": null,
            "height": null,
            "min_height": null,
            "padding": null,
            "grid_auto_rows": null,
            "grid_gap": null,
            "max_width": null,
            "order": null,
            "_view_module_version": "1.2.0",
            "grid_template_areas": null,
            "object_position": null,
            "object_fit": null,
            "grid_auto_columns": null,
            "margin": null,
            "display": null,
            "left": null
          }
        },
        "8c9fbb0ecb79428e94f0aec04e99602b": {
          "model_module": "@jupyter-widgets/controls",
          "model_name": "ProgressStyleModel",
          "model_module_version": "1.5.0",
          "state": {
            "_view_name": "StyleView",
            "_model_name": "ProgressStyleModel",
            "description_width": "",
            "_view_module": "@jupyter-widgets/base",
            "_model_module_version": "1.5.0",
            "_view_count": null,
            "_view_module_version": "1.2.0",
            "bar_color": null,
            "_model_module": "@jupyter-widgets/controls"
          }
        },
        "da35b4eca2da406ab4125968e5bf5364": {
          "model_module": "@jupyter-widgets/base",
          "model_name": "LayoutModel",
          "model_module_version": "1.2.0",
          "state": {
            "_view_name": "LayoutView",
            "grid_template_rows": null,
            "right": null,
            "justify_content": null,
            "_view_module": "@jupyter-widgets/base",
            "overflow": null,
            "_model_module_version": "1.2.0",
            "_view_count": null,
            "flex_flow": null,
            "width": null,
            "min_width": null,
            "border": null,
            "align_items": null,
            "bottom": null,
            "_model_module": "@jupyter-widgets/base",
            "top": null,
            "grid_column": null,
            "overflow_y": null,
            "overflow_x": null,
            "grid_auto_flow": null,
            "grid_area": null,
            "grid_template_columns": null,
            "flex": null,
            "_model_name": "LayoutModel",
            "justify_items": null,
            "grid_row": null,
            "max_height": null,
            "align_content": null,
            "visibility": null,
            "align_self": null,
            "height": null,
            "min_height": null,
            "padding": null,
            "grid_auto_rows": null,
            "grid_gap": null,
            "max_width": null,
            "order": null,
            "_view_module_version": "1.2.0",
            "grid_template_areas": null,
            "object_position": null,
            "object_fit": null,
            "grid_auto_columns": null,
            "margin": null,
            "display": null,
            "left": null
          }
        },
        "c483b334fe0141fe96bb5ecee637f207": {
          "model_module": "@jupyter-widgets/controls",
          "model_name": "DescriptionStyleModel",
          "model_module_version": "1.5.0",
          "state": {
            "_view_name": "StyleView",
            "_model_name": "DescriptionStyleModel",
            "description_width": "",
            "_view_module": "@jupyter-widgets/base",
            "_model_module_version": "1.5.0",
            "_view_count": null,
            "_view_module_version": "1.2.0",
            "_model_module": "@jupyter-widgets/controls"
          }
        },
        "dc804f4ac4e041169acf883a592111c9": {
          "model_module": "@jupyter-widgets/base",
          "model_name": "LayoutModel",
          "model_module_version": "1.2.0",
          "state": {
            "_view_name": "LayoutView",
            "grid_template_rows": null,
            "right": null,
            "justify_content": null,
            "_view_module": "@jupyter-widgets/base",
            "overflow": null,
            "_model_module_version": "1.2.0",
            "_view_count": null,
            "flex_flow": null,
            "width": null,
            "min_width": null,
            "border": null,
            "align_items": null,
            "bottom": null,
            "_model_module": "@jupyter-widgets/base",
            "top": null,
            "grid_column": null,
            "overflow_y": null,
            "overflow_x": null,
            "grid_auto_flow": null,
            "grid_area": null,
            "grid_template_columns": null,
            "flex": null,
            "_model_name": "LayoutModel",
            "justify_items": null,
            "grid_row": null,
            "max_height": null,
            "align_content": null,
            "visibility": null,
            "align_self": null,
            "height": null,
            "min_height": null,
            "padding": null,
            "grid_auto_rows": null,
            "grid_gap": null,
            "max_width": null,
            "order": null,
            "_view_module_version": "1.2.0",
            "grid_template_areas": null,
            "object_position": null,
            "object_fit": null,
            "grid_auto_columns": null,
            "margin": null,
            "display": null,
            "left": null
          }
        },
        "59bee7aabdde435da9baa269dec91985": {
          "model_module": "@jupyter-widgets/controls",
          "model_name": "HBoxModel",
          "model_module_version": "1.5.0",
          "state": {
            "_view_name": "HBoxView",
            "_dom_classes": [],
            "_model_name": "HBoxModel",
            "_view_module": "@jupyter-widgets/controls",
            "_model_module_version": "1.5.0",
            "_view_count": null,
            "_view_module_version": "1.5.0",
            "box_style": "",
            "layout": "IPY_MODEL_7f219d1c52c94426aa9a67085cbda055",
            "_model_module": "@jupyter-widgets/controls",
            "children": [
              "IPY_MODEL_4b4a7d6064514fcc95f7e916d9472937",
              "IPY_MODEL_2105da00febd435baa968cf744c43bd0",
              "IPY_MODEL_cb8292179fe3479e810323ef47e573e5"
            ]
          }
        },
        "7f219d1c52c94426aa9a67085cbda055": {
          "model_module": "@jupyter-widgets/base",
          "model_name": "LayoutModel",
          "model_module_version": "1.2.0",
          "state": {
            "_view_name": "LayoutView",
            "grid_template_rows": null,
            "right": null,
            "justify_content": null,
            "_view_module": "@jupyter-widgets/base",
            "overflow": null,
            "_model_module_version": "1.2.0",
            "_view_count": null,
            "flex_flow": null,
            "width": null,
            "min_width": null,
            "border": null,
            "align_items": null,
            "bottom": null,
            "_model_module": "@jupyter-widgets/base",
            "top": null,
            "grid_column": null,
            "overflow_y": null,
            "overflow_x": null,
            "grid_auto_flow": null,
            "grid_area": null,
            "grid_template_columns": null,
            "flex": null,
            "_model_name": "LayoutModel",
            "justify_items": null,
            "grid_row": null,
            "max_height": null,
            "align_content": null,
            "visibility": null,
            "align_self": null,
            "height": null,
            "min_height": null,
            "padding": null,
            "grid_auto_rows": null,
            "grid_gap": null,
            "max_width": null,
            "order": null,
            "_view_module_version": "1.2.0",
            "grid_template_areas": null,
            "object_position": null,
            "object_fit": null,
            "grid_auto_columns": null,
            "margin": null,
            "display": null,
            "left": null
          }
        },
        "4b4a7d6064514fcc95f7e916d9472937": {
          "model_module": "@jupyter-widgets/controls",
          "model_name": "HTMLModel",
          "model_module_version": "1.5.0",
          "state": {
            "_view_name": "HTMLView",
            "style": "IPY_MODEL_aea1692e61a94248a25174f875b5b5f3",
            "_dom_classes": [],
            "description": "",
            "_model_name": "HTMLModel",
            "placeholder": "​",
            "_view_module": "@jupyter-widgets/controls",
            "_model_module_version": "1.5.0",
            "value": "100%",
            "_view_count": null,
            "_view_module_version": "1.5.0",
            "description_tooltip": null,
            "_model_module": "@jupyter-widgets/controls",
            "layout": "IPY_MODEL_44dfa631dd874e8a9c241c67516dd54a"
          }
        },
        "2105da00febd435baa968cf744c43bd0": {
          "model_module": "@jupyter-widgets/controls",
          "model_name": "FloatProgressModel",
          "model_module_version": "1.5.0",
          "state": {
            "_view_name": "ProgressView",
            "style": "IPY_MODEL_1bfc126e71bb4d87bc3d16d510328bd3",
            "_dom_classes": [],
            "description": "",
            "_model_name": "FloatProgressModel",
            "bar_style": "success",
            "max": 2000,
            "_view_module": "@jupyter-widgets/controls",
            "_model_module_version": "1.5.0",
            "value": 2000,
            "_view_count": null,
            "_view_module_version": "1.5.0",
            "orientation": "horizontal",
            "min": 0,
            "description_tooltip": null,
            "_model_module": "@jupyter-widgets/controls",
            "layout": "IPY_MODEL_5b8135183d25498f81032b8de636fd75"
          }
        },
        "cb8292179fe3479e810323ef47e573e5": {
          "model_module": "@jupyter-widgets/controls",
          "model_name": "HTMLModel",
          "model_module_version": "1.5.0",
          "state": {
            "_view_name": "HTMLView",
            "style": "IPY_MODEL_de6dea08026f4f949905681f61ba74b1",
            "_dom_classes": [],
            "description": "",
            "_model_name": "HTMLModel",
            "placeholder": "​",
            "_view_module": "@jupyter-widgets/controls",
            "_model_module_version": "1.5.0",
            "value": " 2000/2000 [00:00&lt;00:00, 31954.29it/s]",
            "_view_count": null,
            "_view_module_version": "1.5.0",
            "description_tooltip": null,
            "_model_module": "@jupyter-widgets/controls",
            "layout": "IPY_MODEL_29eab1526f2c495493de126d364c14fb"
          }
        },
        "aea1692e61a94248a25174f875b5b5f3": {
          "model_module": "@jupyter-widgets/controls",
          "model_name": "DescriptionStyleModel",
          "model_module_version": "1.5.0",
          "state": {
            "_view_name": "StyleView",
            "_model_name": "DescriptionStyleModel",
            "description_width": "",
            "_view_module": "@jupyter-widgets/base",
            "_model_module_version": "1.5.0",
            "_view_count": null,
            "_view_module_version": "1.2.0",
            "_model_module": "@jupyter-widgets/controls"
          }
        },
        "44dfa631dd874e8a9c241c67516dd54a": {
          "model_module": "@jupyter-widgets/base",
          "model_name": "LayoutModel",
          "model_module_version": "1.2.0",
          "state": {
            "_view_name": "LayoutView",
            "grid_template_rows": null,
            "right": null,
            "justify_content": null,
            "_view_module": "@jupyter-widgets/base",
            "overflow": null,
            "_model_module_version": "1.2.0",
            "_view_count": null,
            "flex_flow": null,
            "width": null,
            "min_width": null,
            "border": null,
            "align_items": null,
            "bottom": null,
            "_model_module": "@jupyter-widgets/base",
            "top": null,
            "grid_column": null,
            "overflow_y": null,
            "overflow_x": null,
            "grid_auto_flow": null,
            "grid_area": null,
            "grid_template_columns": null,
            "flex": null,
            "_model_name": "LayoutModel",
            "justify_items": null,
            "grid_row": null,
            "max_height": null,
            "align_content": null,
            "visibility": null,
            "align_self": null,
            "height": null,
            "min_height": null,
            "padding": null,
            "grid_auto_rows": null,
            "grid_gap": null,
            "max_width": null,
            "order": null,
            "_view_module_version": "1.2.0",
            "grid_template_areas": null,
            "object_position": null,
            "object_fit": null,
            "grid_auto_columns": null,
            "margin": null,
            "display": null,
            "left": null
          }
        },
        "1bfc126e71bb4d87bc3d16d510328bd3": {
          "model_module": "@jupyter-widgets/controls",
          "model_name": "ProgressStyleModel",
          "model_module_version": "1.5.0",
          "state": {
            "_view_name": "StyleView",
            "_model_name": "ProgressStyleModel",
            "description_width": "",
            "_view_module": "@jupyter-widgets/base",
            "_model_module_version": "1.5.0",
            "_view_count": null,
            "_view_module_version": "1.2.0",
            "bar_color": null,
            "_model_module": "@jupyter-widgets/controls"
          }
        },
        "5b8135183d25498f81032b8de636fd75": {
          "model_module": "@jupyter-widgets/base",
          "model_name": "LayoutModel",
          "model_module_version": "1.2.0",
          "state": {
            "_view_name": "LayoutView",
            "grid_template_rows": null,
            "right": null,
            "justify_content": null,
            "_view_module": "@jupyter-widgets/base",
            "overflow": null,
            "_model_module_version": "1.2.0",
            "_view_count": null,
            "flex_flow": null,
            "width": null,
            "min_width": null,
            "border": null,
            "align_items": null,
            "bottom": null,
            "_model_module": "@jupyter-widgets/base",
            "top": null,
            "grid_column": null,
            "overflow_y": null,
            "overflow_x": null,
            "grid_auto_flow": null,
            "grid_area": null,
            "grid_template_columns": null,
            "flex": null,
            "_model_name": "LayoutModel",
            "justify_items": null,
            "grid_row": null,
            "max_height": null,
            "align_content": null,
            "visibility": null,
            "align_self": null,
            "height": null,
            "min_height": null,
            "padding": null,
            "grid_auto_rows": null,
            "grid_gap": null,
            "max_width": null,
            "order": null,
            "_view_module_version": "1.2.0",
            "grid_template_areas": null,
            "object_position": null,
            "object_fit": null,
            "grid_auto_columns": null,
            "margin": null,
            "display": null,
            "left": null
          }
        },
        "de6dea08026f4f949905681f61ba74b1": {
          "model_module": "@jupyter-widgets/controls",
          "model_name": "DescriptionStyleModel",
          "model_module_version": "1.5.0",
          "state": {
            "_view_name": "StyleView",
            "_model_name": "DescriptionStyleModel",
            "description_width": "",
            "_view_module": "@jupyter-widgets/base",
            "_model_module_version": "1.5.0",
            "_view_count": null,
            "_view_module_version": "1.2.0",
            "_model_module": "@jupyter-widgets/controls"
          }
        },
        "29eab1526f2c495493de126d364c14fb": {
          "model_module": "@jupyter-widgets/base",
          "model_name": "LayoutModel",
          "model_module_version": "1.2.0",
          "state": {
            "_view_name": "LayoutView",
            "grid_template_rows": null,
            "right": null,
            "justify_content": null,
            "_view_module": "@jupyter-widgets/base",
            "overflow": null,
            "_model_module_version": "1.2.0",
            "_view_count": null,
            "flex_flow": null,
            "width": null,
            "min_width": null,
            "border": null,
            "align_items": null,
            "bottom": null,
            "_model_module": "@jupyter-widgets/base",
            "top": null,
            "grid_column": null,
            "overflow_y": null,
            "overflow_x": null,
            "grid_auto_flow": null,
            "grid_area": null,
            "grid_template_columns": null,
            "flex": null,
            "_model_name": "LayoutModel",
            "justify_items": null,
            "grid_row": null,
            "max_height": null,
            "align_content": null,
            "visibility": null,
            "align_self": null,
            "height": null,
            "min_height": null,
            "padding": null,
            "grid_auto_rows": null,
            "grid_gap": null,
            "max_width": null,
            "order": null,
            "_view_module_version": "1.2.0",
            "grid_template_areas": null,
            "object_position": null,
            "object_fit": null,
            "grid_auto_columns": null,
            "margin": null,
            "display": null,
            "left": null
          }
        },
        "518c02f07b224cbf801996f03087b461": {
          "model_module": "@jupyter-widgets/controls",
          "model_name": "HBoxModel",
          "model_module_version": "1.5.0",
          "state": {
            "_view_name": "HBoxView",
            "_dom_classes": [],
            "_model_name": "HBoxModel",
            "_view_module": "@jupyter-widgets/controls",
            "_model_module_version": "1.5.0",
            "_view_count": null,
            "_view_module_version": "1.5.0",
            "box_style": "",
            "layout": "IPY_MODEL_5f9fe233d8cb4aeaaec43d55874b720b",
            "_model_module": "@jupyter-widgets/controls",
            "children": [
              "IPY_MODEL_79e1e611438349ca9d6c40e5c8b3eeb0",
              "IPY_MODEL_d6521c67f5c14791b93fa74289086acd",
              "IPY_MODEL_38d47a550dc1428ba175ea5ee58e4f39"
            ]
          }
        },
        "5f9fe233d8cb4aeaaec43d55874b720b": {
          "model_module": "@jupyter-widgets/base",
          "model_name": "LayoutModel",
          "model_module_version": "1.2.0",
          "state": {
            "_view_name": "LayoutView",
            "grid_template_rows": null,
            "right": null,
            "justify_content": null,
            "_view_module": "@jupyter-widgets/base",
            "overflow": null,
            "_model_module_version": "1.2.0",
            "_view_count": null,
            "flex_flow": null,
            "width": null,
            "min_width": null,
            "border": null,
            "align_items": null,
            "bottom": null,
            "_model_module": "@jupyter-widgets/base",
            "top": null,
            "grid_column": null,
            "overflow_y": null,
            "overflow_x": null,
            "grid_auto_flow": null,
            "grid_area": null,
            "grid_template_columns": null,
            "flex": null,
            "_model_name": "LayoutModel",
            "justify_items": null,
            "grid_row": null,
            "max_height": null,
            "align_content": null,
            "visibility": null,
            "align_self": null,
            "height": null,
            "min_height": null,
            "padding": null,
            "grid_auto_rows": null,
            "grid_gap": null,
            "max_width": null,
            "order": null,
            "_view_module_version": "1.2.0",
            "grid_template_areas": null,
            "object_position": null,
            "object_fit": null,
            "grid_auto_columns": null,
            "margin": null,
            "display": null,
            "left": null
          }
        },
        "79e1e611438349ca9d6c40e5c8b3eeb0": {
          "model_module": "@jupyter-widgets/controls",
          "model_name": "HTMLModel",
          "model_module_version": "1.5.0",
          "state": {
            "_view_name": "HTMLView",
            "style": "IPY_MODEL_213ffe61bd3040848ba1de271d8a82df",
            "_dom_classes": [],
            "description": "",
            "_model_name": "HTMLModel",
            "placeholder": "​",
            "_view_module": "@jupyter-widgets/controls",
            "_model_module_version": "1.5.0",
            "value": "100%",
            "_view_count": null,
            "_view_module_version": "1.5.0",
            "description_tooltip": null,
            "_model_module": "@jupyter-widgets/controls",
            "layout": "IPY_MODEL_61fb7c87af154fc88893d100d0b37ef8"
          }
        },
        "d6521c67f5c14791b93fa74289086acd": {
          "model_module": "@jupyter-widgets/controls",
          "model_name": "FloatProgressModel",
          "model_module_version": "1.5.0",
          "state": {
            "_view_name": "ProgressView",
            "style": "IPY_MODEL_c9286c9ccce04684af6736e8bd31b377",
            "_dom_classes": [],
            "description": "",
            "_model_name": "FloatProgressModel",
            "bar_style": "success",
            "max": 20,
            "_view_module": "@jupyter-widgets/controls",
            "_model_module_version": "1.5.0",
            "value": 20,
            "_view_count": null,
            "_view_module_version": "1.5.0",
            "orientation": "horizontal",
            "min": 0,
            "description_tooltip": null,
            "_model_module": "@jupyter-widgets/controls",
            "layout": "IPY_MODEL_b9075dab086540ceb48f3c5f784c790f"
          }
        },
        "38d47a550dc1428ba175ea5ee58e4f39": {
          "model_module": "@jupyter-widgets/controls",
          "model_name": "HTMLModel",
          "model_module_version": "1.5.0",
          "state": {
            "_view_name": "HTMLView",
            "style": "IPY_MODEL_f39e0ff68ed24b8cb495d762de756509",
            "_dom_classes": [],
            "description": "",
            "_model_name": "HTMLModel",
            "placeholder": "​",
            "_view_module": "@jupyter-widgets/controls",
            "_model_module_version": "1.5.0",
            "value": " 20/20 [04:08&lt;00:00, 12.42s/it]",
            "_view_count": null,
            "_view_module_version": "1.5.0",
            "description_tooltip": null,
            "_model_module": "@jupyter-widgets/controls",
            "layout": "IPY_MODEL_3485c3764b02458ebbd4d57272014096"
          }
        },
        "213ffe61bd3040848ba1de271d8a82df": {
          "model_module": "@jupyter-widgets/controls",
          "model_name": "DescriptionStyleModel",
          "model_module_version": "1.5.0",
          "state": {
            "_view_name": "StyleView",
            "_model_name": "DescriptionStyleModel",
            "description_width": "",
            "_view_module": "@jupyter-widgets/base",
            "_model_module_version": "1.5.0",
            "_view_count": null,
            "_view_module_version": "1.2.0",
            "_model_module": "@jupyter-widgets/controls"
          }
        },
        "61fb7c87af154fc88893d100d0b37ef8": {
          "model_module": "@jupyter-widgets/base",
          "model_name": "LayoutModel",
          "model_module_version": "1.2.0",
          "state": {
            "_view_name": "LayoutView",
            "grid_template_rows": null,
            "right": null,
            "justify_content": null,
            "_view_module": "@jupyter-widgets/base",
            "overflow": null,
            "_model_module_version": "1.2.0",
            "_view_count": null,
            "flex_flow": null,
            "width": null,
            "min_width": null,
            "border": null,
            "align_items": null,
            "bottom": null,
            "_model_module": "@jupyter-widgets/base",
            "top": null,
            "grid_column": null,
            "overflow_y": null,
            "overflow_x": null,
            "grid_auto_flow": null,
            "grid_area": null,
            "grid_template_columns": null,
            "flex": null,
            "_model_name": "LayoutModel",
            "justify_items": null,
            "grid_row": null,
            "max_height": null,
            "align_content": null,
            "visibility": null,
            "align_self": null,
            "height": null,
            "min_height": null,
            "padding": null,
            "grid_auto_rows": null,
            "grid_gap": null,
            "max_width": null,
            "order": null,
            "_view_module_version": "1.2.0",
            "grid_template_areas": null,
            "object_position": null,
            "object_fit": null,
            "grid_auto_columns": null,
            "margin": null,
            "display": null,
            "left": null
          }
        },
        "c9286c9ccce04684af6736e8bd31b377": {
          "model_module": "@jupyter-widgets/controls",
          "model_name": "ProgressStyleModel",
          "model_module_version": "1.5.0",
          "state": {
            "_view_name": "StyleView",
            "_model_name": "ProgressStyleModel",
            "description_width": "",
            "_view_module": "@jupyter-widgets/base",
            "_model_module_version": "1.5.0",
            "_view_count": null,
            "_view_module_version": "1.2.0",
            "bar_color": null,
            "_model_module": "@jupyter-widgets/controls"
          }
        },
        "b9075dab086540ceb48f3c5f784c790f": {
          "model_module": "@jupyter-widgets/base",
          "model_name": "LayoutModel",
          "model_module_version": "1.2.0",
          "state": {
            "_view_name": "LayoutView",
            "grid_template_rows": null,
            "right": null,
            "justify_content": null,
            "_view_module": "@jupyter-widgets/base",
            "overflow": null,
            "_model_module_version": "1.2.0",
            "_view_count": null,
            "flex_flow": null,
            "width": null,
            "min_width": null,
            "border": null,
            "align_items": null,
            "bottom": null,
            "_model_module": "@jupyter-widgets/base",
            "top": null,
            "grid_column": null,
            "overflow_y": null,
            "overflow_x": null,
            "grid_auto_flow": null,
            "grid_area": null,
            "grid_template_columns": null,
            "flex": null,
            "_model_name": "LayoutModel",
            "justify_items": null,
            "grid_row": null,
            "max_height": null,
            "align_content": null,
            "visibility": null,
            "align_self": null,
            "height": null,
            "min_height": null,
            "padding": null,
            "grid_auto_rows": null,
            "grid_gap": null,
            "max_width": null,
            "order": null,
            "_view_module_version": "1.2.0",
            "grid_template_areas": null,
            "object_position": null,
            "object_fit": null,
            "grid_auto_columns": null,
            "margin": null,
            "display": null,
            "left": null
          }
        },
        "f39e0ff68ed24b8cb495d762de756509": {
          "model_module": "@jupyter-widgets/controls",
          "model_name": "DescriptionStyleModel",
          "model_module_version": "1.5.0",
          "state": {
            "_view_name": "StyleView",
            "_model_name": "DescriptionStyleModel",
            "description_width": "",
            "_view_module": "@jupyter-widgets/base",
            "_model_module_version": "1.5.0",
            "_view_count": null,
            "_view_module_version": "1.2.0",
            "_model_module": "@jupyter-widgets/controls"
          }
        },
        "3485c3764b02458ebbd4d57272014096": {
          "model_module": "@jupyter-widgets/base",
          "model_name": "LayoutModel",
          "model_module_version": "1.2.0",
          "state": {
            "_view_name": "LayoutView",
            "grid_template_rows": null,
            "right": null,
            "justify_content": null,
            "_view_module": "@jupyter-widgets/base",
            "overflow": null,
            "_model_module_version": "1.2.0",
            "_view_count": null,
            "flex_flow": null,
            "width": null,
            "min_width": null,
            "border": null,
            "align_items": null,
            "bottom": null,
            "_model_module": "@jupyter-widgets/base",
            "top": null,
            "grid_column": null,
            "overflow_y": null,
            "overflow_x": null,
            "grid_auto_flow": null,
            "grid_area": null,
            "grid_template_columns": null,
            "flex": null,
            "_model_name": "LayoutModel",
            "justify_items": null,
            "grid_row": null,
            "max_height": null,
            "align_content": null,
            "visibility": null,
            "align_self": null,
            "height": null,
            "min_height": null,
            "padding": null,
            "grid_auto_rows": null,
            "grid_gap": null,
            "max_width": null,
            "order": null,
            "_view_module_version": "1.2.0",
            "grid_template_areas": null,
            "object_position": null,
            "object_fit": null,
            "grid_auto_columns": null,
            "margin": null,
            "display": null,
            "left": null
          }
        }
      }
    }
  },
  "cells": [
    {
      "cell_type": "markdown",
      "metadata": {
        "id": "view-in-github",
        "colab_type": "text"
      },
      "source": [
        "<a href=\"https://colab.research.google.com/github/dscho15/deep-learning/blob/main/Lecture8.ipynb\" target=\"_parent\"><img src=\"https://colab.research.google.com/assets/colab-badge.svg\" alt=\"Open In Colab\"/></a>"
      ]
    },
    {
      "cell_type": "code",
      "metadata": {
        "id": "fGW9NpPLrhGD"
      },
      "source": [
        "import matplotlib.pyplot as plt\n",
        "import numpy as np\n",
        "import cv2\n",
        "import torch\n",
        "from torch import nn\n",
        "from torch.nn import functional as F\n",
        "import torchvision\n",
        "from tqdm.notebook import tqdm\n",
        "from scipy import ndimage\n",
        "from google_drive_downloader import GoogleDriveDownloader as gdd"
      ],
      "execution_count": 42,
      "outputs": []
    },
    {
      "cell_type": "markdown",
      "metadata": {
        "id": "1Y51yv0E7VHV"
      },
      "source": [
        "# Online resources used:\n",
        "\n",
        "https://debuggercafe.com/getting-started-with-variational-autoencoder-using-pytorch/\n",
        "\n",
        "https://www.youtube.com/watch?v=IQpP_cH8rrA\n",
        "\n",
        "https://github.com/rasbt/stat453-deep-learning-ss21"
      ]
    },
    {
      "cell_type": "code",
      "metadata": {
        "colab": {
          "base_uri": "https://localhost:8080/"
        },
        "id": "21HZ97q0rtvM",
        "outputId": "6730f0e3-05e2-4b0a-efc5-1d5ce5c0f3db"
      },
      "source": [
        "gdd.download_file_from_google_drive('1Uzgc9c0MSYP4y9ia7mvwCGggjhTDEmrk', '~/img_align_celeba_50k.npz')\n",
        "blob = np.load('~/img_align_celeba_50k.npz')\n",
        "x_train, x_test = blob['x_train'], blob['x_test']\n",
        "dim = x_train.shape[1:]\n",
        "n_valid = 2000\n",
        "x_train, x_valid = x_train[:-n_valid], x_train[-n_valid:]\n",
        "\n",
        "print(f'x_train shape: {x_train.shape}')\n",
        "print(f'x_valid shape: {x_valid.shape}')\n",
        "print(f'dtype: {x_train.dtype}')"
      ],
      "execution_count": 2,
      "outputs": [
        {
          "output_type": "stream",
          "name": "stdout",
          "text": [
            "Downloading 1Uzgc9c0MSYP4y9ia7mvwCGggjhTDEmrk into ~/img_align_celeba_50k.npz... Done.\n",
            "x_train shape: (48000, 32, 32, 3)\n",
            "x_valid shape: (2000, 32, 32, 3)\n",
            "dtype: float32\n"
          ]
        }
      ]
    },
    {
      "cell_type": "code",
      "metadata": {
        "colab": {
          "base_uri": "https://localhost:8080/",
          "height": 81,
          "referenced_widgets": [
            "18e3ef84f1b646a7988e851e9e466905",
            "5d426962b9874139ac25edc0ea74754e",
            "c689391acece4af2b5e2529d3fc97425",
            "7ec07a7bb9ae478196f4c493080d7b5a",
            "441a7484e25042b8b2f0a2fd4ebc8782",
            "36e98f7d70b440fbb6b156a6d4c9f024",
            "f76e4c0843d5433c8cdde9cae4740dcf",
            "8c9fbb0ecb79428e94f0aec04e99602b",
            "da35b4eca2da406ab4125968e5bf5364",
            "c483b334fe0141fe96bb5ecee637f207",
            "dc804f4ac4e041169acf883a592111c9",
            "59bee7aabdde435da9baa269dec91985",
            "7f219d1c52c94426aa9a67085cbda055",
            "4b4a7d6064514fcc95f7e916d9472937",
            "2105da00febd435baa968cf744c43bd0",
            "cb8292179fe3479e810323ef47e573e5",
            "aea1692e61a94248a25174f875b5b5f3",
            "44dfa631dd874e8a9c241c67516dd54a",
            "1bfc126e71bb4d87bc3d16d510328bd3",
            "5b8135183d25498f81032b8de636fd75",
            "de6dea08026f4f949905681f61ba74b1",
            "29eab1526f2c495493de126d364c14fb"
          ]
        },
        "id": "ZAN-UednrvWn",
        "outputId": "b1173411-1c67-4790-82b8-ec912fdc8909"
      },
      "source": [
        "x_train_blur = np.empty_like(x_train)\n",
        "for i in tqdm(range(len(x_train))):\n",
        "  # apply your noise model here\n",
        "  # x_train_blur[i] = cv2.GaussianBlur(x_train[i], (3, 3), cv2.BORDER_DEFAULT)\n",
        "  x_train_blur[i] = x_train[i]\n",
        "\n",
        "x_valid_blur = np.empty_like(x_valid)\n",
        "for i in tqdm(range(len(x_valid))):\n",
        "  # apply your noise model here\n",
        "  # x_valid_blur[i] = cv2.GaussianBlur(x_valid[i], (3, 3), cv2.BORDER_DEFAULT)\n",
        "  x_valid_blur[i] = x_valid[i]"
      ],
      "execution_count": 3,
      "outputs": [
        {
          "output_type": "display_data",
          "data": {
            "application/vnd.jupyter.widget-view+json": {
              "model_id": "18e3ef84f1b646a7988e851e9e466905",
              "version_minor": 0,
              "version_major": 2
            },
            "text/plain": [
              "  0%|          | 0/48000 [00:00<?, ?it/s]"
            ]
          },
          "metadata": {}
        },
        {
          "output_type": "display_data",
          "data": {
            "application/vnd.jupyter.widget-view+json": {
              "model_id": "59bee7aabdde435da9baa269dec91985",
              "version_minor": 0,
              "version_major": 2
            },
            "text/plain": [
              "  0%|          | 0/2000 [00:00<?, ?it/s]"
            ]
          },
          "metadata": {}
        }
      ]
    },
    {
      "cell_type": "code",
      "metadata": {
        "id": "lxV5_aUzsCXe"
      },
      "source": [
        "def plot_rows(*img_rows, scale=1.):\n",
        "  rows = len(img_rows)\n",
        "  cols = len(img_rows[0])\n",
        "  fig, axs = plt.subplots(rows, cols, figsize=(cols * scale, rows * scale))\n",
        "  for i, img_row in enumerate(img_rows):\n",
        "      for j, im in enumerate(img_row):\n",
        "          ax = axs[i, j]\n",
        "          ax.imshow(np.clip(im, 0, 1))\n",
        "          ax.axis('off')\n",
        "  plt.tight_layout()\n",
        "  plt.show()"
      ],
      "execution_count": 47,
      "outputs": []
    },
    {
      "cell_type": "code",
      "metadata": {
        "colab": {
          "base_uri": "https://localhost:8080/"
        },
        "id": "tPSu7Pz8sUQz",
        "outputId": "5a3e8888-d1ba-43ee-f312-c83a87e6165c"
      },
      "source": [
        "mu, std = np.mean(x_train, axis=(0, 1, 2)), np.std(x_train, axis=(0, 1, 2))\n",
        "print(\"mu: \", mu, \" sigma: \", std)\n",
        "\n",
        "def norm(a):\n",
        "  return torch.from_numpy((a - mu) / std).permute(0, 3, 1, 2)\n",
        "\n",
        "def denorm(a):\n",
        "  return a.detach().cpu().permute(0, 2, 3, 1).numpy() * std + mu\n",
        "\n",
        "x_train_normed = norm(x_train)\n",
        "x_valid_normed = norm(x_valid)\n",
        "x_train_blur_normed = norm(x_train_blur)\n",
        "x_valid_blur_normed = norm(x_valid_blur)"
      ],
      "execution_count": 48,
      "outputs": [
        {
          "output_type": "stream",
          "name": "stdout",
          "text": [
            "mu:  [0.34133333 0.34133333 0.34133333]  sigma:  [0.32654327 0.27426648 0.2628333 ]\n"
          ]
        }
      ]
    },
    {
      "cell_type": "code",
      "metadata": {
        "id": "R5F_GBvCtHvR"
      },
      "source": [
        "class Reshape(nn.Module):\n",
        "  def __init__(self, *args):\n",
        "    super().__init__()\n",
        "    self.shape = args\n",
        "\n",
        "  def forward(self, x):\n",
        "    return x.view(self.shape)\n",
        "\n",
        "class Trim(nn.Module):\n",
        "  def __init__(self, *args):\n",
        "    super().__init__()\n",
        "\n",
        "  def forward(self, x):\n",
        "    return x[:, :, :32, :32]\n",
        "\n",
        "class VAE(nn.Module):\n",
        "\n",
        "  def __init__(self, \n",
        "               input_channels = 3,\n",
        "               hidden_channels = 32,\n",
        "               kernel_size = 3,\n",
        "               latent_dim = 64):\n",
        "\n",
        "    super(VAE, self).__init__()\n",
        "\n",
        "    self.encode = model = nn.Sequential(  \n",
        "                                          #\n",
        "                                          nn.Conv2d(input_channels, hidden_channels, kernel_size, stride = 2, bias=False, padding = 1),\n",
        "                                          nn.BatchNorm2d(hidden_channels),\n",
        "                                          nn.LeakyReLU(0.1, inplace=True),\n",
        "                                          nn.Dropout2d(0.25),\n",
        "                                          #\n",
        "                                          nn.Conv2d(hidden_channels, hidden_channels*2, kernel_size, stride = 2, bias=False, padding = 1),\n",
        "                                          nn.BatchNorm2d(hidden_channels*2),\n",
        "                                          nn.LeakyReLU(0.1, inplace=True),\n",
        "                                          nn.Dropout2d(0.25),\n",
        "                                          #\n",
        "                                          nn.Conv2d(hidden_channels*2, hidden_channels*2, kernel_size, stride = 2, bias=False, padding = 1),\n",
        "                                          nn.BatchNorm2d(hidden_channels*2),\n",
        "                                          nn.LeakyReLU(0.1, inplace=True),\n",
        "                                          nn.Dropout2d(0.25),\n",
        "                                          #\n",
        "                                          nn.Conv2d(hidden_channels*2, hidden_channels*2, kernel_size, stride = 2, bias=False, padding = 1),\n",
        "                                          nn.BatchNorm2d(hidden_channels*2),\n",
        "                                          nn.LeakyReLU(0.1, inplace=True),\n",
        "                                          nn.Dropout2d(0.25),\n",
        "                                          #\n",
        "                                          nn.Flatten() # B x 64 x 2 x 2 -> B x 64 * 2**2\n",
        "                                        )\n",
        "\n",
        "\n",
        "    self.decode = model = nn.Sequential(  \n",
        "                                          nn.Linear(latent_dim, hidden_channels * 2**3),\n",
        "                                          Reshape(-1, 64, 2, 2),\n",
        "                                          #\n",
        "                                          nn.ConvTranspose2d(hidden_channels*2, hidden_channels*2, kernel_size, stride = 2),\n",
        "                                          nn.BatchNorm2d(hidden_channels*2),\n",
        "                                          nn.LeakyReLU(0.1, inplace=True),\n",
        "                                          nn.Dropout2d(0.25),\n",
        "                                          #\n",
        "                                          nn.ConvTranspose2d(hidden_channels*2, hidden_channels*2, kernel_size, stride = 2, padding = 1),\n",
        "                                          nn.BatchNorm2d(hidden_channels*2),\n",
        "                                          nn.LeakyReLU(0.1, inplace=True),\n",
        "                                          nn.Dropout2d(0.25),\n",
        "                                          #\n",
        "                                          nn.ConvTranspose2d(hidden_channels*2, hidden_channels, kernel_size, stride = 2, padding = 1),\n",
        "                                          nn.BatchNorm2d(hidden_channels),\n",
        "                                          nn.LeakyReLU(0.1, inplace=True),\n",
        "                                          nn.Dropout2d(0.25),\n",
        "                                          #\n",
        "                                          nn.ConvTranspose2d(hidden_channels, input_channels, kernel_size, stride = 2, padding = 1),\n",
        "                                          Trim(),\n",
        "                                          nn.Sigmoid()\n",
        "                                        )\n",
        "    \n",
        "    self.fc_mu = nn.Linear(hidden_channels * 2**3, latent_dim)\n",
        "    self.fc_log_var = nn.Linear(hidden_channels * 2**3, latent_dim)\n",
        "\n",
        "  def forward(self, x):\n",
        "    \"\"\"\n",
        "    :param x: the batch input, an image.\n",
        "    \"\"\"\n",
        "\n",
        "    # encoder part - output is a B x 64 x 2 x 2\n",
        "    h = self.encode(x)\n",
        "\n",
        "    # calculate mu and var\n",
        "    mu = self.fc_mu(h)\n",
        "    log_var = self.fc_log_var(h)\n",
        "\n",
        "    # mu and var is techinically the ouput of the encoder.\n",
        "    p = self.reparameterize(mu, log_var)\n",
        "\n",
        "    y = self.decode(p)\n",
        "\n",
        "    return [h, mu, log_var, y]\n",
        "\n",
        "  def reparameterize(self, mu, log_var):\n",
        "    \"\"\"\n",
        "    :param mu: mean from the encoder's latent space\n",
        "    :param log_var: log variance from the encoder's latent space\n",
        "    \"\"\"\n",
        "\n",
        "    std = torch.exp(0.5*log_var) # standard deviation\n",
        "    eps = torch.randn_like(std) # we need same size as std\n",
        "\n",
        "    sample = mu + (eps * std)\n",
        "    \n",
        "    return sample\n"
      ],
      "execution_count": 90,
      "outputs": []
    },
    {
      "cell_type": "code",
      "metadata": {
        "id": "24WjOqratgPH"
      },
      "source": [
        "train_data = list(zip(x_train_blur_normed, x_train_normed))\n",
        "train_dataloader = torch.utils.data.DataLoader(train_data, batch_size=64, shuffle=True, num_workers=2)\n",
        "\n",
        "valid_data = list(zip(x_valid_blur_normed, x_valid_normed))\n",
        "valid_dataloader = torch.utils.data.DataLoader(valid_data, batch_size=64, shuffle=True, num_workers=2)"
      ],
      "execution_count": 91,
      "outputs": []
    },
    {
      "cell_type": "code",
      "metadata": {
        "colab": {
          "base_uri": "https://localhost:8080/",
          "height": 658,
          "referenced_widgets": [
            "518c02f07b224cbf801996f03087b461",
            "5f9fe233d8cb4aeaaec43d55874b720b",
            "79e1e611438349ca9d6c40e5c8b3eeb0",
            "d6521c67f5c14791b93fa74289086acd",
            "38d47a550dc1428ba175ea5ee58e4f39",
            "213ffe61bd3040848ba1de271d8a82df",
            "61fb7c87af154fc88893d100d0b37ef8",
            "c9286c9ccce04684af6736e8bd31b377",
            "b9075dab086540ceb48f3c5f784c790f",
            "f39e0ff68ed24b8cb495d762de756509",
            "3485c3764b02458ebbd4d57272014096"
          ]
        },
        "id": "itUm1hC3ze8g",
        "outputId": "62b9d359-e196-4cf4-dd48-7ff93a0d1668"
      },
      "source": [
        "model = VAE(input_channels = 3, hidden_channels = 32, kernel_size = 3, latent_dim = 32).cuda()\n",
        "opt = torch.optim.Adam(model.parameters(), lr=1e-5)\n",
        "\n",
        "train_losses = []\n",
        "valid_losses = []\n",
        "\n",
        "for epoch in tqdm(range(20)):\n",
        "   \n",
        "    model.train()\n",
        "    losses, kld_losses = [], []\n",
        "\n",
        "    for x, y in train_dataloader:\n",
        "\n",
        "      x, y = x.cuda(), y.cuda()\n",
        "\n",
        "      encoded, mu, log_var, decoded  = model(x)\n",
        "\n",
        "      # total loss = reconstruction loss + kl divergence\n",
        "      # kl_div first\n",
        "      kl_div = -0.5 * torch.sum(1 + log_var - mu.pow(2) - log_var.exp(), dim = 1)\n",
        "      kl_div = kl_div.mean()\n",
        "      \n",
        "      # reconstruction loss\n",
        "      recon_loss_pixelwise = F.mse_loss(decoded, y, reduction='none')\n",
        "      recon_loss_pixelwise = recon_loss_pixelwise.view(64, -1).sum(axis=1)\n",
        "      recon_loss_pixelwise = recon_loss_pixelwise.mean()\n",
        "      \n",
        "      # total loss\n",
        "      loss = 1*recon_loss_pixelwise + kl_div * 0.001\n",
        "\n",
        "      opt.zero_grad()\n",
        "      loss.backward()\n",
        "      opt.step()\n",
        "\n",
        "      losses.append(loss.item())\n",
        "      kld_losses.append(kld_loss.item())\n",
        "\n",
        "    train_losses.append(np.mean(losses))\n",
        "    kld_loss_train = np.mean(kld_losses)\n",
        "\n",
        "    model.eval()\n",
        "    losses, kld_losses = [], []\n",
        "\n",
        "    with torch.no_grad():\n",
        "\n",
        "      for x, y in valid_dataloader:\n",
        "\n",
        "          x, y = x.cuda(), y.cuda()\n",
        "\n",
        "          encoded, mu, log_var, decoded  = model(x)\n",
        "\n",
        "          # total loss = reconstruction loss + kl divergence\n",
        "          # kl_div first\n",
        "          kl_div = -0.5 * torch.sum(1 + log_var - mu.pow(2) - log_var.exp(), dim = 1)\n",
        "          kl_div = kl_div.mean()\n",
        "          \n",
        "          # reconstruction loss\n",
        "          recon_loss_pixelwise = F.mse_loss(decoded, y, reduction='none')\n",
        "          recon_loss_pixelwise = recon_loss_pixelwise.view(64, -1).sum(axis=1)\n",
        "          recon_loss_pixelwise = recon_loss_pixelwise.mean()\n",
        "          \n",
        "          # total loss\n",
        "          loss = 1*recon_loss_pixelwise + kl_div * 0.001\n",
        "\n",
        "          losses.append(loss.item())\n",
        "          kld_losses.append(kld_loss.item())\n",
        "\n",
        "      valid_losses.append(np.mean(losses))\n",
        "      kld_loss_valid = np.mean(kld_losses)\n",
        "\n",
        "    print(f'epoch: {epoch}, mse loss (train/valid): {train_losses[-1]:.4f}/{valid_losses[-1]:.4f}, kld_loss (train): {kld_loss_train:.4f}/{kld_loss_valid:.4f}')\n",
        "\n",
        "plt.plot(train_losses, label='train')\n",
        "plt.plot(valid_losses, label='valid')\n",
        "plt.ylabel('mse loss')\n",
        "plt.xlabel('epoch')\n",
        "plt.yscale('log')\n",
        "plt.grid(which='both')\n",
        "plt.legend()\n",
        "plt.show()"
      ],
      "execution_count": 94,
      "outputs": [
        {
          "output_type": "display_data",
          "data": {
            "application/vnd.jupyter.widget-view+json": {
              "model_id": "518c02f07b224cbf801996f03087b461",
              "version_minor": 0,
              "version_major": 2
            },
            "text/plain": [
              "  0%|          | 0/20 [00:00<?, ?it/s]"
            ]
          },
          "metadata": {}
        },
        {
          "output_type": "stream",
          "name": "stdout",
          "text": [
            "epoch: 0, mse loss (train/valid): 3408.0222/3113.4383, kld_loss (train): 52.2217/52.2217\n",
            "epoch: 1, mse loss (train/valid): 3047.3824/2753.4290, kld_loss (train): 52.2217/52.2217\n",
            "epoch: 2, mse loss (train/valid): 2760.6741/2529.8501, kld_loss (train): 52.2217/52.2217\n",
            "epoch: 3, mse loss (train/valid): 2570.6296/2367.1355, kld_loss (train): 52.2217/52.2217\n",
            "epoch: 4, mse loss (train/valid): 2433.4276/2249.8206, kld_loss (train): 52.2217/52.2217\n",
            "epoch: 5, mse loss (train/valid): 2331.5952/2162.4608, kld_loss (train): 52.2217/52.2217\n",
            "epoch: 6, mse loss (train/valid): 2254.0718/2096.8451, kld_loss (train): 52.2217/52.2217\n",
            "epoch: 7, mse loss (train/valid): 2193.3607/2043.7993, kld_loss (train): 52.2217/52.2217\n",
            "epoch: 8, mse loss (train/valid): 2142.7461/1998.4738, kld_loss (train): 52.2217/52.2217\n",
            "epoch: 9, mse loss (train/valid): 2099.1900/1960.1347, kld_loss (train): 52.2217/52.2217\n",
            "epoch: 10, mse loss (train/valid): 2061.9057/1926.7650, kld_loss (train): 52.2217/52.2217\n",
            "epoch: 11, mse loss (train/valid): 2029.5270/1897.0677, kld_loss (train): 52.2217/52.2217\n",
            "epoch: 12, mse loss (train/valid): 2001.8046/1871.6142, kld_loss (train): 52.2217/52.2217\n",
            "epoch: 13, mse loss (train/valid): 1977.2110/1848.3105, kld_loss (train): 52.2217/52.2217\n",
            "epoch: 14, mse loss (train/valid): 1955.8747/1828.0257, kld_loss (train): 52.2217/52.2217\n",
            "epoch: 15, mse loss (train/valid): 1936.2105/1809.6814, kld_loss (train): 52.2217/52.2217\n",
            "epoch: 16, mse loss (train/valid): 1920.1163/1793.8668, kld_loss (train): 52.2217/52.2217\n",
            "epoch: 17, mse loss (train/valid): 1905.6082/1779.9981, kld_loss (train): 52.2217/52.2217\n",
            "epoch: 18, mse loss (train/valid): 1892.1239/1767.4595, kld_loss (train): 52.2217/52.2217\n",
            "epoch: 19, mse loss (train/valid): 1880.3873/1756.9591, kld_loss (train): 52.2217/52.2217\n"
          ]
        },
        {
          "output_type": "display_data",
          "data": {
            "image/png": "[encoded data removed]",
            "text/plain": [
              "<Figure size 432x288 with 1 Axes>"
            ]
          },
          "metadata": {
            "needs_background": "light"
          }
        }
      ]
    },
    {
      "cell_type": "code",
      "metadata": {
        "id": "4nQAzOM0SGEP"
      },
      "source": [
        "def plot_imgs(idx):\n",
        "  # Real\n",
        "  plt.figure(idx, figsize=(5, 5))\n",
        "  img1 = train_data[idx][0].reshape((1, 3, 32, 32)).cuda()\n",
        "  img1 = img1.cpu().detach().numpy()\n",
        "  img1 = img1.reshape((3, 32, 32)).transpose(1, 2, 0)\n",
        "  plt.subplot(1, 2, 1)\n",
        "  plt.title(\"real\")\n",
        "  plt.imshow(np.clip(img1, 0, 1))\n",
        "\n",
        "  # Second\n",
        "  img1 = train_data[idx][0].reshape((1, 3, 32, 32)).cuda()\n",
        "  _, _, _ , img1_ae = model.forward(img1)\n",
        "  img1_ae = img1_ae.cpu().detach().numpy()\n",
        "  img1_ae = img1_ae.reshape((3, 32, 32)).transpose(1, 2, 0)\n",
        "  plt.subplot(1, 2, 2)\n",
        "  plt.title(\"reconstructed\")\n",
        "  plt.imshow(np.clip(img1_ae, 0, 1))\n"
      ],
      "execution_count": 97,
      "outputs": []
    },
    {
      "cell_type": "code",
      "metadata": {
        "id": "XcuVKKgxM35n",
        "colab": {
          "base_uri": "https://localhost:8080/",
          "height": 1000
        },
        "outputId": "4cf2d4f8-9ace-46db-cbfa-5e885cf8a681"
      },
      "source": [
        "model.eval()\n",
        "\n",
        "plot_imgs(0)\n",
        "plot_imgs(1)\n",
        "plot_imgs(2)\n",
        "plot_imgs(3)\n",
        "plot_imgs(4)\n",
        "plot_imgs(5)\n",
        "plot_imgs(6)\n",
        "plot_imgs(7)\n",
        "plot_imgs(8)\n",
        "plot_imgs(9)\n",
        "plt.show()\n"
      ],
      "execution_count": 98,
      "outputs": [
        {
          "output_type": "display_data",
          "data": {
            "image/png": "[encoded data removed]",
            "text/plain": [
              "<Figure size 360x360 with 2 Axes>"
            ]
          },
          "metadata": {
            "needs_background": "light"
          }
        },
        {
          "output_type": "display_data",
          "data": {
            "image/png": "[encoded data removed]",
            "text/plain": [
              "<Figure size 360x360 with 2 Axes>"
            ]
          },
          "metadata": {
            "needs_background": "light"
          }
        },
        {
          "output_type": "display_data",
          "data": {
            "image/png": "[encoded data removed]",
            "text/plain": [
              "<Figure size 360x360 with 2 Axes>"
            ]
          },
          "metadata": {
            "needs_background": "light"
          }
        },
        {
          "output_type": "display_data",
          "data": {
            "image/png": "[encoded data removed]",
            "text/plain": [
              "<Figure size 360x360 with 2 Axes>"
            ]
          },
          "metadata": {
            "needs_background": "light"
          }
        },
        {
          "output_type": "display_data",
          "data": {
            "image/png": "[encoded data removed]",
            "text/plain": [
              "<Figure size 360x360 with 2 Axes>"
            ]
          },
          "metadata": {
            "needs_background": "light"
          }
        },
        {
          "output_type": "display_data",
          "data": {
            "image/png": "[encoded data removed]",
            "text/plain": [
              "<Figure size 360x360 with 2 Axes>"
            ]
          },
          "metadata": {
            "needs_background": "light"
          }
        },
        {
          "output_type": "display_data",
          "data": {
            "image/png": "[encoded data removed]",
            "text/plain": [
              "<Figure size 360x360 with 2 Axes>"
            ]
          },
          "metadata": {
            "needs_background": "light"
          }
        },
        {
          "output_type": "display_data",
          "data": {
            "image/png": "[encoded data removed]",
            "text/plain": [
              "<Figure size 360x360 with 2 Axes>"
            ]
          },
          "metadata": {
            "needs_background": "light"
          }
        },
        {
          "output_type": "display_data",
          "data": {
            "image/png": "[encoded data removed]",
            "text/plain": [
              "<Figure size 360x360 with 2 Axes>"
            ]
          },
          "metadata": {
            "needs_background": "light"
          }
        },
        {
          "output_type": "display_data",
          "data": {
            "image/png": "[encoded data removed]",
            "text/plain": [
              "<Figure size 360x360 with 2 Axes>"
            ]
          },
          "metadata": {
            "needs_background": "light"
          }
        }
      ]
    }
  ]
}