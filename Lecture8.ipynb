{
  "nbformat": 4,
  "nbformat_minor": 0,
  "metadata": {
    "colab": {
      "name": "Lecture8.ipynb",
      "provenance": [],
      "collapsed_sections": [],
      "authorship_tag": "ABX9TyMQjURrL7wG2nSdilygAJuP",
      "include_colab_link": true
    },
    "kernelspec": {
      "name": "python3",
      "display_name": "Python 3"
    },
    "language_info": {
      "name": "python"
    },
    "accelerator": "GPU",
    "widgets": {
      "application/vnd.jupyter.widget-state+json": {
        "247a05e2c75f42f288d9211ff8b1abbb": {
          "model_module": "@jupyter-widgets/controls",
          "model_name": "HBoxModel",
          "model_module_version": "1.5.0",
          "state": {
            "_view_name": "HBoxView",
            "_dom_classes": [],
            "_model_name": "HBoxModel",
            "_view_module": "@jupyter-widgets/controls",
            "_model_module_version": "1.5.0",
            "_view_count": null,
            "_view_module_version": "1.5.0",
            "box_style": "",
            "layout": "IPY_MODEL_036043fc6f78453992a9e3d85a70e827",
            "_model_module": "@jupyter-widgets/controls",
            "children": [
              "IPY_MODEL_11c8e17c216e46b2a7c1dca8f28ce494",
              "IPY_MODEL_480455d0115947eeb1fd9bbf4b40480c",
              "IPY_MODEL_46cfd68cc1904b6d8686a171d93cc52e"
            ]
          }
        },
        "036043fc6f78453992a9e3d85a70e827": {
          "model_module": "@jupyter-widgets/base",
          "model_name": "LayoutModel",
          "model_module_version": "1.2.0",
          "state": {
            "_view_name": "LayoutView",
            "grid_template_rows": null,
            "right": null,
            "justify_content": null,
            "_view_module": "@jupyter-widgets/base",
            "overflow": null,
            "_model_module_version": "1.2.0",
            "_view_count": null,
            "flex_flow": null,
            "width": null,
            "min_width": null,
            "border": null,
            "align_items": null,
            "bottom": null,
            "_model_module": "@jupyter-widgets/base",
            "top": null,
            "grid_column": null,
            "overflow_y": null,
            "overflow_x": null,
            "grid_auto_flow": null,
            "grid_area": null,
            "grid_template_columns": null,
            "flex": null,
            "_model_name": "LayoutModel",
            "justify_items": null,
            "grid_row": null,
            "max_height": null,
            "align_content": null,
            "visibility": null,
            "align_self": null,
            "height": null,
            "min_height": null,
            "padding": null,
            "grid_auto_rows": null,
            "grid_gap": null,
            "max_width": null,
            "order": null,
            "_view_module_version": "1.2.0",
            "grid_template_areas": null,
            "object_position": null,
            "object_fit": null,
            "grid_auto_columns": null,
            "margin": null,
            "display": null,
            "left": null
          }
        },
        "11c8e17c216e46b2a7c1dca8f28ce494": {
          "model_module": "@jupyter-widgets/controls",
          "model_name": "HTMLModel",
          "model_module_version": "1.5.0",
          "state": {
            "_view_name": "HTMLView",
            "style": "IPY_MODEL_8283a119269f41ae92303f37294066af",
            "_dom_classes": [],
            "description": "",
            "_model_name": "HTMLModel",
            "placeholder": "​",
            "_view_module": "@jupyter-widgets/controls",
            "_model_module_version": "1.5.0",
            "value": "100%",
            "_view_count": null,
            "_view_module_version": "1.5.0",
            "description_tooltip": null,
            "_model_module": "@jupyter-widgets/controls",
            "layout": "IPY_MODEL_a9abade145a84504b8f5bbd322de92fc"
          }
        },
        "480455d0115947eeb1fd9bbf4b40480c": {
          "model_module": "@jupyter-widgets/controls",
          "model_name": "FloatProgressModel",
          "model_module_version": "1.5.0",
          "state": {
            "_view_name": "ProgressView",
            "style": "IPY_MODEL_998adf3ce1f7400fa9d814db03621f54",
            "_dom_classes": [],
            "description": "",
            "_model_name": "FloatProgressModel",
            "bar_style": "success",
            "max": 48000,
            "_view_module": "@jupyter-widgets/controls",
            "_model_module_version": "1.5.0",
            "value": 48000,
            "_view_count": null,
            "_view_module_version": "1.5.0",
            "orientation": "horizontal",
            "min": 0,
            "description_tooltip": null,
            "_model_module": "@jupyter-widgets/controls",
            "layout": "IPY_MODEL_3a13db7613464043b0c3ec7834cbe3d5"
          }
        },
        "46cfd68cc1904b6d8686a171d93cc52e": {
          "model_module": "@jupyter-widgets/controls",
          "model_name": "HTMLModel",
          "model_module_version": "1.5.0",
          "state": {
            "_view_name": "HTMLView",
            "style": "IPY_MODEL_244c119fa81a440a97d1b99245c0e9a7",
            "_dom_classes": [],
            "description": "",
            "_model_name": "HTMLModel",
            "placeholder": "​",
            "_view_module": "@jupyter-widgets/controls",
            "_model_module_version": "1.5.0",
            "value": " 48000/48000 [00:00&lt;00:00, 160720.05it/s]",
            "_view_count": null,
            "_view_module_version": "1.5.0",
            "description_tooltip": null,
            "_model_module": "@jupyter-widgets/controls",
            "layout": "IPY_MODEL_104fbfb67d8b42deb191fe523dfb39b4"
          }
        },
        "8283a119269f41ae92303f37294066af": {
          "model_module": "@jupyter-widgets/controls",
          "model_name": "DescriptionStyleModel",
          "model_module_version": "1.5.0",
          "state": {
            "_view_name": "StyleView",
            "_model_name": "DescriptionStyleModel",
            "description_width": "",
            "_view_module": "@jupyter-widgets/base",
            "_model_module_version": "1.5.0",
            "_view_count": null,
            "_view_module_version": "1.2.0",
            "_model_module": "@jupyter-widgets/controls"
          }
        },
        "a9abade145a84504b8f5bbd322de92fc": {
          "model_module": "@jupyter-widgets/base",
          "model_name": "LayoutModel",
          "model_module_version": "1.2.0",
          "state": {
            "_view_name": "LayoutView",
            "grid_template_rows": null,
            "right": null,
            "justify_content": null,
            "_view_module": "@jupyter-widgets/base",
            "overflow": null,
            "_model_module_version": "1.2.0",
            "_view_count": null,
            "flex_flow": null,
            "width": null,
            "min_width": null,
            "border": null,
            "align_items": null,
            "bottom": null,
            "_model_module": "@jupyter-widgets/base",
            "top": null,
            "grid_column": null,
            "overflow_y": null,
            "overflow_x": null,
            "grid_auto_flow": null,
            "grid_area": null,
            "grid_template_columns": null,
            "flex": null,
            "_model_name": "LayoutModel",
            "justify_items": null,
            "grid_row": null,
            "max_height": null,
            "align_content": null,
            "visibility": null,
            "align_self": null,
            "height": null,
            "min_height": null,
            "padding": null,
            "grid_auto_rows": null,
            "grid_gap": null,
            "max_width": null,
            "order": null,
            "_view_module_version": "1.2.0",
            "grid_template_areas": null,
            "object_position": null,
            "object_fit": null,
            "grid_auto_columns": null,
            "margin": null,
            "display": null,
            "left": null
          }
        },
        "998adf3ce1f7400fa9d814db03621f54": {
          "model_module": "@jupyter-widgets/controls",
          "model_name": "ProgressStyleModel",
          "model_module_version": "1.5.0",
          "state": {
            "_view_name": "StyleView",
            "_model_name": "ProgressStyleModel",
            "description_width": "",
            "_view_module": "@jupyter-widgets/base",
            "_model_module_version": "1.5.0",
            "_view_count": null,
            "_view_module_version": "1.2.0",
            "bar_color": null,
            "_model_module": "@jupyter-widgets/controls"
          }
        },
        "3a13db7613464043b0c3ec7834cbe3d5": {
          "model_module": "@jupyter-widgets/base",
          "model_name": "LayoutModel",
          "model_module_version": "1.2.0",
          "state": {
            "_view_name": "LayoutView",
            "grid_template_rows": null,
            "right": null,
            "justify_content": null,
            "_view_module": "@jupyter-widgets/base",
            "overflow": null,
            "_model_module_version": "1.2.0",
            "_view_count": null,
            "flex_flow": null,
            "width": null,
            "min_width": null,
            "border": null,
            "align_items": null,
            "bottom": null,
            "_model_module": "@jupyter-widgets/base",
            "top": null,
            "grid_column": null,
            "overflow_y": null,
            "overflow_x": null,
            "grid_auto_flow": null,
            "grid_area": null,
            "grid_template_columns": null,
            "flex": null,
            "_model_name": "LayoutModel",
            "justify_items": null,
            "grid_row": null,
            "max_height": null,
            "align_content": null,
            "visibility": null,
            "align_self": null,
            "height": null,
            "min_height": null,
            "padding": null,
            "grid_auto_rows": null,
            "grid_gap": null,
            "max_width": null,
            "order": null,
            "_view_module_version": "1.2.0",
            "grid_template_areas": null,
            "object_position": null,
            "object_fit": null,
            "grid_auto_columns": null,
            "margin": null,
            "display": null,
            "left": null
          }
        },
        "244c119fa81a440a97d1b99245c0e9a7": {
          "model_module": "@jupyter-widgets/controls",
          "model_name": "DescriptionStyleModel",
          "model_module_version": "1.5.0",
          "state": {
            "_view_name": "StyleView",
            "_model_name": "DescriptionStyleModel",
            "description_width": "",
            "_view_module": "@jupyter-widgets/base",
            "_model_module_version": "1.5.0",
            "_view_count": null,
            "_view_module_version": "1.2.0",
            "_model_module": "@jupyter-widgets/controls"
          }
        },
        "104fbfb67d8b42deb191fe523dfb39b4": {
          "model_module": "@jupyter-widgets/base",
          "model_name": "LayoutModel",
          "model_module_version": "1.2.0",
          "state": {
            "_view_name": "LayoutView",
            "grid_template_rows": null,
            "right": null,
            "justify_content": null,
            "_view_module": "@jupyter-widgets/base",
            "overflow": null,
            "_model_module_version": "1.2.0",
            "_view_count": null,
            "flex_flow": null,
            "width": null,
            "min_width": null,
            "border": null,
            "align_items": null,
            "bottom": null,
            "_model_module": "@jupyter-widgets/base",
            "top": null,
            "grid_column": null,
            "overflow_y": null,
            "overflow_x": null,
            "grid_auto_flow": null,
            "grid_area": null,
            "grid_template_columns": null,
            "flex": null,
            "_model_name": "LayoutModel",
            "justify_items": null,
            "grid_row": null,
            "max_height": null,
            "align_content": null,
            "visibility": null,
            "align_self": null,
            "height": null,
            "min_height": null,
            "padding": null,
            "grid_auto_rows": null,
            "grid_gap": null,
            "max_width": null,
            "order": null,
            "_view_module_version": "1.2.0",
            "grid_template_areas": null,
            "object_position": null,
            "object_fit": null,
            "grid_auto_columns": null,
            "margin": null,
            "display": null,
            "left": null
          }
        },
        "20681bf1b2094916aeb603d0c12576e4": {
          "model_module": "@jupyter-widgets/controls",
          "model_name": "HBoxModel",
          "model_module_version": "1.5.0",
          "state": {
            "_view_name": "HBoxView",
            "_dom_classes": [],
            "_model_name": "HBoxModel",
            "_view_module": "@jupyter-widgets/controls",
            "_model_module_version": "1.5.0",
            "_view_count": null,
            "_view_module_version": "1.5.0",
            "box_style": "",
            "layout": "IPY_MODEL_13f5f710774047d7bfa211002dbfa826",
            "_model_module": "@jupyter-widgets/controls",
            "children": [
              "IPY_MODEL_f01758476b52406c9ab3483fb75edce2",
              "IPY_MODEL_ad30e8c435ed4258935a6b2ebb9eb3ac",
              "IPY_MODEL_b4e37fdfccbe4575b350daaf841c9655"
            ]
          }
        },
        "13f5f710774047d7bfa211002dbfa826": {
          "model_module": "@jupyter-widgets/base",
          "model_name": "LayoutModel",
          "model_module_version": "1.2.0",
          "state": {
            "_view_name": "LayoutView",
            "grid_template_rows": null,
            "right": null,
            "justify_content": null,
            "_view_module": "@jupyter-widgets/base",
            "overflow": null,
            "_model_module_version": "1.2.0",
            "_view_count": null,
            "flex_flow": null,
            "width": null,
            "min_width": null,
            "border": null,
            "align_items": null,
            "bottom": null,
            "_model_module": "@jupyter-widgets/base",
            "top": null,
            "grid_column": null,
            "overflow_y": null,
            "overflow_x": null,
            "grid_auto_flow": null,
            "grid_area": null,
            "grid_template_columns": null,
            "flex": null,
            "_model_name": "LayoutModel",
            "justify_items": null,
            "grid_row": null,
            "max_height": null,
            "align_content": null,
            "visibility": null,
            "align_self": null,
            "height": null,
            "min_height": null,
            "padding": null,
            "grid_auto_rows": null,
            "grid_gap": null,
            "max_width": null,
            "order": null,
            "_view_module_version": "1.2.0",
            "grid_template_areas": null,
            "object_position": null,
            "object_fit": null,
            "grid_auto_columns": null,
            "margin": null,
            "display": null,
            "left": null
          }
        },
        "f01758476b52406c9ab3483fb75edce2": {
          "model_module": "@jupyter-widgets/controls",
          "model_name": "HTMLModel",
          "model_module_version": "1.5.0",
          "state": {
            "_view_name": "HTMLView",
            "style": "IPY_MODEL_53434d9ccc644265b400f3d086f1a496",
            "_dom_classes": [],
            "description": "",
            "_model_name": "HTMLModel",
            "placeholder": "​",
            "_view_module": "@jupyter-widgets/controls",
            "_model_module_version": "1.5.0",
            "value": "100%",
            "_view_count": null,
            "_view_module_version": "1.5.0",
            "description_tooltip": null,
            "_model_module": "@jupyter-widgets/controls",
            "layout": "IPY_MODEL_36acc8cdb5be44c1a5044d6f86e9f89c"
          }
        },
        "ad30e8c435ed4258935a6b2ebb9eb3ac": {
          "model_module": "@jupyter-widgets/controls",
          "model_name": "FloatProgressModel",
          "model_module_version": "1.5.0",
          "state": {
            "_view_name": "ProgressView",
            "style": "IPY_MODEL_6d5aef93fa7b411197338c4af781dfb9",
            "_dom_classes": [],
            "description": "",
            "_model_name": "FloatProgressModel",
            "bar_style": "success",
            "max": 2000,
            "_view_module": "@jupyter-widgets/controls",
            "_model_module_version": "1.5.0",
            "value": 2000,
            "_view_count": null,
            "_view_module_version": "1.5.0",
            "orientation": "horizontal",
            "min": 0,
            "description_tooltip": null,
            "_model_module": "@jupyter-widgets/controls",
            "layout": "IPY_MODEL_546005ea3f6744a59553a8183dfbecb5"
          }
        },
        "b4e37fdfccbe4575b350daaf841c9655": {
          "model_module": "@jupyter-widgets/controls",
          "model_name": "HTMLModel",
          "model_module_version": "1.5.0",
          "state": {
            "_view_name": "HTMLView",
            "style": "IPY_MODEL_c5cdbf35d93c451f8883a4e051398ca3",
            "_dom_classes": [],
            "description": "",
            "_model_name": "HTMLModel",
            "placeholder": "​",
            "_view_module": "@jupyter-widgets/controls",
            "_model_module_version": "1.5.0",
            "value": " 2000/2000 [00:00&lt;00:00, 35424.72it/s]",
            "_view_count": null,
            "_view_module_version": "1.5.0",
            "description_tooltip": null,
            "_model_module": "@jupyter-widgets/controls",
            "layout": "IPY_MODEL_933fe9a4b14141be947fe8657f4f91e4"
          }
        },
        "53434d9ccc644265b400f3d086f1a496": {
          "model_module": "@jupyter-widgets/controls",
          "model_name": "DescriptionStyleModel",
          "model_module_version": "1.5.0",
          "state": {
            "_view_name": "StyleView",
            "_model_name": "DescriptionStyleModel",
            "description_width": "",
            "_view_module": "@jupyter-widgets/base",
            "_model_module_version": "1.5.0",
            "_view_count": null,
            "_view_module_version": "1.2.0",
            "_model_module": "@jupyter-widgets/controls"
          }
        },
        "36acc8cdb5be44c1a5044d6f86e9f89c": {
          "model_module": "@jupyter-widgets/base",
          "model_name": "LayoutModel",
          "model_module_version": "1.2.0",
          "state": {
            "_view_name": "LayoutView",
            "grid_template_rows": null,
            "right": null,
            "justify_content": null,
            "_view_module": "@jupyter-widgets/base",
            "overflow": null,
            "_model_module_version": "1.2.0",
            "_view_count": null,
            "flex_flow": null,
            "width": null,
            "min_width": null,
            "border": null,
            "align_items": null,
            "bottom": null,
            "_model_module": "@jupyter-widgets/base",
            "top": null,
            "grid_column": null,
            "overflow_y": null,
            "overflow_x": null,
            "grid_auto_flow": null,
            "grid_area": null,
            "grid_template_columns": null,
            "flex": null,
            "_model_name": "LayoutModel",
            "justify_items": null,
            "grid_row": null,
            "max_height": null,
            "align_content": null,
            "visibility": null,
            "align_self": null,
            "height": null,
            "min_height": null,
            "padding": null,
            "grid_auto_rows": null,
            "grid_gap": null,
            "max_width": null,
            "order": null,
            "_view_module_version": "1.2.0",
            "grid_template_areas": null,
            "object_position": null,
            "object_fit": null,
            "grid_auto_columns": null,
            "margin": null,
            "display": null,
            "left": null
          }
        },
        "6d5aef93fa7b411197338c4af781dfb9": {
          "model_module": "@jupyter-widgets/controls",
          "model_name": "ProgressStyleModel",
          "model_module_version": "1.5.0",
          "state": {
            "_view_name": "StyleView",
            "_model_name": "ProgressStyleModel",
            "description_width": "",
            "_view_module": "@jupyter-widgets/base",
            "_model_module_version": "1.5.0",
            "_view_count": null,
            "_view_module_version": "1.2.0",
            "bar_color": null,
            "_model_module": "@jupyter-widgets/controls"
          }
        },
        "546005ea3f6744a59553a8183dfbecb5": {
          "model_module": "@jupyter-widgets/base",
          "model_name": "LayoutModel",
          "model_module_version": "1.2.0",
          "state": {
            "_view_name": "LayoutView",
            "grid_template_rows": null,
            "right": null,
            "justify_content": null,
            "_view_module": "@jupyter-widgets/base",
            "overflow": null,
            "_model_module_version": "1.2.0",
            "_view_count": null,
            "flex_flow": null,
            "width": null,
            "min_width": null,
            "border": null,
            "align_items": null,
            "bottom": null,
            "_model_module": "@jupyter-widgets/base",
            "top": null,
            "grid_column": null,
            "overflow_y": null,
            "overflow_x": null,
            "grid_auto_flow": null,
            "grid_area": null,
            "grid_template_columns": null,
            "flex": null,
            "_model_name": "LayoutModel",
            "justify_items": null,
            "grid_row": null,
            "max_height": null,
            "align_content": null,
            "visibility": null,
            "align_self": null,
            "height": null,
            "min_height": null,
            "padding": null,
            "grid_auto_rows": null,
            "grid_gap": null,
            "max_width": null,
            "order": null,
            "_view_module_version": "1.2.0",
            "grid_template_areas": null,
            "object_position": null,
            "object_fit": null,
            "grid_auto_columns": null,
            "margin": null,
            "display": null,
            "left": null
          }
        },
        "c5cdbf35d93c451f8883a4e051398ca3": {
          "model_module": "@jupyter-widgets/controls",
          "model_name": "DescriptionStyleModel",
          "model_module_version": "1.5.0",
          "state": {
            "_view_name": "StyleView",
            "_model_name": "DescriptionStyleModel",
            "description_width": "",
            "_view_module": "@jupyter-widgets/base",
            "_model_module_version": "1.5.0",
            "_view_count": null,
            "_view_module_version": "1.2.0",
            "_model_module": "@jupyter-widgets/controls"
          }
        },
        "933fe9a4b14141be947fe8657f4f91e4": {
          "model_module": "@jupyter-widgets/base",
          "model_name": "LayoutModel",
          "model_module_version": "1.2.0",
          "state": {
            "_view_name": "LayoutView",
            "grid_template_rows": null,
            "right": null,
            "justify_content": null,
            "_view_module": "@jupyter-widgets/base",
            "overflow": null,
            "_model_module_version": "1.2.0",
            "_view_count": null,
            "flex_flow": null,
            "width": null,
            "min_width": null,
            "border": null,
            "align_items": null,
            "bottom": null,
            "_model_module": "@jupyter-widgets/base",
            "top": null,
            "grid_column": null,
            "overflow_y": null,
            "overflow_x": null,
            "grid_auto_flow": null,
            "grid_area": null,
            "grid_template_columns": null,
            "flex": null,
            "_model_name": "LayoutModel",
            "justify_items": null,
            "grid_row": null,
            "max_height": null,
            "align_content": null,
            "visibility": null,
            "align_self": null,
            "height": null,
            "min_height": null,
            "padding": null,
            "grid_auto_rows": null,
            "grid_gap": null,
            "max_width": null,
            "order": null,
            "_view_module_version": "1.2.0",
            "grid_template_areas": null,
            "object_position": null,
            "object_fit": null,
            "grid_auto_columns": null,
            "margin": null,
            "display": null,
            "left": null
          }
        },
        "ca517ef80bc54e059605643e0b395521": {
          "model_module": "@jupyter-widgets/controls",
          "model_name": "HBoxModel",
          "model_module_version": "1.5.0",
          "state": {
            "_view_name": "HBoxView",
            "_dom_classes": [],
            "_model_name": "HBoxModel",
            "_view_module": "@jupyter-widgets/controls",
            "_model_module_version": "1.5.0",
            "_view_count": null,
            "_view_module_version": "1.5.0",
            "box_style": "",
            "layout": "IPY_MODEL_eedd8f551aeb425984aa026b4fad397a",
            "_model_module": "@jupyter-widgets/controls",
            "children": [
              "IPY_MODEL_7ed8bd773bec4963a974c6e944003b3d",
              "IPY_MODEL_214ae703371040759545830ab7f5e1db",
              "IPY_MODEL_13382eff78104bce8484289f3455d01a"
            ]
          }
        },
        "eedd8f551aeb425984aa026b4fad397a": {
          "model_module": "@jupyter-widgets/base",
          "model_name": "LayoutModel",
          "model_module_version": "1.2.0",
          "state": {
            "_view_name": "LayoutView",
            "grid_template_rows": null,
            "right": null,
            "justify_content": null,
            "_view_module": "@jupyter-widgets/base",
            "overflow": null,
            "_model_module_version": "1.2.0",
            "_view_count": null,
            "flex_flow": null,
            "width": null,
            "min_width": null,
            "border": null,
            "align_items": null,
            "bottom": null,
            "_model_module": "@jupyter-widgets/base",
            "top": null,
            "grid_column": null,
            "overflow_y": null,
            "overflow_x": null,
            "grid_auto_flow": null,
            "grid_area": null,
            "grid_template_columns": null,
            "flex": null,
            "_model_name": "LayoutModel",
            "justify_items": null,
            "grid_row": null,
            "max_height": null,
            "align_content": null,
            "visibility": null,
            "align_self": null,
            "height": null,
            "min_height": null,
            "padding": null,
            "grid_auto_rows": null,
            "grid_gap": null,
            "max_width": null,
            "order": null,
            "_view_module_version": "1.2.0",
            "grid_template_areas": null,
            "object_position": null,
            "object_fit": null,
            "grid_auto_columns": null,
            "margin": null,
            "display": null,
            "left": null
          }
        },
        "7ed8bd773bec4963a974c6e944003b3d": {
          "model_module": "@jupyter-widgets/controls",
          "model_name": "HTMLModel",
          "model_module_version": "1.5.0",
          "state": {
            "_view_name": "HTMLView",
            "style": "IPY_MODEL_31289b766c934556b9793c9215390e7d",
            "_dom_classes": [],
            "description": "",
            "_model_name": "HTMLModel",
            "placeholder": "​",
            "_view_module": "@jupyter-widgets/controls",
            "_model_module_version": "1.5.0",
            "value": " 30%",
            "_view_count": null,
            "_view_module_version": "1.5.0",
            "description_tooltip": null,
            "_model_module": "@jupyter-widgets/controls",
            "layout": "IPY_MODEL_991567df13cb432891b9e1f27db6b930"
          }
        },
        "214ae703371040759545830ab7f5e1db": {
          "model_module": "@jupyter-widgets/controls",
          "model_name": "FloatProgressModel",
          "model_module_version": "1.5.0",
          "state": {
            "_view_name": "ProgressView",
            "style": "IPY_MODEL_11e4e18cc1194d1c81f29cf35c6e9f49",
            "_dom_classes": [],
            "description": "",
            "_model_name": "FloatProgressModel",
            "bar_style": "",
            "max": 50,
            "_view_module": "@jupyter-widgets/controls",
            "_model_module_version": "1.5.0",
            "value": 15,
            "_view_count": null,
            "_view_module_version": "1.5.0",
            "orientation": "horizontal",
            "min": 0,
            "description_tooltip": null,
            "_model_module": "@jupyter-widgets/controls",
            "layout": "IPY_MODEL_de1eb9b646e84a3b868fdbc853fc7b39"
          }
        },
        "13382eff78104bce8484289f3455d01a": {
          "model_module": "@jupyter-widgets/controls",
          "model_name": "HTMLModel",
          "model_module_version": "1.5.0",
          "state": {
            "_view_name": "HTMLView",
            "style": "IPY_MODEL_0ac7dbf77b6f4be399590a1b22d48b4c",
            "_dom_classes": [],
            "description": "",
            "_model_name": "HTMLModel",
            "placeholder": "​",
            "_view_module": "@jupyter-widgets/controls",
            "_model_module_version": "1.5.0",
            "value": " 15/50 [03:08&lt;07:10, 12.31s/it]",
            "_view_count": null,
            "_view_module_version": "1.5.0",
            "description_tooltip": null,
            "_model_module": "@jupyter-widgets/controls",
            "layout": "IPY_MODEL_75109a0e8d9a4e64b10a7a35293ee966"
          }
        },
        "31289b766c934556b9793c9215390e7d": {
          "model_module": "@jupyter-widgets/controls",
          "model_name": "DescriptionStyleModel",
          "model_module_version": "1.5.0",
          "state": {
            "_view_name": "StyleView",
            "_model_name": "DescriptionStyleModel",
            "description_width": "",
            "_view_module": "@jupyter-widgets/base",
            "_model_module_version": "1.5.0",
            "_view_count": null,
            "_view_module_version": "1.2.0",
            "_model_module": "@jupyter-widgets/controls"
          }
        },
        "991567df13cb432891b9e1f27db6b930": {
          "model_module": "@jupyter-widgets/base",
          "model_name": "LayoutModel",
          "model_module_version": "1.2.0",
          "state": {
            "_view_name": "LayoutView",
            "grid_template_rows": null,
            "right": null,
            "justify_content": null,
            "_view_module": "@jupyter-widgets/base",
            "overflow": null,
            "_model_module_version": "1.2.0",
            "_view_count": null,
            "flex_flow": null,
            "width": null,
            "min_width": null,
            "border": null,
            "align_items": null,
            "bottom": null,
            "_model_module": "@jupyter-widgets/base",
            "top": null,
            "grid_column": null,
            "overflow_y": null,
            "overflow_x": null,
            "grid_auto_flow": null,
            "grid_area": null,
            "grid_template_columns": null,
            "flex": null,
            "_model_name": "LayoutModel",
            "justify_items": null,
            "grid_row": null,
            "max_height": null,
            "align_content": null,
            "visibility": null,
            "align_self": null,
            "height": null,
            "min_height": null,
            "padding": null,
            "grid_auto_rows": null,
            "grid_gap": null,
            "max_width": null,
            "order": null,
            "_view_module_version": "1.2.0",
            "grid_template_areas": null,
            "object_position": null,
            "object_fit": null,
            "grid_auto_columns": null,
            "margin": null,
            "display": null,
            "left": null
          }
        },
        "11e4e18cc1194d1c81f29cf35c6e9f49": {
          "model_module": "@jupyter-widgets/controls",
          "model_name": "ProgressStyleModel",
          "model_module_version": "1.5.0",
          "state": {
            "_view_name": "StyleView",
            "_model_name": "ProgressStyleModel",
            "description_width": "",
            "_view_module": "@jupyter-widgets/base",
            "_model_module_version": "1.5.0",
            "_view_count": null,
            "_view_module_version": "1.2.0",
            "bar_color": null,
            "_model_module": "@jupyter-widgets/controls"
          }
        },
        "de1eb9b646e84a3b868fdbc853fc7b39": {
          "model_module": "@jupyter-widgets/base",
          "model_name": "LayoutModel",
          "model_module_version": "1.2.0",
          "state": {
            "_view_name": "LayoutView",
            "grid_template_rows": null,
            "right": null,
            "justify_content": null,
            "_view_module": "@jupyter-widgets/base",
            "overflow": null,
            "_model_module_version": "1.2.0",
            "_view_count": null,
            "flex_flow": null,
            "width": null,
            "min_width": null,
            "border": null,
            "align_items": null,
            "bottom": null,
            "_model_module": "@jupyter-widgets/base",
            "top": null,
            "grid_column": null,
            "overflow_y": null,
            "overflow_x": null,
            "grid_auto_flow": null,
            "grid_area": null,
            "grid_template_columns": null,
            "flex": null,
            "_model_name": "LayoutModel",
            "justify_items": null,
            "grid_row": null,
            "max_height": null,
            "align_content": null,
            "visibility": null,
            "align_self": null,
            "height": null,
            "min_height": null,
            "padding": null,
            "grid_auto_rows": null,
            "grid_gap": null,
            "max_width": null,
            "order": null,
            "_view_module_version": "1.2.0",
            "grid_template_areas": null,
            "object_position": null,
            "object_fit": null,
            "grid_auto_columns": null,
            "margin": null,
            "display": null,
            "left": null
          }
        },
        "0ac7dbf77b6f4be399590a1b22d48b4c": {
          "model_module": "@jupyter-widgets/controls",
          "model_name": "DescriptionStyleModel",
          "model_module_version": "1.5.0",
          "state": {
            "_view_name": "StyleView",
            "_model_name": "DescriptionStyleModel",
            "description_width": "",
            "_view_module": "@jupyter-widgets/base",
            "_model_module_version": "1.5.0",
            "_view_count": null,
            "_view_module_version": "1.2.0",
            "_model_module": "@jupyter-widgets/controls"
          }
        },
        "75109a0e8d9a4e64b10a7a35293ee966": {
          "model_module": "@jupyter-widgets/base",
          "model_name": "LayoutModel",
          "model_module_version": "1.2.0",
          "state": {
            "_view_name": "LayoutView",
            "grid_template_rows": null,
            "right": null,
            "justify_content": null,
            "_view_module": "@jupyter-widgets/base",
            "overflow": null,
            "_model_module_version": "1.2.0",
            "_view_count": null,
            "flex_flow": null,
            "width": null,
            "min_width": null,
            "border": null,
            "align_items": null,
            "bottom": null,
            "_model_module": "@jupyter-widgets/base",
            "top": null,
            "grid_column": null,
            "overflow_y": null,
            "overflow_x": null,
            "grid_auto_flow": null,
            "grid_area": null,
            "grid_template_columns": null,
            "flex": null,
            "_model_name": "LayoutModel",
            "justify_items": null,
            "grid_row": null,
            "max_height": null,
            "align_content": null,
            "visibility": null,
            "align_self": null,
            "height": null,
            "min_height": null,
            "padding": null,
            "grid_auto_rows": null,
            "grid_gap": null,
            "max_width": null,
            "order": null,
            "_view_module_version": "1.2.0",
            "grid_template_areas": null,
            "object_position": null,
            "object_fit": null,
            "grid_auto_columns": null,
            "margin": null,
            "display": null,
            "left": null
          }
        }
      }
    }
  },
  "cells": [
    {
      "cell_type": "markdown",
      "metadata": {
        "id": "view-in-github",
        "colab_type": "text"
      },
      "source": [
        "<a href=\"https://colab.research.google.com/github/dscho15/deep-learning/blob/main/Lecture8.ipynb\" target=\"_parent\"><img src=\"https://colab.research.google.com/assets/colab-badge.svg\" alt=\"Open In Colab\"/></a>"
      ]
    },
    {
      "cell_type": "code",
      "metadata": {
        "id": "fGW9NpPLrhGD"
      },
      "source": [
        "import matplotlib.pyplot as plt\n",
        "import numpy as np\n",
        "import cv2\n",
        "import torch\n",
        "from torch import nn\n",
        "from torch.nn import functional as F\n",
        "import torchvision\n",
        "from tqdm.notebook import tqdm\n",
        "from scipy import ndimage\n",
        "from google_drive_downloader import GoogleDriveDownloader as gdd"
      ],
      "execution_count": 99,
      "outputs": []
    },
    {
      "cell_type": "markdown",
      "metadata": {
        "id": "1Y51yv0E7VHV"
      },
      "source": [
        "# Online resources used:\n",
        "\n",
        "https://debuggercafe.com/getting-started-with-variational-autoencoder-using-pytorch/\n",
        "\n",
        "https://www.youtube.com/watch?v=IQpP_cH8rrA\n",
        "\n",
        "https://github.com/rasbt/stat453-deep-learning-ss21"
      ]
    },
    {
      "cell_type": "code",
      "metadata": {
        "colab": {
          "base_uri": "https://localhost:8080/"
        },
        "id": "21HZ97q0rtvM",
        "outputId": "065781a6-a167-4725-d359-21fdb8796c43"
      },
      "source": [
        "gdd.download_file_from_google_drive('1Uzgc9c0MSYP4y9ia7mvwCGggjhTDEmrk', '~/img_align_celeba_50k.npz')\n",
        "blob = np.load('~/img_align_celeba_50k.npz')\n",
        "x_train, x_test = blob['x_train'], blob['x_test']\n",
        "dim = x_train.shape[1:]\n",
        "n_valid = 2000\n",
        "x_train, x_valid = x_train[:-n_valid], x_train[-n_valid:]\n",
        "\n",
        "print(f'x_train shape: {x_train.shape}')\n",
        "print(f'x_valid shape: {x_valid.shape}')\n",
        "print(f'dtype: {x_train.dtype}')"
      ],
      "execution_count": 100,
      "outputs": [
        {
          "output_type": "stream",
          "name": "stdout",
          "text": [
            "x_train shape: (48000, 32, 32, 3)\n",
            "x_valid shape: (2000, 32, 32, 3)\n",
            "dtype: float32\n"
          ]
        }
      ]
    },
    {
      "cell_type": "code",
      "metadata": {
        "colab": {
          "base_uri": "https://localhost:8080/",
          "height": 81,
          "referenced_widgets": [
            "247a05e2c75f42f288d9211ff8b1abbb",
            "036043fc6f78453992a9e3d85a70e827",
            "11c8e17c216e46b2a7c1dca8f28ce494",
            "480455d0115947eeb1fd9bbf4b40480c",
            "46cfd68cc1904b6d8686a171d93cc52e",
            "8283a119269f41ae92303f37294066af",
            "a9abade145a84504b8f5bbd322de92fc",
            "998adf3ce1f7400fa9d814db03621f54",
            "3a13db7613464043b0c3ec7834cbe3d5",
            "244c119fa81a440a97d1b99245c0e9a7",
            "104fbfb67d8b42deb191fe523dfb39b4",
            "20681bf1b2094916aeb603d0c12576e4",
            "13f5f710774047d7bfa211002dbfa826",
            "f01758476b52406c9ab3483fb75edce2",
            "ad30e8c435ed4258935a6b2ebb9eb3ac",
            "b4e37fdfccbe4575b350daaf841c9655",
            "53434d9ccc644265b400f3d086f1a496",
            "36acc8cdb5be44c1a5044d6f86e9f89c",
            "6d5aef93fa7b411197338c4af781dfb9",
            "546005ea3f6744a59553a8183dfbecb5",
            "c5cdbf35d93c451f8883a4e051398ca3",
            "933fe9a4b14141be947fe8657f4f91e4"
          ]
        },
        "id": "ZAN-UednrvWn",
        "outputId": "5c88d5c2-2226-4c29-85bd-51da92f9b2eb"
      },
      "source": [
        "x_train_blur = np.empty_like(x_train)\n",
        "for i in tqdm(range(len(x_train))):\n",
        "  # apply your noise model here\n",
        "  # x_train_blur[i] = cv2.GaussianBlur(x_train[i], (3, 3), cv2.BORDER_DEFAULT)\n",
        "  x_train_blur[i] = x_train[i]\n",
        "\n",
        "x_valid_blur = np.empty_like(x_valid)\n",
        "for i in tqdm(range(len(x_valid))):\n",
        "  # apply your noise model here\n",
        "  # x_valid_blur[i] = cv2.GaussianBlur(x_valid[i], (3, 3), cv2.BORDER_DEFAULT)\n",
        "  x_valid_blur[i] = x_valid[i]"
      ],
      "execution_count": 101,
      "outputs": [
        {
          "output_type": "display_data",
          "data": {
            "application/vnd.jupyter.widget-view+json": {
              "model_id": "247a05e2c75f42f288d9211ff8b1abbb",
              "version_minor": 0,
              "version_major": 2
            },
            "text/plain": [
              "  0%|          | 0/48000 [00:00<?, ?it/s]"
            ]
          },
          "metadata": {}
        },
        {
          "output_type": "display_data",
          "data": {
            "application/vnd.jupyter.widget-view+json": {
              "model_id": "20681bf1b2094916aeb603d0c12576e4",
              "version_minor": 0,
              "version_major": 2
            },
            "text/plain": [
              "  0%|          | 0/2000 [00:00<?, ?it/s]"
            ]
          },
          "metadata": {}
        }
      ]
    },
    {
      "cell_type": "code",
      "metadata": {
        "id": "lxV5_aUzsCXe"
      },
      "source": [
        "def plot_rows(*img_rows, scale=1.):\n",
        "  rows = len(img_rows)\n",
        "  cols = len(img_rows[0])\n",
        "  fig, axs = plt.subplots(rows, cols, figsize=(cols * scale, rows * scale))\n",
        "  for i, img_row in enumerate(img_rows):\n",
        "      for j, im in enumerate(img_row):\n",
        "          ax = axs[i, j]\n",
        "          ax.imshow(np.clip(im, 0, 1))\n",
        "          ax.axis('off')\n",
        "  plt.tight_layout()\n",
        "  plt.show()"
      ],
      "execution_count": 102,
      "outputs": []
    },
    {
      "cell_type": "code",
      "metadata": {
        "colab": {
          "base_uri": "https://localhost:8080/"
        },
        "id": "tPSu7Pz8sUQz",
        "outputId": "ece6ec45-671a-4f3e-9ca1-933ee8b10953"
      },
      "source": [
        "mu, std = np.mean(x_train, axis=(0, 1, 2)), np.std(x_train, axis=(0, 1, 2))\n",
        "print(\"mu: \", mu, \" sigma: \", std)\n",
        "\n",
        "def norm(a):\n",
        "  return torch.from_numpy((a - mu) / std).permute(0, 3, 1, 2)\n",
        "\n",
        "def denorm(a):\n",
        "  return a.detach().cpu().permute(0, 2, 3, 1).numpy() * std + mu\n",
        "\n",
        "x_train_normed = norm(x_train)\n",
        "x_valid_normed = norm(x_valid)\n",
        "x_train_blur_normed = norm(x_train_blur)\n",
        "x_valid_blur_normed = norm(x_valid_blur)"
      ],
      "execution_count": 103,
      "outputs": [
        {
          "output_type": "stream",
          "name": "stdout",
          "text": [
            "mu:  [0.34133333 0.34133333 0.34133333]  sigma:  [0.32654327 0.27426648 0.2628333 ]\n"
          ]
        }
      ]
    },
    {
      "cell_type": "code",
      "metadata": {
        "id": "R5F_GBvCtHvR"
      },
      "source": [
        "class Reshape(nn.Module):\n",
        "  def __init__(self, *args):\n",
        "    super().__init__()\n",
        "    self.shape = args\n",
        "\n",
        "  def forward(self, x):\n",
        "    return x.view(self.shape)\n",
        "\n",
        "class Trim(nn.Module):\n",
        "  def __init__(self, *args):\n",
        "    super().__init__()\n",
        "\n",
        "  def forward(self, x):\n",
        "    return x[:, :, :32, :32]\n",
        "\n",
        "class VAE(nn.Module):\n",
        "\n",
        "  def __init__(self, \n",
        "               input_channels = 3,\n",
        "               hidden_channels = 32,\n",
        "               kernel_size = 3,\n",
        "               latent_dim = 64):\n",
        "\n",
        "    super(VAE, self).__init__()\n",
        "\n",
        "    self.encode = model = nn.Sequential(  \n",
        "                                          #\n",
        "                                          nn.Conv2d(input_channels, hidden_channels, kernel_size, stride = 2, bias=False, padding = 1),\n",
        "                                          nn.BatchNorm2d(hidden_channels),\n",
        "                                          nn.LeakyReLU(0.1, inplace=True),\n",
        "                                          nn.Dropout2d(0.25),\n",
        "                                          #\n",
        "                                          nn.Conv2d(hidden_channels, hidden_channels*2, kernel_size, stride = 2, bias=False, padding = 1),\n",
        "                                          nn.BatchNorm2d(hidden_channels*2),\n",
        "                                          nn.LeakyReLU(0.1, inplace=True),\n",
        "                                          nn.Dropout2d(0.25),\n",
        "                                          #\n",
        "                                          nn.Conv2d(hidden_channels*2, hidden_channels*2, kernel_size, stride = 2, bias=False, padding = 1),\n",
        "                                          nn.BatchNorm2d(hidden_channels*2),\n",
        "                                          nn.LeakyReLU(0.1, inplace=True),\n",
        "                                          nn.Dropout2d(0.25),\n",
        "                                          #\n",
        "                                          nn.Conv2d(hidden_channels*2, hidden_channels*2, kernel_size, stride = 2, bias=False, padding = 1),\n",
        "                                          nn.BatchNorm2d(hidden_channels*2),\n",
        "                                          nn.LeakyReLU(0.1, inplace=True),\n",
        "                                          nn.Dropout2d(0.25),\n",
        "                                          #\n",
        "                                          nn.Flatten() # B x 64 x 2 x 2 -> B x 64 * 2**2\n",
        "                                        )\n",
        "\n",
        "\n",
        "    self.decode = model = nn.Sequential(  \n",
        "                                          nn.Linear(latent_dim, hidden_channels * 2**3),\n",
        "                                          Reshape(-1, 64, 2, 2),\n",
        "                                          #\n",
        "                                          nn.ConvTranspose2d(hidden_channels*2, hidden_channels*2, kernel_size, stride = 2),\n",
        "                                          nn.BatchNorm2d(hidden_channels*2),\n",
        "                                          nn.LeakyReLU(0.1, inplace=True),\n",
        "                                          nn.Dropout2d(0.25),\n",
        "                                          #\n",
        "                                          nn.ConvTranspose2d(hidden_channels*2, hidden_channels*2, kernel_size, stride = 2, padding = 1),\n",
        "                                          nn.BatchNorm2d(hidden_channels*2),\n",
        "                                          nn.LeakyReLU(0.1, inplace=True),\n",
        "                                          nn.Dropout2d(0.25),\n",
        "                                          #\n",
        "                                          nn.ConvTranspose2d(hidden_channels*2, hidden_channels, kernel_size, stride = 2, padding = 1),\n",
        "                                          nn.BatchNorm2d(hidden_channels),\n",
        "                                          nn.LeakyReLU(0.1, inplace=True),\n",
        "                                          nn.Dropout2d(0.25),\n",
        "                                          #\n",
        "                                          nn.ConvTranspose2d(hidden_channels, input_channels, kernel_size, stride = 2, padding = 1),\n",
        "                                          Trim(),\n",
        "                                          nn.Sigmoid()\n",
        "                                        )\n",
        "    \n",
        "    self.fc_mu = nn.Linear(hidden_channels * 2**3, latent_dim)\n",
        "    self.fc_log_var = nn.Linear(hidden_channels * 2**3, latent_dim)\n",
        "    self.latent_dim = latent_dim\n",
        "\n",
        "  def forward(self, x):\n",
        "    \"\"\"\n",
        "    :param x: the batch input, an image.\n",
        "    \"\"\"\n",
        "\n",
        "    # encoder part - output is a B x 64 x 2 x 2\n",
        "    h = self.encode(x)\n",
        "\n",
        "    # calculate mu and var\n",
        "    mu = self.fc_mu(h)\n",
        "    log_var = self.fc_log_var(h)\n",
        "\n",
        "    # mu and var is techinically the ouput of the encoder.\n",
        "    p = self.reparameterize(mu, log_var)\n",
        "\n",
        "    y = self.decode(p)\n",
        "\n",
        "    return [h, mu, log_var, y]\n",
        "\n",
        "  def reparameterize(self, mu, log_var):\n",
        "    \"\"\"\n",
        "    :param mu: mean from the encoder's latent space\n",
        "    :param log_var: log variance from the encoder's latent space\n",
        "    \"\"\"\n",
        "\n",
        "    std = torch.exp(0.5*log_var) # standard deviation\n",
        "    eps = torch.randn_like(std) # we need same size as std\n",
        "\n",
        "    sample = mu + (eps * std)\n",
        "\n",
        "    return sample\n",
        "\n",
        "  def sample(self, num_samples, **kwargs):\n",
        "    \"\"\"\n",
        "    Samples from the latent space and return the corresponding\n",
        "    image space map.\n",
        "    :param num_samples: (Int) Number of samples\n",
        "    :param current_device: (Int) Device to run the model\n",
        "    :return: (Tensor)\n",
        "    \"\"\"\n",
        "    z = torch.randn(num_samples, self.latent_dim)\n",
        "\n",
        "    z = z.cuda()\n",
        "\n",
        "    samples = self.decode(z)\n",
        "\n",
        "    return samples\n"
      ],
      "execution_count": 129,
      "outputs": []
    },
    {
      "cell_type": "code",
      "metadata": {
        "id": "24WjOqratgPH"
      },
      "source": [
        "train_data = list(zip(x_train_blur_normed, x_train_normed))\n",
        "train_dataloader = torch.utils.data.DataLoader(train_data, batch_size=64, shuffle=True, num_workers=2)\n",
        "\n",
        "valid_data = list(zip(x_valid_blur_normed, x_valid_normed))\n",
        "valid_dataloader = torch.utils.data.DataLoader(valid_data, batch_size=64, shuffle=True, num_workers=2)"
      ],
      "execution_count": 130,
      "outputs": []
    },
    {
      "cell_type": "code",
      "metadata": {
        "colab": {
          "base_uri": "https://localhost:8080/",
          "height": 310,
          "referenced_widgets": [
            "ca517ef80bc54e059605643e0b395521",
            "eedd8f551aeb425984aa026b4fad397a",
            "7ed8bd773bec4963a974c6e944003b3d",
            "214ae703371040759545830ab7f5e1db",
            "13382eff78104bce8484289f3455d01a",
            "31289b766c934556b9793c9215390e7d",
            "991567df13cb432891b9e1f27db6b930",
            "11e4e18cc1194d1c81f29cf35c6e9f49",
            "de1eb9b646e84a3b868fdbc853fc7b39",
            "0ac7dbf77b6f4be399590a1b22d48b4c",
            "75109a0e8d9a4e64b10a7a35293ee966"
          ]
        },
        "id": "itUm1hC3ze8g",
        "outputId": "08094f9f-c29b-4546-8f1b-9a0f6cf3f58c"
      },
      "source": [
        "model = VAE(input_channels = 3, hidden_channels = 32, kernel_size = 3, latent_dim = 32).cuda()\n",
        "opt = torch.optim.Adam(model.parameters(), lr=1e-4)\n",
        "\n",
        "train_losses = []\n",
        "valid_losses = []\n",
        "beta = 0.1\n",
        "\n",
        "for epoch in tqdm(range(50)):\n",
        "   \n",
        "    model.train()\n",
        "    losses, kld_losses = [], []\n",
        "\n",
        "    for x, y in train_dataloader:\n",
        "\n",
        "      x, y = x.cuda(), y.cuda()\n",
        "\n",
        "      encoded, mu, log_var, decoded  = model(x)\n",
        "\n",
        "      # total loss = reconstruction loss + kl divergence\n",
        "      # kl_div first\n",
        "      kl_div = -0.5 * torch.sum(1 + log_var - mu.pow(2) - log_var.exp(), dim = 1)\n",
        "      kl_div = kl_div.mean()\n",
        "      \n",
        "      # reconstruction loss\n",
        "      recon_loss_pixelwise = F.mse_loss(decoded, y, reduction='none')\n",
        "      recon_loss_pixelwise = recon_loss_pixelwise.view(64, -1).sum(axis=1)\n",
        "      recon_loss_pixelwise = recon_loss_pixelwise.mean()\n",
        "      \n",
        "      # total loss\n",
        "      loss = (1-beta)*recon_loss_pixelwise + (beta)*kl_div\n",
        "\n",
        "      opt.zero_grad()\n",
        "      loss.backward()\n",
        "      opt.step()\n",
        "\n",
        "      losses.append(loss.item())\n",
        "      kld_losses.append(kld_loss.item())\n",
        "\n",
        "    train_losses.append(np.mean(losses))\n",
        "    kld_loss_train = np.mean(kld_losses)\n",
        "\n",
        "    model.eval()\n",
        "    losses, kld_losses = [], []\n",
        "\n",
        "    with torch.no_grad():\n",
        "\n",
        "      for x, y in valid_dataloader:\n",
        "\n",
        "          x, y = x.cuda(), y.cuda()\n",
        "\n",
        "          encoded, mu, log_var, decoded  = model(x)\n",
        "\n",
        "          # https://www.borealisai.com/en/blog/tutorial-5-variational-auto-encoders/\n",
        "          # total loss = reconstruction loss + kl divergence\n",
        "          # kl_div first\n",
        "          kl_div = -0.5 * torch.sum(1 + log_var - mu.pow(2) - log_var.exp(), dim = 1)\n",
        "          kl_div = kl_div.mean()\n",
        "          \n",
        "          # reconstruction loss\n",
        "          recon_loss_pixelwise = F.mse_loss(decoded, y, reduction='none')\n",
        "          recon_loss_pixelwise = recon_loss_pixelwise.view(64, -1).sum(axis=1)\n",
        "          recon_loss_pixelwise = recon_loss_pixelwise.mean()\n",
        "          \n",
        "          # total loss\n",
        "          loss = (1-beta)*recon_loss_pixelwise + (beta)*kl_div\n",
        "\n",
        "          losses.append(loss.item())\n",
        "          kld_losses.append(kld_loss.item())\n",
        "\n",
        "      valid_losses.append(np.mean(losses))\n",
        "      kld_loss_valid = np.mean(kld_losses)\n",
        "\n",
        "    print(f'epoch: {epoch}, mse loss (train/valid): {train_losses[-1]:.4f}/{valid_losses[-1]:.4f}, kld_loss (train): {kld_loss_train:.4f}/{kld_loss_valid:.4f}')\n",
        "\n",
        "plt.plot(train_losses, label='train')\n",
        "plt.plot(valid_losses, label='valid')\n",
        "plt.ylabel('mse loss')\n",
        "plt.xlabel('epoch')\n",
        "plt.yscale('log')\n",
        "plt.grid(which='both')\n",
        "plt.legend()\n",
        "plt.show()"
      ],
      "execution_count": null,
      "outputs": [
        {
          "output_type": "display_data",
          "data": {
            "application/vnd.jupyter.widget-view+json": {
              "model_id": "ca517ef80bc54e059605643e0b395521",
              "version_minor": 0,
              "version_major": 2
            },
            "text/plain": [
              "  0%|          | 0/50 [00:00<?, ?it/s]"
            ]
          },
          "metadata": {}
        },
        {
          "output_type": "stream",
          "name": "stdout",
          "text": [
            "epoch: 0, mse loss (train/valid): 2318.5809/1775.5793, kld_loss (train): 52.2217/52.2217\n",
            "epoch: 1, mse loss (train/valid): 1787.0781/1611.8396, kld_loss (train): 52.2217/52.2217\n",
            "epoch: 2, mse loss (train/valid): 1689.2595/1560.5882, kld_loss (train): 52.2217/52.2217\n",
            "epoch: 3, mse loss (train/valid): 1647.8932/1532.4359, kld_loss (train): 52.2217/52.2217\n",
            "epoch: 4, mse loss (train/valid): 1623.4235/1514.5661, kld_loss (train): 52.2217/52.2217\n",
            "epoch: 5, mse loss (train/valid): 1607.9192/1500.9283, kld_loss (train): 52.2217/52.2217\n",
            "epoch: 6, mse loss (train/valid): 1595.2205/1489.5782, kld_loss (train): 52.2217/52.2217\n",
            "epoch: 7, mse loss (train/valid): 1585.3335/1481.5653, kld_loss (train): 52.2217/52.2217\n",
            "epoch: 8, mse loss (train/valid): 1577.6132/1475.3330, kld_loss (train): 52.2217/52.2217\n",
            "epoch: 9, mse loss (train/valid): 1571.5088/1471.3859, kld_loss (train): 52.2217/52.2217\n",
            "epoch: 10, mse loss (train/valid): 1566.1504/1466.2498, kld_loss (train): 52.2217/52.2217\n",
            "epoch: 11, mse loss (train/valid): 1561.4745/1461.7533, kld_loss (train): 52.2217/52.2217\n",
            "epoch: 12, mse loss (train/valid): 1556.8913/1455.5587, kld_loss (train): 52.2217/52.2217\n",
            "epoch: 13, mse loss (train/valid): 1552.4616/1448.7677, kld_loss (train): 52.2217/52.2217\n",
            "epoch: 14, mse loss (train/valid): 1548.8377/1446.0199, kld_loss (train): 52.2217/52.2217\n"
          ]
        }
      ]
    },
    {
      "cell_type": "code",
      "metadata": {
        "id": "4nQAzOM0SGEP"
      },
      "source": [
        "def plot_imgs(idx):\n",
        "  # Real\n",
        "  plt.figure(idx, figsize=(5, 5))\n",
        "  img1 = train_data[idx][0].reshape((1, 3, 32, 32)).cuda()\n",
        "  img1 = img1.cpu().detach().numpy()\n",
        "  img1 = img1.reshape((3, 32, 32)).transpose(1, 2, 0)\n",
        "  plt.subplot(1, 2, 1)\n",
        "  plt.title(\"real\")\n",
        "  plt.imshow(np.clip(img1, 0, 1))\n",
        "\n",
        "  # Second\n",
        "  img1 = train_data[idx][0].reshape((1, 3, 32, 32)).cuda()\n",
        "  _, _, _ , img1_ae = model.forward(img1)\n",
        "  img1_ae = img1_ae.cpu().detach().numpy()\n",
        "  img1_ae = img1_ae.reshape((3, 32, 32)).transpose(1, 2, 0)\n",
        "  plt.subplot(1, 2, 2)\n",
        "  plt.title(\"reconstructed\")\n",
        "  plt.imshow(np.clip(img1_ae, 0, 1))\n"
      ],
      "execution_count": 106,
      "outputs": []
    },
    {
      "cell_type": "code",
      "metadata": {
        "id": "XcuVKKgxM35n",
        "colab": {
          "base_uri": "https://localhost:8080/",
          "height": 1000
        },
        "outputId": "97827245-22cb-40fd-d63a-ec27097c60a1"
      },
      "source": [
        "model.eval()\n",
        "plot_imgs(0)\n",
        "plot_imgs(1)\n",
        "plot_imgs(2)\n",
        "plot_imgs(3)\n",
        "plot_imgs(4)\n",
        "plot_imgs(5)\n",
        "plot_imgs(6)\n",
        "plot_imgs(7)\n",
        "plot_imgs(8)\n",
        "plot_imgs(9)\n",
        "plt.show()\n"
      ],
      "execution_count": 107,
      "outputs": [
        {
          "output_type": "display_data",
          "data": {
            "image/png": "[encoded data removed]",
            "text/plain": [
              "<Figure size 360x360 with 2 Axes>"
            ]
          },
          "metadata": {
            "needs_background": "light"
          }
        },
        {
          "output_type": "display_data",
          "data": {
            "image/png": "[encoded data removed]",
            "text/plain": [
              "<Figure size 360x360 with 2 Axes>"
            ]
          },
          "metadata": {
            "needs_background": "light"
          }
        },
        {
          "output_type": "display_data",
          "data": {
            "image/png": "[encoded data removed]",
            "text/plain": [
              "<Figure size 360x360 with 2 Axes>"
            ]
          },
          "metadata": {
            "needs_background": "light"
          }
        },
        {
          "output_type": "display_data",
          "data": {
            "image/png": "[encoded data removed]",
            "text/plain": [
              "<Figure size 360x360 with 2 Axes>"
            ]
          },
          "metadata": {
            "needs_background": "light"
          }
        },
        {
          "output_type": "display_data",
          "data": {
            "image/png": "[encoded data removed]",
            "text/plain": [
              "<Figure size 360x360 with 2 Axes>"
            ]
          },
          "metadata": {
            "needs_background": "light"
          }
        },
        {
          "output_type": "display_data",
          "data": {
            "image/png": "[encoded data removed]",
            "text/plain": [
              "<Figure size 360x360 with 2 Axes>"
            ]
          },
          "metadata": {
            "needs_background": "light"
          }
        },
        {
          "output_type": "display_data",
          "data": {
            "image/png": "[encoded data removed]",
            "text/plain": [
              "<Figure size 360x360 with 2 Axes>"
            ]
          },
          "metadata": {
            "needs_background": "light"
          }
        },
        {
          "output_type": "display_data",
          "data": {
            "image/png": "[encoded data removed]",
            "text/plain": [
              "<Figure size 360x360 with 2 Axes>"
            ]
          },
          "metadata": {
            "needs_background": "light"
          }
        },
        {
          "output_type": "display_data",
          "data": {
            "image/png": "[encoded data removed]",
            "text/plain": [
              "<Figure size 360x360 with 2 Axes>"
            ]
          },
          "metadata": {
            "needs_background": "light"
          }
        },
        {
          "output_type": "display_data",
          "data": {
            "image/png": "[encoded data removed]",
            "text/plain": [
              "<Figure size 360x360 with 2 Axes>"
            ]
          },
          "metadata": {
            "needs_background": "light"
          }
        }
      ]
    },
    {
      "cell_type": "code",
      "metadata": {
        "id": "l0i9YUSRSuFe",
        "outputId": "49a9c41a-5289-4751-9024-81622c1e7308",
        "colab": {
          "base_uri": "https://localhost:8080/",
          "height": 206
        }
      },
      "source": [
        "def plot_imgs(samples):\n",
        "  plt.figure(1, figsize=(30, 10))\n",
        "  imgs = model.sample(samples)\n",
        "  for i in range(samples):\n",
        "    plt.subplot(1, samples, i+1)\n",
        "    img = imgs[i].cpu().detach().numpy()\n",
        "    img = img.reshape((3, 32, 32)).transpose(1, 2, 0)\n",
        "    plt.title(\"sampled\")\n",
        "    plt.imshow(np.clip(img, 0, 1))\n",
        "  plt.show()\n",
        "\n",
        "plot_imgs(10)"
      ],
      "execution_count": 128,
      "outputs": [
        {
          "output_type": "display_data",
          "data": {
            "image/png": "[encoded data removed]",
            "text/plain": [
              "<Figure size 2160x720 with 10 Axes>"
            ]
          },
          "metadata": {
            "needs_background": "light"
          }
        }
      ]
    }
  ]
}