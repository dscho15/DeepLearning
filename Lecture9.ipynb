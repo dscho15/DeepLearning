{
  "nbformat": 4,
  "nbformat_minor": 0,
  "metadata": {
    "colab": {
      "name": "09_lstm_template.ipynb",
      "provenance": [],
      "collapsed_sections": [],
      "include_colab_link": true
    },
    "kernelspec": {
      "name": "python3",
      "display_name": "Python 3"
    },
    "accelerator": "GPU",
    "widgets": {
      "application/vnd.jupyter.widget-state+json": {
        "4f76aa20186340ea91fc19ab7ca6e4e4": {
          "model_module": "@jupyter-widgets/controls",
          "model_name": "HBoxModel",
          "model_module_version": "1.5.0",
          "state": {
            "_view_name": "HBoxView",
            "_dom_classes": [],
            "_model_name": "HBoxModel",
            "_view_module": "@jupyter-widgets/controls",
            "_model_module_version": "1.5.0",
            "_view_count": null,
            "_view_module_version": "1.5.0",
            "box_style": "",
            "layout": "IPY_MODEL_a44bc80cd0bf45eea992b3e8fa8de99f",
            "_model_module": "@jupyter-widgets/controls",
            "children": [
              "IPY_MODEL_f86dffac66d641c0858903c15843ba56",
              "IPY_MODEL_ed90ff3db3124ccf90a78427850cd386",
              "IPY_MODEL_17c76f12df534a678023f149761995ed"
            ]
          }
        },
        "a44bc80cd0bf45eea992b3e8fa8de99f": {
          "model_module": "@jupyter-widgets/base",
          "model_name": "LayoutModel",
          "model_module_version": "1.2.0",
          "state": {
            "_view_name": "LayoutView",
            "grid_template_rows": null,
            "right": null,
            "justify_content": null,
            "_view_module": "@jupyter-widgets/base",
            "overflow": null,
            "_model_module_version": "1.2.0",
            "_view_count": null,
            "flex_flow": null,
            "width": null,
            "min_width": null,
            "border": null,
            "align_items": null,
            "bottom": null,
            "_model_module": "@jupyter-widgets/base",
            "top": null,
            "grid_column": null,
            "overflow_y": null,
            "overflow_x": null,
            "grid_auto_flow": null,
            "grid_area": null,
            "grid_template_columns": null,
            "flex": null,
            "_model_name": "LayoutModel",
            "justify_items": null,
            "grid_row": null,
            "max_height": null,
            "align_content": null,
            "visibility": null,
            "align_self": null,
            "height": null,
            "min_height": null,
            "padding": null,
            "grid_auto_rows": null,
            "grid_gap": null,
            "max_width": null,
            "order": null,
            "_view_module_version": "1.2.0",
            "grid_template_areas": null,
            "object_position": null,
            "object_fit": null,
            "grid_auto_columns": null,
            "margin": null,
            "display": null,
            "left": null
          }
        },
        "f86dffac66d641c0858903c15843ba56": {
          "model_module": "@jupyter-widgets/controls",
          "model_name": "HTMLModel",
          "model_module_version": "1.5.0",
          "state": {
            "_view_name": "HTMLView",
            "style": "IPY_MODEL_7dcbab2118f64b4198c71a503f52999c",
            "_dom_classes": [],
            "description": "",
            "_model_name": "HTMLModel",
            "placeholder": "​",
            "_view_module": "@jupyter-widgets/controls",
            "_model_module_version": "1.5.0",
            "value": "100%",
            "_view_count": null,
            "_view_module_version": "1.5.0",
            "description_tooltip": null,
            "_model_module": "@jupyter-widgets/controls",
            "layout": "IPY_MODEL_0a990eb8c3464825b434b87144fe024f"
          }
        },
        "ed90ff3db3124ccf90a78427850cd386": {
          "model_module": "@jupyter-widgets/controls",
          "model_name": "FloatProgressModel",
          "model_module_version": "1.5.0",
          "state": {
            "_view_name": "ProgressView",
            "style": "IPY_MODEL_fb47e114f59e4fb98fb01a8799a42fdf",
            "_dom_classes": [],
            "description": "",
            "_model_name": "FloatProgressModel",
            "bar_style": "success",
            "max": 2893,
            "_view_module": "@jupyter-widgets/controls",
            "_model_module_version": "1.5.0",
            "value": 2893,
            "_view_count": null,
            "_view_module_version": "1.5.0",
            "orientation": "horizontal",
            "min": 0,
            "description_tooltip": null,
            "_model_module": "@jupyter-widgets/controls",
            "layout": "IPY_MODEL_36016b04c34c4e5eb6de4baef1f13b32"
          }
        },
        "17c76f12df534a678023f149761995ed": {
          "model_module": "@jupyter-widgets/controls",
          "model_name": "HTMLModel",
          "model_module_version": "1.5.0",
          "state": {
            "_view_name": "HTMLView",
            "style": "IPY_MODEL_1d8ba02daaf44421894dcd78a0eb312e",
            "_dom_classes": [],
            "description": "",
            "_model_name": "HTMLModel",
            "placeholder": "​",
            "_view_module": "@jupyter-widgets/controls",
            "_model_module_version": "1.5.0",
            "value": " 2893/2893 [00:01&lt;00:00, 2978.84it/s]",
            "_view_count": null,
            "_view_module_version": "1.5.0",
            "description_tooltip": null,
            "_model_module": "@jupyter-widgets/controls",
            "layout": "IPY_MODEL_ed47cb14c73148cf9ac4b4e7eb741db5"
          }
        },
        "7dcbab2118f64b4198c71a503f52999c": {
          "model_module": "@jupyter-widgets/controls",
          "model_name": "DescriptionStyleModel",
          "model_module_version": "1.5.0",
          "state": {
            "_view_name": "StyleView",
            "_model_name": "DescriptionStyleModel",
            "description_width": "",
            "_view_module": "@jupyter-widgets/base",
            "_model_module_version": "1.5.0",
            "_view_count": null,
            "_view_module_version": "1.2.0",
            "_model_module": "@jupyter-widgets/controls"
          }
        },
        "0a990eb8c3464825b434b87144fe024f": {
          "model_module": "@jupyter-widgets/base",
          "model_name": "LayoutModel",
          "model_module_version": "1.2.0",
          "state": {
            "_view_name": "LayoutView",
            "grid_template_rows": null,
            "right": null,
            "justify_content": null,
            "_view_module": "@jupyter-widgets/base",
            "overflow": null,
            "_model_module_version": "1.2.0",
            "_view_count": null,
            "flex_flow": null,
            "width": null,
            "min_width": null,
            "border": null,
            "align_items": null,
            "bottom": null,
            "_model_module": "@jupyter-widgets/base",
            "top": null,
            "grid_column": null,
            "overflow_y": null,
            "overflow_x": null,
            "grid_auto_flow": null,
            "grid_area": null,
            "grid_template_columns": null,
            "flex": null,
            "_model_name": "LayoutModel",
            "justify_items": null,
            "grid_row": null,
            "max_height": null,
            "align_content": null,
            "visibility": null,
            "align_self": null,
            "height": null,
            "min_height": null,
            "padding": null,
            "grid_auto_rows": null,
            "grid_gap": null,
            "max_width": null,
            "order": null,
            "_view_module_version": "1.2.0",
            "grid_template_areas": null,
            "object_position": null,
            "object_fit": null,
            "grid_auto_columns": null,
            "margin": null,
            "display": null,
            "left": null
          }
        },
        "fb47e114f59e4fb98fb01a8799a42fdf": {
          "model_module": "@jupyter-widgets/controls",
          "model_name": "ProgressStyleModel",
          "model_module_version": "1.5.0",
          "state": {
            "_view_name": "StyleView",
            "_model_name": "ProgressStyleModel",
            "description_width": "",
            "_view_module": "@jupyter-widgets/base",
            "_model_module_version": "1.5.0",
            "_view_count": null,
            "_view_module_version": "1.2.0",
            "bar_color": null,
            "_model_module": "@jupyter-widgets/controls"
          }
        },
        "36016b04c34c4e5eb6de4baef1f13b32": {
          "model_module": "@jupyter-widgets/base",
          "model_name": "LayoutModel",
          "model_module_version": "1.2.0",
          "state": {
            "_view_name": "LayoutView",
            "grid_template_rows": null,
            "right": null,
            "justify_content": null,
            "_view_module": "@jupyter-widgets/base",
            "overflow": null,
            "_model_module_version": "1.2.0",
            "_view_count": null,
            "flex_flow": null,
            "width": null,
            "min_width": null,
            "border": null,
            "align_items": null,
            "bottom": null,
            "_model_module": "@jupyter-widgets/base",
            "top": null,
            "grid_column": null,
            "overflow_y": null,
            "overflow_x": null,
            "grid_auto_flow": null,
            "grid_area": null,
            "grid_template_columns": null,
            "flex": null,
            "_model_name": "LayoutModel",
            "justify_items": null,
            "grid_row": null,
            "max_height": null,
            "align_content": null,
            "visibility": null,
            "align_self": null,
            "height": null,
            "min_height": null,
            "padding": null,
            "grid_auto_rows": null,
            "grid_gap": null,
            "max_width": null,
            "order": null,
            "_view_module_version": "1.2.0",
            "grid_template_areas": null,
            "object_position": null,
            "object_fit": null,
            "grid_auto_columns": null,
            "margin": null,
            "display": null,
            "left": null
          }
        },
        "1d8ba02daaf44421894dcd78a0eb312e": {
          "model_module": "@jupyter-widgets/controls",
          "model_name": "DescriptionStyleModel",
          "model_module_version": "1.5.0",
          "state": {
            "_view_name": "StyleView",
            "_model_name": "DescriptionStyleModel",
            "description_width": "",
            "_view_module": "@jupyter-widgets/base",
            "_model_module_version": "1.5.0",
            "_view_count": null,
            "_view_module_version": "1.2.0",
            "_model_module": "@jupyter-widgets/controls"
          }
        },
        "ed47cb14c73148cf9ac4b4e7eb741db5": {
          "model_module": "@jupyter-widgets/base",
          "model_name": "LayoutModel",
          "model_module_version": "1.2.0",
          "state": {
            "_view_name": "LayoutView",
            "grid_template_rows": null,
            "right": null,
            "justify_content": null,
            "_view_module": "@jupyter-widgets/base",
            "overflow": null,
            "_model_module_version": "1.2.0",
            "_view_count": null,
            "flex_flow": null,
            "width": null,
            "min_width": null,
            "border": null,
            "align_items": null,
            "bottom": null,
            "_model_module": "@jupyter-widgets/base",
            "top": null,
            "grid_column": null,
            "overflow_y": null,
            "overflow_x": null,
            "grid_auto_flow": null,
            "grid_area": null,
            "grid_template_columns": null,
            "flex": null,
            "_model_name": "LayoutModel",
            "justify_items": null,
            "grid_row": null,
            "max_height": null,
            "align_content": null,
            "visibility": null,
            "align_self": null,
            "height": null,
            "min_height": null,
            "padding": null,
            "grid_auto_rows": null,
            "grid_gap": null,
            "max_width": null,
            "order": null,
            "_view_module_version": "1.2.0",
            "grid_template_areas": null,
            "object_position": null,
            "object_fit": null,
            "grid_auto_columns": null,
            "margin": null,
            "display": null,
            "left": null
          }
        },
        "5282a6e665304208a21732ebd3da0011": {
          "model_module": "@jupyter-widgets/controls",
          "model_name": "HBoxModel",
          "model_module_version": "1.5.0",
          "state": {
            "_view_name": "HBoxView",
            "_dom_classes": [],
            "_model_name": "HBoxModel",
            "_view_module": "@jupyter-widgets/controls",
            "_model_module_version": "1.5.0",
            "_view_count": null,
            "_view_module_version": "1.5.0",
            "box_style": "",
            "layout": "IPY_MODEL_441a072e7da846919592879c1f8f14d8",
            "_model_module": "@jupyter-widgets/controls",
            "children": [
              "IPY_MODEL_f28d2619c84f4feb8a17f7391bf238a3",
              "IPY_MODEL_4a94b3e7f03445f2bba16b8ec8e350e6",
              "IPY_MODEL_54a01394a3f942df9e60342a292a9f20"
            ]
          }
        },
        "441a072e7da846919592879c1f8f14d8": {
          "model_module": "@jupyter-widgets/base",
          "model_name": "LayoutModel",
          "model_module_version": "1.2.0",
          "state": {
            "_view_name": "LayoutView",
            "grid_template_rows": null,
            "right": null,
            "justify_content": null,
            "_view_module": "@jupyter-widgets/base",
            "overflow": null,
            "_model_module_version": "1.2.0",
            "_view_count": null,
            "flex_flow": null,
            "width": null,
            "min_width": null,
            "border": null,
            "align_items": null,
            "bottom": null,
            "_model_module": "@jupyter-widgets/base",
            "top": null,
            "grid_column": null,
            "overflow_y": null,
            "overflow_x": null,
            "grid_auto_flow": null,
            "grid_area": null,
            "grid_template_columns": null,
            "flex": null,
            "_model_name": "LayoutModel",
            "justify_items": null,
            "grid_row": null,
            "max_height": null,
            "align_content": null,
            "visibility": null,
            "align_self": null,
            "height": null,
            "min_height": null,
            "padding": null,
            "grid_auto_rows": null,
            "grid_gap": null,
            "max_width": null,
            "order": null,
            "_view_module_version": "1.2.0",
            "grid_template_areas": null,
            "object_position": null,
            "object_fit": null,
            "grid_auto_columns": null,
            "margin": null,
            "display": null,
            "left": null
          }
        },
        "f28d2619c84f4feb8a17f7391bf238a3": {
          "model_module": "@jupyter-widgets/controls",
          "model_name": "HTMLModel",
          "model_module_version": "1.5.0",
          "state": {
            "_view_name": "HTMLView",
            "style": "IPY_MODEL_8cd4b6ecf0e14465a474d46b7135e769",
            "_dom_classes": [],
            "description": "",
            "_model_name": "HTMLModel",
            "placeholder": "​",
            "_view_module": "@jupyter-widgets/controls",
            "_model_module_version": "1.5.0",
            "value": "  0%",
            "_view_count": null,
            "_view_module_version": "1.5.0",
            "description_tooltip": null,
            "_model_module": "@jupyter-widgets/controls",
            "layout": "IPY_MODEL_d3f54b70c5c5403689b28befde393c35"
          }
        },
        "4a94b3e7f03445f2bba16b8ec8e350e6": {
          "model_module": "@jupyter-widgets/controls",
          "model_name": "FloatProgressModel",
          "model_module_version": "1.5.0",
          "state": {
            "_view_name": "ProgressView",
            "style": "IPY_MODEL_6040c844dbcd448f8f3fb18b259944c7",
            "_dom_classes": [],
            "description": "",
            "_model_name": "FloatProgressModel",
            "bar_style": "danger",
            "max": 5,
            "_view_module": "@jupyter-widgets/controls",
            "_model_module_version": "1.5.0",
            "value": 0,
            "_view_count": null,
            "_view_module_version": "1.5.0",
            "orientation": "horizontal",
            "min": 0,
            "description_tooltip": null,
            "_model_module": "@jupyter-widgets/controls",
            "layout": "IPY_MODEL_19e813eca23b424e982f9350ddcdaa9f"
          }
        },
        "54a01394a3f942df9e60342a292a9f20": {
          "model_module": "@jupyter-widgets/controls",
          "model_name": "HTMLModel",
          "model_module_version": "1.5.0",
          "state": {
            "_view_name": "HTMLView",
            "style": "IPY_MODEL_91eb61894d15426d81b4a64c07388bed",
            "_dom_classes": [],
            "description": "",
            "_model_name": "HTMLModel",
            "placeholder": "​",
            "_view_module": "@jupyter-widgets/controls",
            "_model_module_version": "1.5.0",
            "value": " 0/5 [02:29&lt;?, ?it/s]",
            "_view_count": null,
            "_view_module_version": "1.5.0",
            "description_tooltip": null,
            "_model_module": "@jupyter-widgets/controls",
            "layout": "IPY_MODEL_94ccf0304629437191a77538cc7eaee1"
          }
        },
        "8cd4b6ecf0e14465a474d46b7135e769": {
          "model_module": "@jupyter-widgets/controls",
          "model_name": "DescriptionStyleModel",
          "model_module_version": "1.5.0",
          "state": {
            "_view_name": "StyleView",
            "_model_name": "DescriptionStyleModel",
            "description_width": "",
            "_view_module": "@jupyter-widgets/base",
            "_model_module_version": "1.5.0",
            "_view_count": null,
            "_view_module_version": "1.2.0",
            "_model_module": "@jupyter-widgets/controls"
          }
        },
        "d3f54b70c5c5403689b28befde393c35": {
          "model_module": "@jupyter-widgets/base",
          "model_name": "LayoutModel",
          "model_module_version": "1.2.0",
          "state": {
            "_view_name": "LayoutView",
            "grid_template_rows": null,
            "right": null,
            "justify_content": null,
            "_view_module": "@jupyter-widgets/base",
            "overflow": null,
            "_model_module_version": "1.2.0",
            "_view_count": null,
            "flex_flow": null,
            "width": null,
            "min_width": null,
            "border": null,
            "align_items": null,
            "bottom": null,
            "_model_module": "@jupyter-widgets/base",
            "top": null,
            "grid_column": null,
            "overflow_y": null,
            "overflow_x": null,
            "grid_auto_flow": null,
            "grid_area": null,
            "grid_template_columns": null,
            "flex": null,
            "_model_name": "LayoutModel",
            "justify_items": null,
            "grid_row": null,
            "max_height": null,
            "align_content": null,
            "visibility": null,
            "align_self": null,
            "height": null,
            "min_height": null,
            "padding": null,
            "grid_auto_rows": null,
            "grid_gap": null,
            "max_width": null,
            "order": null,
            "_view_module_version": "1.2.0",
            "grid_template_areas": null,
            "object_position": null,
            "object_fit": null,
            "grid_auto_columns": null,
            "margin": null,
            "display": null,
            "left": null
          }
        },
        "6040c844dbcd448f8f3fb18b259944c7": {
          "model_module": "@jupyter-widgets/controls",
          "model_name": "ProgressStyleModel",
          "model_module_version": "1.5.0",
          "state": {
            "_view_name": "StyleView",
            "_model_name": "ProgressStyleModel",
            "description_width": "",
            "_view_module": "@jupyter-widgets/base",
            "_model_module_version": "1.5.0",
            "_view_count": null,
            "_view_module_version": "1.2.0",
            "bar_color": null,
            "_model_module": "@jupyter-widgets/controls"
          }
        },
        "19e813eca23b424e982f9350ddcdaa9f": {
          "model_module": "@jupyter-widgets/base",
          "model_name": "LayoutModel",
          "model_module_version": "1.2.0",
          "state": {
            "_view_name": "LayoutView",
            "grid_template_rows": null,
            "right": null,
            "justify_content": null,
            "_view_module": "@jupyter-widgets/base",
            "overflow": null,
            "_model_module_version": "1.2.0",
            "_view_count": null,
            "flex_flow": null,
            "width": null,
            "min_width": null,
            "border": null,
            "align_items": null,
            "bottom": null,
            "_model_module": "@jupyter-widgets/base",
            "top": null,
            "grid_column": null,
            "overflow_y": null,
            "overflow_x": null,
            "grid_auto_flow": null,
            "grid_area": null,
            "grid_template_columns": null,
            "flex": null,
            "_model_name": "LayoutModel",
            "justify_items": null,
            "grid_row": null,
            "max_height": null,
            "align_content": null,
            "visibility": null,
            "align_self": null,
            "height": null,
            "min_height": null,
            "padding": null,
            "grid_auto_rows": null,
            "grid_gap": null,
            "max_width": null,
            "order": null,
            "_view_module_version": "1.2.0",
            "grid_template_areas": null,
            "object_position": null,
            "object_fit": null,
            "grid_auto_columns": null,
            "margin": null,
            "display": null,
            "left": null
          }
        },
        "91eb61894d15426d81b4a64c07388bed": {
          "model_module": "@jupyter-widgets/controls",
          "model_name": "DescriptionStyleModel",
          "model_module_version": "1.5.0",
          "state": {
            "_view_name": "StyleView",
            "_model_name": "DescriptionStyleModel",
            "description_width": "",
            "_view_module": "@jupyter-widgets/base",
            "_model_module_version": "1.5.0",
            "_view_count": null,
            "_view_module_version": "1.2.0",
            "_model_module": "@jupyter-widgets/controls"
          }
        },
        "94ccf0304629437191a77538cc7eaee1": {
          "model_module": "@jupyter-widgets/base",
          "model_name": "LayoutModel",
          "model_module_version": "1.2.0",
          "state": {
            "_view_name": "LayoutView",
            "grid_template_rows": null,
            "right": null,
            "justify_content": null,
            "_view_module": "@jupyter-widgets/base",
            "overflow": null,
            "_model_module_version": "1.2.0",
            "_view_count": null,
            "flex_flow": null,
            "width": null,
            "min_width": null,
            "border": null,
            "align_items": null,
            "bottom": null,
            "_model_module": "@jupyter-widgets/base",
            "top": null,
            "grid_column": null,
            "overflow_y": null,
            "overflow_x": null,
            "grid_auto_flow": null,
            "grid_area": null,
            "grid_template_columns": null,
            "flex": null,
            "_model_name": "LayoutModel",
            "justify_items": null,
            "grid_row": null,
            "max_height": null,
            "align_content": null,
            "visibility": null,
            "align_self": null,
            "height": null,
            "min_height": null,
            "padding": null,
            "grid_auto_rows": null,
            "grid_gap": null,
            "max_width": null,
            "order": null,
            "_view_module_version": "1.2.0",
            "grid_template_areas": null,
            "object_position": null,
            "object_fit": null,
            "grid_auto_columns": null,
            "margin": null,
            "display": null,
            "left": null
          }
        }
      }
    }
  },
  "cells": [
    {
      "cell_type": "markdown",
      "metadata": {
        "id": "view-in-github",
        "colab_type": "text"
      },
      "source": [
        "<a href=\"https://colab.research.google.com/github/dscho15/deep-learning/blob/main/Lecture9.ipynb\" target=\"_parent\"><img src=\"https://colab.research.google.com/assets/colab-badge.svg\" alt=\"Open In Colab\"/></a>"
      ]
    },
    {
      "cell_type": "markdown",
      "metadata": {
        "id": "xoG89fAUlwFE"
      },
      "source": [
        "# Articles\n",
        "\n",
        "- https://medium.com/analytics-vidhya/spam-ham-classification-using-lstm-in-pytorch-950daec94a7c\n",
        "\n",
        "- https://github.com/sijoonlee/spam-ham-walkthrough/blob/master/walkthrough.ipynb\n",
        "\n",
        "- https://pytorch.org/docs/stable/generated/torch.nn.LSTM.html\n",
        "\n"
      ]
    },
    {
      "cell_type": "markdown",
      "metadata": {
        "id": "NMCip8XbP3tv"
      },
      "source": [
        "# LSTM"
      ]
    },
    {
      "cell_type": "code",
      "metadata": {
        "id": "-gEXnWJ1EQ8M",
        "colab": {
          "base_uri": "https://localhost:8080/"
        },
        "outputId": "422931b5-7667-456d-b958-d14b1dfb1525"
      },
      "source": [
        "import glob\n",
        "from pathlib import Path\n",
        "import tqdm as tqdm\n",
        "import numpy as np\n",
        "import matplotlib.pyplot as plt\n",
        "import torch\n",
        "from torch import nn\n",
        "from torch.nn import functional as F\n",
        "from tqdm.notebook import tqdm\n",
        "from google_drive_downloader import GoogleDriveDownloader as gdd\n",
        "\n",
        "torch.manual_seed(0)"
      ],
      "execution_count": 1,
      "outputs": [
        {
          "output_type": "execute_result",
          "data": {
            "text/plain": [
              "<torch._C.Generator at 0x7f97d3f22850>"
            ]
          },
          "metadata": {},
          "execution_count": 1
        }
      ]
    },
    {
      "cell_type": "markdown",
      "metadata": {
        "id": "QxZoe7SA6lil"
      },
      "source": [
        "# Email spam classifier"
      ]
    },
    {
      "cell_type": "code",
      "metadata": {
        "id": "BVQbR_cCNVuS"
      },
      "source": [
        "# Download data\n",
        "\n",
        "gdd.download_file_from_google_drive('13DLnvpRhDO-D5JHCuPq85k_v-yMiMNCQ', '~/lingsmap_public-bare.zip', unzip=True)\n",
        "assert Path('~/lingsmap_public-bare').exists()"
      ],
      "execution_count": 2,
      "outputs": []
    },
    {
      "cell_type": "code",
      "metadata": {
        "id": "VFJi3Z8sNuL0",
        "colab": {
          "base_uri": "https://localhost:8080/",
          "height": 367,
          "referenced_widgets": [
            "4f76aa20186340ea91fc19ab7ca6e4e4",
            "a44bc80cd0bf45eea992b3e8fa8de99f",
            "f86dffac66d641c0858903c15843ba56",
            "ed90ff3db3124ccf90a78427850cd386",
            "17c76f12df534a678023f149761995ed",
            "7dcbab2118f64b4198c71a503f52999c",
            "0a990eb8c3464825b434b87144fe024f",
            "fb47e114f59e4fb98fb01a8799a42fdf",
            "36016b04c34c4e5eb6de4baef1f13b32",
            "1d8ba02daaf44421894dcd78a0eb312e",
            "ed47cb14c73148cf9ac4b4e7eb741db5"
          ]
        },
        "outputId": "a2310c68-90b3-4efe-fec1-1bf8a0c7858c"
      },
      "source": [
        "# Load data\n",
        "\n",
        "filepaths = glob.glob('~/lingsmap_public-bare/*/*.txt')\n",
        "emails = []\n",
        "emails_ascii = []\n",
        "targets = []\n",
        "\n",
        "for i, filepath in enumerate(tqdm(filepaths)):\n",
        "    with open(filepath) as file:\n",
        "        email = file.read()\n",
        "    emails.append(email)\n",
        "    emails_ascii.append([ord(c) for c in email])  # convert character to ascii code\n",
        "    targets.append('spmsg' in filepath)\n",
        "\n",
        "plt.hist([len(e) for e in emails], np.logspace(1, 5))\n",
        "plt.xlabel('email text length')\n",
        "plt.ylabel('#')\n",
        "plt.xscale('log')\n",
        "plt.show()\n",
        "\n",
        "print(f'{len(emails)} emails')\n",
        "print(f'percentage spam: {np.mean(targets):.2f}')\n",
        "emails_ascii_flat = np.concatenate(emails_ascii)\n",
        "print(f'ascii codes between {emails_ascii_flat.min()} and {emails_ascii_flat.max()}')"
      ],
      "execution_count": 3,
      "outputs": [
        {
          "output_type": "display_data",
          "data": {
            "application/vnd.jupyter.widget-view+json": {
              "model_id": "4f76aa20186340ea91fc19ab7ca6e4e4",
              "version_minor": 0,
              "version_major": 2
            },
            "text/plain": [
              "  0%|          | 0/2893 [00:00<?, ?it/s]"
            ]
          },
          "metadata": {}
        },
        {
          "output_type": "display_data",
          "data": {
            "image/png": "[encoded data removed]",
            "text/plain": [
              "<Figure size 432x288 with 1 Axes>"
            ]
          },
          "metadata": {
            "needs_background": "light"
          }
        },
        {
          "output_type": "stream",
          "name": "stdout",
          "text": [
            "2893 emails\n",
            "percentage spam: 0.17\n",
            "ascii codes between 10 and 126\n"
          ]
        }
      ]
    },
    {
      "cell_type": "markdown",
      "metadata": {
        "id": "T9RJmVb1FbAD"
      },
      "source": [
        "So even if we just guess 'not spam' all the time, we can get 83 % correct. Lets consider this as the **baseline**."
      ]
    },
    {
      "cell_type": "code",
      "metadata": {
        "id": "jstgsMN9n3q4",
        "colab": {
          "base_uri": "https://localhost:8080/"
        },
        "outputId": "b2719771-92bc-4b7a-ba3b-56f1b9b93b57"
      },
      "source": [
        "# lets read few examples our loaded data\n",
        "for i in range(4):\n",
        "    print(f'----  Spam: {targets[i]}  ----')\n",
        "    print(emails[i], '\\n')"
      ],
      "execution_count": 4,
      "outputs": [
        {
          "output_type": "stream",
          "name": "stdout",
          "text": [
            "----  Spam: False  ----\n",
            "Subject: grammar in schools\n",
            "\n",
            "i 'd like to second herb stahlke 's plea , following his brief survey of the decline in grammar teaching ( which mirrors the events in uk ) . > i also teach an undergrad english linguistics course that , for many > students , is the only brush with grammar in the entire english ed . > program . i find that these students , many of them well prepared and > highly motivated , have had little or no grammar in k12 . this is not > surprising , since they were taught by teachers who were taught to > believe that the teaching of grammar served no purpose . if they were > taught it at all , little effort was made to make grammar make sense or > seem relevant and interesting . they will become teachers with > probablly less understanding of and ability to teach grammar than even > the generation before them . > > how do we reverse this ? certainly not by either replacing grammar > with even more abstract and difficulty linguistic subject matter . > we ' re not going to see change without concerted efforts by linguists > to work together with educators , school boards and legislators to make > people aware of the nature of grammar as an academic subject . the lsa > has a standing committee on this topic , but i havent ' been able to > find out much about their activities or positions from the lsa > literature or web page . we have the responsibility and the knowledge > to bring about change in grammar education , but we do n't have any sort > of unified , concerted effort to do so . the same posting also carried a similar message from larry rosenwald , who describes his attempts to help students to write better : > what i do care about is having a > reasonably precise vocabulary for analysis . since this strand arose out of a discussion of a recent trial in uk of some materials for testing pupils ' knowledge of grammar , readers may be interested in the background . recent developments in uk are interesting and ( to my mind ) potentially very positive , in spite of having been introduced for quite the wrong reasons ( by a right-wing government aiming at a return to ` basics ' ) . the official national curriculum requires * all * schools to teach grammar . the most obvious statement of this requirement is under the heading ` writing ' for secondary schools ( specifically , leading up to ages 14 and 16 ) : ` pupils should be encouraged broaden their understanding of the principles of sentence grammar and be taught to organise whole texts effectively . [ note the stress on understanding grammar as well as on applying this understanding . ] pupils should be given opportunities to analyse their own writing , reflecting on the meaning and clarity of individual sentences , using appropriate terminology , and so be given opportunities to learn about : - discourse structure - the structure of whole texts - paragraph structure ; how different types of praragraphs are formed ; openings and closings in different kinds of writing ; - phrase , clause and sentence structure - the use of complex grammatical structures and the linking of structures through appropriate connective ; the use of main and subordinate clauses and phrases ; - words - components including stem , prefix , suffix , inflection ; grammatical functions of nouns , verbs , adjectives , adverbs , pronouns , prepositions , conjunctions and demonstratives ; - punctuation - the use of the full range of punctuation marks , including full stops , question and exclamation marks , commas , semi-colons , colons , . . ' as a linguist i have very few arguments with this list ( given its purpose etc ) . it 's also recognised that teachers themselves need to be trained to do this kind of work . but it 's rather ambitious , and the teachers ( and teacher-trainers ) need help from the professionals - i . e . us . i think a lot of us in the uk would be interested to hear from colleagues in other countries where school grammar is fed more directly by academic grammar . = = = = = = = = = = = = = = = = = = = = = = = = = = = = = = = = = = = = = = = = = = = = = = = = = = = = = = = = = = = = = = = = = = = = = = = = = = = = = = = richard ( = dick ) hudson department of phonetics and linguistics , university college london , gower street , london wc1e 6bt work phone : + 171 419 3152 ; work fax : + 171 383 4108 email : dick @ ling . ucl . ac . uk web-sites : home page = http : / / www . phon . ucl . ac . uk / home / dick / home . htm unpublished papers available by ftp = . . . . uk / home / dick / papers . htm\n",
            " \n",
            "\n",
            "----  Spam: False  ----\n",
            "Subject: labelled deduction\n",
            "\n",
            "ld ' 98 the first international workshop on labelled deduction freiburg , germany , september 7 - 9 , 1998 http : / / www . informatik . uni-freiburg . de / ~ ld98 * * * * * * * * * * * * * * * * * * * * * * * * * * final call for papers * * * * * * * * * * * * * * * * * * * * * * * * * * * aim and format to survey research in the field , and to allow researchers ( in logic , computer science , artificial intelligence , linguistics , etc . ) to exchange ideas , techniques and results . o both finished work and work in progress can be reported . we welcome three classes of submissions with presentation : + system description : 2 pages ( system demo ) + work in progress : 5 pages ( short presentation ) + polished work : 15 pages ( long presentation ) o submissions will be refereed primarily on a basis of relevance , for an informal proceedings distributed only at the workshop . since an intention of the workshop is to survey current work , versions of papers that have been , or may , appear elsewhere are welcome . papers may later be submitted to a planned second round of refereeing , for proper publication as a book or journal special issue . o submissions should be sent by email : please mail + a postscript file , and + a plain text file including title , authors , and contact information to ld98 @ informatik . uni-freiburg . de * topics of interest we welcome papers on current research in all aspects of labelled deduction , including but not limited to : o logical modeling based on labelled deduction o formal metatheory for , or based on , labelled deduction o hybrid reasoners and combinations of logics based on labelling o automated reasoning , implementation , and system support o annotated logic programming o applications * important dates o submission : april 15th , 1998 o notification : june 26th , 1998 o final papers : july 31st , 1998 o workshop : sept 7 - 9 , 1998 * conference site institut fuer informatik of the university of freiburg . freiburg is a town of about 200 , 000 inhabitants at the edge of the black - forest . the city is easily accessible , being within an hour from international airports in strasbourg and basel . there are also good connections ( hourly trains ) to airports in frankfurt and zurich , which are about 2 to 3 hours away . * organizing committee david basin and luca vigano ` * program committee david basin , institut fuer informatik , freiburg , germany marcello d ' agostino , universita ` di ferrara , italy dov gabbay , imperial college , london , uk sean matthews , max - planck - institut fuer informatik , saarbruecken , germany luca vigano ` , institut fuer informatik , freiburg , germany * addresses o the ld ' 98 home page ( http : / / www . informatik . uni-freiburg . de / ~ ld98 / ) o email : ld98 @ informatik . uni-freiburg . de o by post : ld ' 98 c / o luca vigano ` institut fuer informatik universitaet freiburg am flughafen 17 79110 freiburg germany phone : + 49 ( 761 ) 203-8243 fax : + 49 ( 761 ) 203-8242\n",
            " \n",
            "\n",
            "----  Spam: False  ----\n",
            "Subject: \" metalangage et terminologie linguistique \" colloque internationa\n",
            "\n",
            "merci de diffuser sur votre reseau . = = = = = appel a participation = = = = = colloque international \" metalangage et terminologie linguistique \" deuxieme circulaire date : jeudi 14 , vendredi 15 , samedi 16 mai 1998 . secteur disciplinaire : sciences du langage . lieu : universite stendhal grenoble 3 , 1180 , avenue centrale , bp 25 x , f-38040 grenoble cedex 9 . entree sud . amphitheatres 7 , 8 , 9 , 10 ; salles f002 , 003 , 004 . instances organisatrices : centres de recherche \" histoire de la grammaire et de la rhetorique \" , ufr de lettres classiques et modernes , & \" metagram , metalangage grammatical \" , ufr des sciences du langage . adresses personnelles des responsables : bernard colombat ( colombat @ u-grenoble 3 . fr ) , 14 , allee de la praly , f-38240 meylan [ tel . 04 76 90 61 89 ] & marie savelli , domaine saint georges , f-38410 uriage [ tel . 04 76 89 09 20 ] frais d ' inscription : 200 francs ; cheque a libeller a l ' ordre de monsieur l ' agent comptable de l ' universite stendhal et a adresser ( ainsi que tout courrier ) a : mme pirkko albrand , secretariat a la recherche de l ' ufr de lettres , universite stendhal grenoble 3 , 1180 , avenue centrale , bp 25 x , f-38040 grenoble cedex 9 , france . ( voir fiches d ' inscription et de prereservation ci-jointes ) le suivi financier est assure par mme emilia rostaing , responsable du lidilem , ufr des sciences du langage . orientation generale du colloque et attendus ( lignes directrices ) : le but du colloque est de confronter des specialistes venus de differents horizons sur la question du metalangage et de la terminologie linguistiques . apres la proliferation terminologique observee dans la seconde moitie du xxe siecle , il nous semble que les linguistes eprouvent le besoin d ' une reflexion sur le role de la terminologie dans l ' activite metalinguistique , qu ' elle soit descriptive ou didactique . les linguistes occidentaux ont herite d ' une terminologie dont les origines sont lointaines , mais qui manifeste une stabilite remarquable , bien superieure en tout cas a certaines creations plus recentes . cette terminologie est fondee sur une specialisation du langage naturel : il s ' agit de faire un bilan sur l ' histoire de cette specialisation , en la comparant avec l ' evolution des terminologies liees a d ' autres langues de culture . au dela de ce retour sur un passe lointain ou plus recent et des confrontations avec d ' autres traditions , il conviendrait de s ' interroger sur la recherche d ' une adequation plus grande de l ' outil terminologique avec l ' activite metalinguistique . d ' abord en ce qui concerne la langue maternelle : quelle terminologie coherente pour une representation metalinguistique coherente ? mais dans une europe qui se construit sur le plan economique et politique , il serait dommage de renoncer a une harmonisation de la terminologie linguistique . celle - ci est pourtant loin d ' etre acquise . l ' un des buts de ce colloque sera de faire un bilan des tentatives effectuees dans ce domaine . axes principaux : 1 . les fondements de la terminologie linguistique : une terminologie est-elle necessaire a l ' activite metalinguistique ? peut-elle / doit-elle etre universelle ? pourquoi vehicule-t - on des terminologies ? quelles solutions sont offertes au terminologue ? concepts et metatermes cruciaux . 2 . histoire de la terminologie linguistique . 2a . l ' heritage du long terme de la tradition occidentale et les creations terminologiques du xxe siecle . 2b . rapport avec l ' ecriture , archeologie . les traditions non-occidentales . langues internationales . 3 . place de la terminologie dans l ' activite metalinguistique . 3a . linguistique et apprentissage , didactique du francais et des langues etrangeres , liens avec l ' institution ( programmes scolaires , nomenclatures officielles , etc . ) . 3b . terminologie des sciences connexes . 3c . linguistique contrastive . programme les communications sont d ' une duree de 20 minutes et sont suivies d ' une discussion de 8 minutes . 79 participants seront repartis en : - 12 communications en seance pleniere ; - 56 communications en seances paralleles ; - 11 communications sous forme de \" poster sessions \" ( exposition de leurs travaux par les participants grenoblois accompagnee d ' une table ronde ) . organisation des journees : mercredi 13 mai 1998 : a partir de 18 heures : accueil des participants . jeudi 14 mai 1998 : matin : accueil des participants ( suite ) ; 9 h : ouverture du colloque ; 5 communications en seance pleniere ( 9h30 - 10h30 & 11h - 12h30 ) apres-midi : 6 x 3 = 18 communications en seances paralleles ( 14h30 - 16h & 16h30 - 18h ) vendredi 15 mai 1998 : matin : 2 communications en seance pleniere ( 9-10 h ) et 4 x 3 = 12 communications en seances paralleles ( 10h30 - 12h30 ) apres-midi : sessions paralleles : 5 x 3 = 15 communications ( 14h30 - 16h & 16h30 - 17h30 ) samedi 16 mai 1998 : matin : 2 communications en seance pleniere ( 9-10 h ) et 4 x 3 = 12 communications en seances paralleles ( 10h30 - 12h30 ) apres-midi : 3 communications en seance pleniere ; table ronde : conclusions du colloque . comite international : ahlqvist , anders , universite de galway ( irlande ) ; auroux , sylvain , directeur de l ' ens saint - cloud , directeur de l ' ura 381 ; blanche - benveniste , claire , directrice de l ' upresa 6060 \" corpus \" , universite de provence ; chevalier , jean - claude , universites de paris vii et paris viii ; colombo - timelli , maria , universite de milan ( italie ) ; creissels , denis , universite louis lumiere ( lyon ii ) ; dabene , louise , directrice du lidilem , universite stendhal - grenoble iii ; fuchs , catherine , directrice de l ' upres - a 6047 , elsap , ens ( montrouge ) ; kibbee , douglas a . , universite de l ' illinois , urbana ( usa ) ; lazard , gilbert , membre de l ' institut , ephe ; lepinette , brigitte , universite de valencia ( espagne ) ; mota , antonia , universite de lisbonne ( portugal ) ; niederehe , hans - joseph , universite de treves ( allemagne ) ; orlandi , eni , universite de campinas ( unicamp ) , bresil ; reichler - beguelin , marie - jose , universite de neuchatel ( suisse ) ; willems , dominique , universite de gand ( belgique ) . comite d ' organisation ( universite stendhal - grenoble iii ) : antoniadis , georges , departement d ' informatique pedagogique ; boe , louis - jean , institut de la communication parlee , briot , madeleine , ufr des sciences du langage ; colombat , bernard , histoire de la grammaire et de la rhetorique ; cuq , jean - pierre , directeur du cedifleg ; degache , christian , centre de didactique des langues ( cdl ) ; fournier , nathalie , histoire de la grammaire et de la rhetorique ; furno , martine , histoire de la grammaire et de la rhetorique ; grossmann , francis , centre ivel ; lavault , elisabeth , directrice du gremuts ; letoublon , francoise , iuf , \" les langages scientifiques \" ; savelli , marie , directrice de metagram , lidilem . colloque international \" metalangage et terminologie linguistique \" 14-15 - 16 mai 1998 universite stendhal - grenoble 3 fiche d ' inscription ( a retourner au secretariat du colloque ) nom : . . . . . . . . . . . . . . . . . . . . . . . . . . . . . . . . . . . . . . . . . . . . . . . . . . . . . . . . . . . . . . . . . . . . . . . . . prenom : . . . . . . . . . . . . . . . . . . . . . . . . . . . . . . . . . . . . . . . . . . . . . . . . . . . . . . . . . . . . . . . . . . . . . . adresse : . . . . . . . . . . . . . . . . . . . . . . . . . . . . . . . . . . . . . . . . . . . . . . . . . . . . . . . . . . . . . . . . . . . . . . . . . . . . . . . . . . . . . . . . . . . . . . . . . . . . . . . . . . . . . . . . . . . . . . . . . . . . . . . . . . . . . . . . . . . . . . . . . . . . . . . . . . . . . . . . . . . . . . . . . . . . . . . . . . . . . . . . . . . . . . . . . . . . . . . . . . . . . . . . code postal : . . . . . . . . . . . . . . . . . . . . . . . . . . . . . . . . . ville : . . . . . . . . . . . . . . . . . . . . . . . . . . . . . . . . . . . . . . . . . . . . . . . . . pays : . . . . . . . . . . . . . . . . . . . . . . . . . . . . . . . . . . . . . . . . . . . . . . . . . . . . . . . . . . . . . . . . . . . . . . . . . . . . . . . . . . . . . . . . . . . . . . . . . . . . . . . . . . . . . . . . . . . . . . . tel . . . . . . . . . . . . . . . . . . . . . . . . . . . . . . . . . . . . . . . . . . . . . . . . . . . . . . . . . . . e - mail : . . . . . . . . . . . . . . . . . . . . . . . . . . . . . . . . . . . . . . . . . . . . . . droits d ' inscription au colloque : 200 f 50 f ( etudiant ) assistera au repas officiel du jeudi soir ( nous vous demandons une participation de 100 f ) inscription et repas : cheque de 200 f cheque de 300 f cheque a retourner , au secretariat du colloque , avant le 20 mars 1998 cheque a libeller a l ' ordre de : agent comptable de l ' universite rappel : secretariat a la recherche colloque \" metalangage et terminologie linguistique \" mme pirkko albrand ufr de lettres universite stendhal bp 25 f-38040 grenoble cedex 9 colloque international \" metalangage et terminologie linguistique \" 14-15 - 16 mai 1998 universite stendhal - grenoble 3 prereservation ( a retourner au secretariat du colloque ) nom : . . . . . . . . . . . . . . . . . . . . . . . . . . . . . . . . . . . . . . . . . . . . . . . . . . . . . . . . . . . . . . . . . . . . . . . . . . . . . . . . . . . . . . . . . . . . . . . . . . . . . . . . . . . . . . . . . . . . . prenom : . . . . . . . . . . . . . . . . . . . . . . . . . . . . . . . . . . . . . . . . . . . . . . . . . . . . . . . . . . . . . . . . . . . . . . . . . . . . . . . . . . . . . . . . . . . . . . . . . . . . . . . . . . . . . . . . . . . adresse : . . . . . . . . . . . . . . . . . . . . . . . . . . . . . . . . . . . . . . . . . . . . . . . . . . . . . . . . . . . . . . . . . . . . . . . . . . . . . . . . . . . . . . . . . . . . . . . . . . . . . . . . . . . . . . . . . . . . . . . . . . . . . . . . . . . . . . . . . . . . . . . . . . . . . . . . . . . . . . . . . . . . . . . . . . . . . . . . . . . . . . . . . . . . . . . . . . . . . . . . . . . . . . . . . . . . . . . . . . . . . . . . . . . . . . . . . . . . . . . . . . code postal : . . . . . . . . . . . . . . . . . . . . . . . . . . . . . . . . . . . . . . . ville : . . . . . . . . . . . . . . . . . . . . . . . . . . . . . . . . . . . . . . . . . . . . . . . . . pays : . . . . . . . . . . . . . . . . . . . . . . . . . . . . . . . . . . . . . . . . . . . . . . . . . . . . . . . . . . . . . . . . . . . . . . . . . . . . . . . . . . . . . . . . . . . . . . . . . . . . . . . . . . . . . . . . . . . . . . . tel . . . . . . . . . . . . . . . . . . . . . . . . . . . . . . . . . . . . . . . . . . . . . . . . . . . . . . . . . . . e - mail : . . . . . . . . . . . . . . . . . . . . . . . . . . . . . . . . . . . . . . . . . . . . . . souhaite reserver , par mes propres moyens , les chambres d ' hotel o delegue la reservation au comite d ' organisation du colloque ( tarif collectivite , maximum 250 f la nuit avec petit dejeuner , dans un hotel a proximite de la gare ) souhaite reserver : chambre pour les nuits du : o mercredi 13 mai 98 o jeudi 14 mai 98 o vendredi 15 mai 98 o samedi 16 mai 98 rappel : secretariat a la recherche colloque \" metalangage et terminologie linguistique \" mme pirkko albrand ufr de lettres universite stendhal bp 25 f-38040 grenoble cedex 9 _ _ _ _ _ _ _ _ _ _ _ _ _ _ _ _ _ _ _ _ _ _ _ _ _ _ _ _ _ _ _ _ _ _ _ _ _ _ _ _ _ _ _ _ _ _ _ _ _ _ _ _ _ _ _ _ _ _ _ _ _ _ _ _ _ _ _ _ georges antoniadis de ' partement informatique pe 'd agogique / equipe cristal-gresec universite ' stendhal tel : + 33 . ( 0 ) 4 76 82 77 61 + 33 . ( 0 ) 4 76 82 43 97 bp 25 fax : + 33 . ( 0 ) 4 76 82 41 26 38040 grenoble cedex 9 , france georges . antoniadis @ u-grenoble 3 . fr\n",
            " \n",
            "\n",
            "----  Spam: True  ----\n",
            "Subject: re : your request for an overview\n",
            "\n",
            "yes we do purchase uncollected judicial judgments ! ! if you , your company or an acquaintance have an uncollected judicial judgment then please call us and find out how we can help you receive the money that the court states you are rightfully due . we have strong interest in acquiring uncollected judicial judgments in your city and area . itc is the largest firm in the world specializing in the purchase and collection of judicial judgments . currently we are processing over 637 million dollars worth of judgments in the united states alone . we have associate offices in virtually every city in the us and in most foreign countries . you have nothing to lose and everything to gain by calling . there is absolutely no cost to you . we can be reached toll free at 1-800 - 409-8302 extension 1279 . you can call 24 hours per day . thank you for your time + + + + + + + + + + + + + + + + + + + + + + + + + + + + + + + + + + + + + + + + + + + + + + + + + + + + + + another internet ad campaign produced and distributed by : cyber advertising systems , ny , ny 10011 . please call cyber advertising systems at 1-800 - 409-8302 extension 1284 if you would like us to design and distribute powerful advertising for your company . success courses is pleased with the advertising we have developed for them . if you have a solid well proven product or service then we would be proud to help your company also . to be removed from our mailing list please reply to us at smithhammel66 @ yahoo . com and type the word remove on the subject line only . + + + + + + + + + + + + + + + + + + + + + + + + + + + + + + + + + + + + + + + + + + + + + + + + + + + + + +\n",
            " \n",
            "\n"
          ]
        }
      ]
    },
    {
      "cell_type": "markdown",
      "metadata": {
        "id": "qV7TyVTg226p"
      },
      "source": [
        "**Task**\n",
        "\n",
        "* Create a class to load the dataset \n",
        "    * To be able to batch emails, they have to have the same length. You can ensure this in different ways e.g. zero-padding\n",
        "    * Make a training and validation set based on *emails_ascii* and *targets*  \n",
        "* Create and train a recurrent model to classify whether the emails are spam or not\n",
        "    * Have a look at the [LSTM](https://pytorch.org/docs/stable/generated/torch.nn.LSTM.html) module and the [Embedding](https://pytorch.org/docs/stable/generated/torch.nn.Embedding.html) module"
      ]
    },
    {
      "cell_type": "code",
      "metadata": {
        "id": "2Mqh1HdN6bR8"
      },
      "source": [
        "class SpamEmailsDataset(torch.utils.data.Dataset):\n",
        "    \"\"\"Spam Email Dataset\"\"\"\n",
        "\n",
        "    def __init__(self, emails, targets, transform=None):\n",
        "      self.emails = emails\n",
        "      self.targets = torch.tensor(targets).to(torch.float32)\n",
        "      self.transform = transform\n",
        "\n",
        "      # zero-pad the emails\n",
        "      longest_len = 0\n",
        "      for email in emails:\n",
        "        if longest_len < len(email):\n",
        "          longest_len = len(email)\n",
        "      \n",
        "      # zero-pad the emails:\n",
        "      for i in range(len(emails)):\n",
        "        len_diff = longest_len - len(emails[i])\n",
        "        emails[i] += ' ' * len_diff\n",
        "      \n",
        "      # indice mails\n",
        "      self.indices_email = torch.zeros((len(self.emails), len(self.emails[0])), dtype=torch.long)\n",
        "      for i, email in enumerate(self.emails):\n",
        "        self.indices_email[i] = torch.tensor(np.array(list(email)).view(np.int32).astype(np.int64))\n",
        "      self.indices_email -= torch.min(self.indices_email)\n",
        "\n",
        "    def minmax_indices(self):\n",
        "      return torch.min(self.indices_email), torch.max(self.indices_email)\n",
        "\n",
        "    def __len__(self):\n",
        "      return len(self.emails)\n",
        "\n",
        "    def __getitem__(self, idx):\n",
        "      return self.indices_email[idx], self.targets[idx]\n",
        "\n",
        "# Spam Email Dataset # very slow\n",
        "spam_email_dataset = SpamEmailsDataset(emails, targets)"
      ],
      "execution_count": 24,
      "outputs": []
    },
    {
      "cell_type": "code",
      "metadata": {
        "id": "xLQPBjlxTJfx",
        "outputId": "be3c2766-985b-4fb6-8bd4-25c7d6873419",
        "colab": {
          "base_uri": "https://localhost:8080/"
        }
      },
      "source": [
        "# split training data up\n",
        "(train_set, valid_set, test_set) = torch.utils.data.random_split(spam_email_dataset, [2000, 200, 693])\n",
        "\n",
        "# dataloaders\n",
        "batch_size = 48\n",
        "loader_train = torch.utils.data.DataLoader(train_set, batch_size = batch_size, shuffle=True, num_workers=2)\n",
        "loader_valid = torch.utils.data.DataLoader(valid_set, batch_size = batch_size, shuffle=True, num_workers=2)\n",
        "loader_test = torch.utils.data.DataLoader(test_set, batch_size = batch_size, shuffle=True, num_workers=2)"
      ],
      "execution_count": 37,
      "outputs": [
        {
          "output_type": "stream",
          "name": "stderr",
          "text": [
            "/usr/local/lib/python3.7/dist-packages/torch/utils/data/dataloader.py:481: UserWarning: This DataLoader will create 8 worker processes in total. Our suggested max number of worker in current system is 2, which is smaller than what this DataLoader is going to create. Please be aware that excessive worker creation might get DataLoader running slow or even freeze, lower the worker number to avoid potential slowness/freeze if necessary.\n",
            "  cpuset_checked))\n"
          ]
        }
      ]
    },
    {
      "cell_type": "code",
      "metadata": {
        "id": "vg3tImwgIjdC"
      },
      "source": [
        "class SpamMailLSTM(nn.Module):\n",
        "    def __init__(self, hidden_dim, n_layers, output_size = 1, vocab_size = 112, embedding_dim = 2, drop_lstm=0.1, drop_out = 0.1):\n",
        "        super().__init__()\n",
        "        self.output_size = output_size\n",
        "        self.n_layers = n_layers\n",
        "        self.hidden_dim = hidden_dim\n",
        "        \n",
        "        # Embedding \n",
        "        self.embedding = nn.Embedding(vocab_size, embedding_dim)\n",
        "\n",
        "        # LSTM layers\n",
        "        self.lstm = nn.LSTM(embedding_dim, hidden_dim, n_layers, dropout=drop_lstm, batch_first=True)\n",
        "        \n",
        "        # Dropout layer\n",
        "        self.dropout = nn.Dropout(drop_out)\n",
        "        \n",
        "        # Linear and sigmoid layers\n",
        "        self.fc = nn.Linear(hidden_dim, output_size)\n",
        "        self.sig = nn.Sigmoid()\n",
        "        \n",
        "\n",
        "    def forward(self, x, seq_lengths):\n",
        "\n",
        "        # embeddings\n",
        "        embedded_seq_tensor = self.embedding(x)\n",
        "                \n",
        "        # pack, remove pads\n",
        "        packed_input = torch.nn.utils.rnn.pack_padded_sequence(embedded_seq_tensor, seq_lengths, batch_first=True)\n",
        "        \n",
        "        # lstm\n",
        "        # returns a packed version of all outputs states ct's, therefore returns\n",
        "        # the final output hidden state and ct\n",
        "        packed_output, (ht, ct) = self.lstm(packed_input, None)\n",
        "\n",
        "        # unpack, recover padded sequence \n",
        "        output, _ = torch.nn.utils.rnn.pad_packed_sequence(packed_output, batch_first=True)\n",
        "        output = output[:, -1, :]\n",
        "       \n",
        "        # collect the last output in each batch\n",
        "        # last_idxs = (input_sizes - 1).to(device) # last_idxs = input_sizes - torch.ones_like(input_sizes)\n",
        "        # output = torch.gather(output, 1, last_idxs.view(-1, 1).unsqueeze(2).repeat(1, 1, self.hidden_dim)).squeeze() # [batch_size, hidden_dim]\n",
        "        \n",
        "        # dropout and fully-connected layer\n",
        "        output = self.dropout(output)\n",
        "        output = self.fc(output).squeeze()\n",
        "               \n",
        "        # sigmoid function\n",
        "        logits = self.sig(output)\n",
        "        return logits"
      ],
      "execution_count": 38,
      "outputs": []
    },
    {
      "cell_type": "code",
      "metadata": {
        "id": "gVDXrXyCbsrZ"
      },
      "source": [
        "# Hyperparameters:\n",
        "\n",
        "SETTINGS = {\"batch_size\": batch_size,\n",
        "            \"embedding_dim\": 2,\n",
        "            \"n_layers\": 2,\n",
        "            \"hidden_dim\": 128,\n",
        "            \"epoch\": 5,\n",
        "            \"lr\": 1e-3,\n",
        "            \"clip\": 5}\n",
        "\n",
        "device = torch.device(\"cuda\")"
      ],
      "execution_count": 40,
      "outputs": []
    },
    {
      "cell_type": "code",
      "metadata": {
        "colab": {
          "base_uri": "https://localhost:8080/",
          "height": 324,
          "referenced_widgets": [
            "5282a6e665304208a21732ebd3da0011",
            "441a072e7da846919592879c1f8f14d8",
            "f28d2619c84f4feb8a17f7391bf238a3",
            "4a94b3e7f03445f2bba16b8ec8e350e6",
            "54a01394a3f942df9e60342a292a9f20",
            "8cd4b6ecf0e14465a474d46b7135e769",
            "d3f54b70c5c5403689b28befde393c35",
            "6040c844dbcd448f8f3fb18b259944c7",
            "19e813eca23b424e982f9350ddcdaa9f",
            "91eb61894d15426d81b4a64c07388bed",
            "94ccf0304629437191a77538cc7eaee1"
          ]
        },
        "id": "44hLWpeAY4xJ",
        "outputId": "9abb90bf-0ef3-4dd9-c627-f267cf92f3ae"
      },
      "source": [
        "spam_lstm_net = SpamMailLSTM( hidden_dim = SETTINGS[\"hidden_dim\"], \\\n",
        "                              n_layers = SETTINGS[\"n_layers\"], \\\n",
        "                              output_size = 1, \\\n",
        "                              vocab_size = 117, \\\n",
        "                              embedding_dim = SETTINGS[\"embedding_dim\"] \\\n",
        "                             ).to(device)\n",
        "\n",
        "opt = torch.optim.Adam(spam_lstm_net.parameters(), SETTINGS[\"lr\"])\n",
        "scheduler = torch.optim.lr_scheduler.ReduceLROnPlateau(opt, mode='min', factor=0.5, patience=2)\n",
        "criterion = torch.nn.BCELoss()\n",
        "\n",
        "train_loss, valid_loss = [], []\n",
        "train_accuracy, valid_accuracy = [], []\n",
        "\n",
        "for epoch in tqdm(range(SETTINGS[\"epoch\"])):\n",
        "\n",
        "  # Set to training mode\n",
        "  spam_lstm_net.train()\n",
        "\n",
        "  # Parameters\n",
        "  losses, accuracy = [], []\n",
        "\n",
        "  for x, y in loader_train:\n",
        "    \n",
        "    # Get data pairs (input, target)\n",
        "    x, y = x.to(device), y.to(device)\n",
        "\n",
        "    # Get a sequential length\n",
        "    seq_length = [x.shape[1]] * x.shape[0]\n",
        "\n",
        "    # Returns the logits\n",
        "    logits = spam_lstm_net(x, seq_length)\n",
        "\n",
        "    # Compute the loss\n",
        "    loss = criterion(logits, y)\n",
        "\n",
        "    \n",
        "    opt.zero_grad()\n",
        "    loss.backward()\n",
        "\n",
        "    # Step\n",
        "    nn.utils.clip_grad_norm_(spam_lstm_net.parameters(), SETTINGS[\"clip\"])\n",
        "    opt.step()\n",
        "\n",
        "    accuracy.append((torch.sum((logits > 0.5).to(torch.float32) == y)).detach().cpu().item())\n",
        "    losses.append(loss.item())\n",
        "    \n",
        "  \n",
        "  # Update loss\n",
        "  train_loss.append(np.mean(losses))\n",
        "  train_accuracy(np.mean(accuracy)/2000)\n",
        "  \n",
        "\n",
        "  # ------------------------ #\n",
        "\n",
        "  # Set to eval mode\n",
        "  spam_lstm_net.eval()\n",
        "\n",
        "  with torch.no_grad():\n",
        "\n",
        "    # Parameters\n",
        "    losses = []\n",
        "\n",
        "    for x, y in loader_valid:\n",
        "      \n",
        "      # Get data pairs (input, target)\n",
        "      x, y = x.to(device), y.to(device)\n",
        "\n",
        "      # Get a sequential length\n",
        "      seq_length = [x.shape[1]] * x.shape[0]\n",
        "\n",
        "      # Returns the logits\n",
        "      logits = spam_lstm_net(x, seq_length)\n",
        "\n",
        "      # Compute the loss\n",
        "      loss = criterion(logits, y)\n",
        "      opt.zero_grad()\n",
        "      loss.backward()\n",
        "\n",
        "      # Step\n",
        "      nn.utils.clip_grad_norm_(spam_lstm_net.parameters(), SETTINGS[\"clip\"])\n",
        "      opt.step()\n",
        "      \n",
        "      accuracy.append((torch.sum((logits > 0.5).to(torch.float32) == y)).detach().cpu().item())\n",
        "      losses.append(loss.item())\n",
        "  \n",
        "  # Update loss\n",
        "  valid_loss.append(np.mean(losses))\n",
        "  valid_accuracy(np.mean(accuracy)/200)\n",
        "\n",
        "  # Step the scheduler\n",
        "  scheduler.step()\n",
        "\n",
        "\n"
      ],
      "execution_count": 41,
      "outputs": [
        {
          "output_type": "display_data",
          "data": {
            "application/vnd.jupyter.widget-view+json": {
              "model_id": "5282a6e665304208a21732ebd3da0011",
              "version_minor": 0,
              "version_major": 2
            },
            "text/plain": [
              "  0%|          | 0/5 [00:00<?, ?it/s]"
            ]
          },
          "metadata": {}
        },
        {
          "output_type": "stream",
          "name": "stderr",
          "text": [
            "/usr/local/lib/python3.7/dist-packages/torch/utils/data/dataloader.py:481: UserWarning: This DataLoader will create 8 worker processes in total. Our suggested max number of worker in current system is 2, which is smaller than what this DataLoader is going to create. Please be aware that excessive worker creation might get DataLoader running slow or even freeze, lower the worker number to avoid potential slowness/freeze if necessary.\n",
            "  cpuset_checked))\n"
          ]
        },
        {
          "output_type": "error",
          "ename": "TypeError",
          "evalue": "ignored",
          "traceback": [
            "\u001b[0;31m---------------------------------------------------------------------------\u001b[0m",
            "\u001b[0;31mTypeError\u001b[0m                                 Traceback (most recent call last)",
            "\u001b[0;32m<ipython-input-41-e6397ffd14f7>\u001b[0m in \u001b[0;36m<module>\u001b[0;34m()\u001b[0m\n\u001b[1;32m     42\u001b[0m   \u001b[0;31m# Update loss\u001b[0m\u001b[0;34m\u001b[0m\u001b[0;34m\u001b[0m\u001b[0;34m\u001b[0m\u001b[0m\n\u001b[1;32m     43\u001b[0m   \u001b[0mtrain_loss\u001b[0m\u001b[0;34m.\u001b[0m\u001b[0mappend\u001b[0m\u001b[0;34m(\u001b[0m\u001b[0mnp\u001b[0m\u001b[0;34m.\u001b[0m\u001b[0mmean\u001b[0m\u001b[0;34m(\u001b[0m\u001b[0mlosses\u001b[0m\u001b[0;34m)\u001b[0m\u001b[0;34m)\u001b[0m\u001b[0;34m\u001b[0m\u001b[0;34m\u001b[0m\u001b[0m\n\u001b[0;32m---> 44\u001b[0;31m   \u001b[0mtrain_accuracy\u001b[0m\u001b[0;34m(\u001b[0m\u001b[0mnp\u001b[0m\u001b[0;34m.\u001b[0m\u001b[0mmean\u001b[0m\u001b[0;34m(\u001b[0m\u001b[0maccuracy\u001b[0m\u001b[0;34m)\u001b[0m\u001b[0;34m/\u001b[0m\u001b[0;36m2000\u001b[0m\u001b[0;34m)\u001b[0m\u001b[0;34m\u001b[0m\u001b[0;34m\u001b[0m\u001b[0m\n\u001b[0m\u001b[1;32m     45\u001b[0m \u001b[0;34m\u001b[0m\u001b[0m\n\u001b[1;32m     46\u001b[0m \u001b[0;34m\u001b[0m\u001b[0m\n",
            "\u001b[0;31mTypeError\u001b[0m: 'list' object is not callable"
          ]
        }
      ]
    },
    {
      "cell_type": "markdown",
      "metadata": {
        "id": "wN5YXjRm6bwM"
      },
      "source": [
        "# Bonus - Number sorting\n",
        "Create and train a NN to sort a sequence of iid standard normally distributed numbers  \n",
        "Hint: Encoder-Decoder"
      ]
    },
    {
      "cell_type": "code",
      "metadata": {
        "id": "uvTi0VQN6uu6"
      },
      "source": [
        ""
      ],
      "execution_count": null,
      "outputs": []
    }
  ]
}