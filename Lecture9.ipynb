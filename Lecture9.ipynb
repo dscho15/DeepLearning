{
  "cells": [
    {
      "cell_type": "markdown",
      "metadata": {
        "id": "NMCip8XbP3tv"
      },
      "source": [
        "# LSTM"
      ]
    },
    {
      "cell_type": "code",
      "execution_count": 1,
      "metadata": {
        "colab": {
          "base_uri": "https://localhost:8080/"
        },
        "id": "-gEXnWJ1EQ8M",
        "outputId": "422931b5-7667-456d-b958-d14b1dfb1525"
      },
      "outputs": [
        {
          "data": {
            "text/plain": [
              "<torch._C.Generator at 0x7f88ccf69d50>"
            ]
          },
          "execution_count": 1,
          "metadata": {},
          "output_type": "execute_result"
        }
      ],
      "source": [
        "import glob\n",
        "from pathlib import Path\n",
        "import tqdm as tqdm\n",
        "import numpy as np\n",
        "import matplotlib.pyplot as plt\n",
        "import torch\n",
        "from torch import nn\n",
        "from torch.nn import functional as F\n",
        "from torchtext.data import get_tokenizer\n",
        "from tqdm.notebook import tqdm\n",
        "from google_drive_downloader import GoogleDriveDownloader as gdd\n",
        "\n",
        "torch.manual_seed(0)\n"
      ]
    },
    {
      "cell_type": "code",
      "execution_count": 3,
      "metadata": {
        "id": "BVQbR_cCNVuS"
      },
      "outputs": [],
      "source": [
        "# Download data\n",
        "\n",
        "gdd.download_file_from_google_drive('13DLnvpRhDO-D5JHCuPq85k_v-yMiMNCQ', '~/lingsmap_public-bare.zip', unzip=True)\n",
        "assert Path('~/lingsmap_public-bare').exists()\n"
      ]
    },
    {
      "cell_type": "code",
      "execution_count": 4,
      "metadata": {
        "colab": {
          "base_uri": "https://localhost:8080/",
          "height": 367,
          "referenced_widgets": [
            "4f76aa20186340ea91fc19ab7ca6e4e4",
            "a44bc80cd0bf45eea992b3e8fa8de99f",
            "f86dffac66d641c0858903c15843ba56",
            "ed90ff3db3124ccf90a78427850cd386",
            "17c76f12df534a678023f149761995ed",
            "7dcbab2118f64b4198c71a503f52999c",
            "0a990eb8c3464825b434b87144fe024f",
            "fb47e114f59e4fb98fb01a8799a42fdf",
            "36016b04c34c4e5eb6de4baef1f13b32",
            "1d8ba02daaf44421894dcd78a0eb312e",
            "ed47cb14c73148cf9ac4b4e7eb741db5"
          ]
        },
        "id": "VFJi3Z8sNuL0",
        "outputId": "a2310c68-90b3-4efe-fec1-1bf8a0c7858c"
      },
      "outputs": [
        {
          "data": {
            "application/vnd.jupyter.widget-view+json": {
              "model_id": "ca1e16bb814348c5aa824ec47cf1b701",
              "version_major": 2,
              "version_minor": 0
            },
            "text/plain": [
              "  0%|          | 0/2893 [00:00<?, ?it/s]"
            ]
          },
          "metadata": {},
          "output_type": "display_data"
        },
        {
          "data": {
            "image/png": "[encoded data removed]",
            "text/plain": [
              "<Figure size 432x288 with 1 Axes>"
            ]
          },
          "metadata": {
            "needs_background": "light"
          },
          "output_type": "display_data"
        },
        {
          "name": "stdout",
          "output_type": "stream",
          "text": [
            "2893 emails\n",
            "percentage spam: 0.17\n",
            "ascii codes between 10 and 126\n"
          ]
        }
      ],
      "source": [
        "# Load data\n",
        "\n",
        "filepaths = glob.glob('~/lingsmap_public-bare/*/*.txt')\n",
        "emails = []\n",
        "emails_ascii = []\n",
        "targets = []\n",
        "\n",
        "for i, filepath in enumerate(tqdm(filepaths)):\n",
        "    with open(filepath) as file:\n",
        "        email = file.read()\n",
        "    emails.append(email)\n",
        "    # convert character to ascii code\n",
        "    emails_ascii.append([ord(c) for c in email])\n",
        "    targets.append('spmsg' in filepath)\n",
        "\n",
        "plt.hist([len(e) for e in emails], np.logspace(1, 5))\n",
        "plt.xlabel('email text length')\n",
        "plt.ylabel('#')\n",
        "plt.xscale('log')\n",
        "plt.show()\n",
        "\n",
        "print(f'{len(emails)} emails')\n",
        "print(f'percentage spam: {np.mean(targets):.2f}')\n",
        "emails_ascii_flat = np.concatenate(emails_ascii)\n",
        "print(\n",
        "    f'ascii codes between {emails_ascii_flat.min()} and {emails_ascii_flat.max()}')\n"
      ]
    },
    {
      "cell_type": "markdown",
      "metadata": {},
      "source": [
        "# So even if we just guess 'not spam' all the time, we can get 83 % correct. Lets consider this as the **baseline**."
      ]
    },
    {
      "cell_type": "code",
      "execution_count": 5,
      "metadata": {},
      "outputs": [],
      "source": [
        "# Preprocess emails\n",
        "import string\n",
        "import re\n",
        "import nltk\n",
        "from nltk.tokenize import TweetTokenizer\n",
        "from nltk.corpus import stopwords\n",
        "# nltk.download() needed if data isnt stored\n",
        "\n",
        "tokenizer = get_tokenizer(\"basic_english\")\n",
        "stop_words = stopwords.words('english')\n",
        "for i in range(256):\n",
        "    stop_words.append(chr(i))\n",
        "\n",
        "\n",
        "def clean_text(text):\n",
        "    # remove numbers\n",
        "    text_nonum = re.sub(r'\\d+', '', text)\n",
        "    # remove punctuations and convert characters to lower case\n",
        "    text_nopunct = \"\".join(\n",
        "        [char.lower() for char in text_nonum if char not in string.punctuation])\n",
        "    # substitute multiple whitespace with single whitespace, also, removes leading and trailing whitespaces\n",
        "    text_no_doublespace = re.sub('\\s+', ' ', text_nopunct).strip()\n",
        "    return text_no_doublespace\n",
        "\n",
        "\n",
        "def pre_process_words(email):\n",
        "    global tokenizer\n",
        "    text = clean_text(email)\n",
        "    tokens = tokenizer(text)\n",
        "    tokens = [word for word in tokens if not word in stop_words]\n",
        "    return np.array(tokens)\n",
        "\n",
        "\n",
        "def gen_vocab(emails):\n",
        "    # take the mails and cat them\n",
        "    email_cat = emails[0]\n",
        "    for i in range(1, len(emails)):\n",
        "        email_cat += \" \" + emails[i]\n",
        "    # clean text from punctuations etc\n",
        "    words = pre_process_words(email_cat)\n",
        "    # get unique vocals\n",
        "    return np.unique(words)"
      ]
    },
    {
      "cell_type": "markdown",
      "metadata": {},
      "source": [
        "# Dataset\n",
        "\n"
      ]
    },
    {
      "cell_type": "code",
      "execution_count": 7,
      "metadata": {
        "id": "2Mqh1HdN6bR8"
      },
      "outputs": [],
      "source": [
        "class SpamEmailsDataset(torch.utils.data.Dataset):\n",
        "\n",
        "    def __init__(self, emails, targets, samples = 100):\n",
        "        vocab = np.append(gen_vocab(emails.copy()), ' ')\n",
        "        self.vocab_dict = {ele: i for i, ele in enumerate(vocab)}\n",
        "        self.targets = torch.tensor(targets).to(torch.float32)\n",
        "        self.data = []\n",
        "        self.samples = samples\n",
        "        for i in range(len(emails)):\n",
        "            self.data.append(pre_process_words(emails[i]))\n",
        "\n",
        "    def __len__(self):\n",
        "        return self.targets.shape[0]\n",
        "\n",
        "    def __getitem__(self, idx):\n",
        "        # Index\n",
        "        index = np.random.randint(0, self.data[idx].shape[0], (1))[0]\n",
        "        # Ternary\n",
        "        if index+self.samples>self.data[idx].shape[0]:\n",
        "            email = self.data[idx][index:]\n",
        "        else:\n",
        "            email = self.data[idx][index:index+self.samples]\n",
        "        # Empty tensor\n",
        "        tensor = torch.zeros((self.samples), dtype=torch.int64)\n",
        "        for i in range(len(email)):\n",
        "            tensor[i] = self.vocab_dict[email[i]]\n",
        "        return tensor, torch.LongTensor([len(email)-1]), self.targets[idx]"
      ]
    },
    {
      "cell_type": "code",
      "execution_count": 8,
      "metadata": {},
      "outputs": [],
      "source": [
        "# spam email dataset, a whole lot of pre-processing occurs in here, so it might be slow\n",
        "spam_email_dataset = SpamEmailsDataset(emails, targets)\n",
        "\n",
        "# split training data up\n",
        "(train_set, valid_set, test_set) = torch.utils.data.random_split(spam_email_dataset, [2400, 200, 2893-2400-200])\n",
        "\n",
        "# dataloaders\n",
        "batch_size = 64\n",
        "loader_train = torch.utils.data.DataLoader(train_set, batch_size = batch_size, shuffle=True, num_workers=12)\n",
        "loader_valid = torch.utils.data.DataLoader(valid_set, batch_size = batch_size, shuffle=True, num_workers=12)\n",
        "loader_test = torch.utils.data.DataLoader(test_set, batch_size = batch_size, shuffle=True, num_workers=12)"
      ]
    },
    {
      "cell_type": "code",
      "execution_count": 9,
      "metadata": {
        "id": "vg3tImwgIjdC"
      },
      "outputs": [],
      "source": [
        "class SpamMailLSTM(nn.Module):\n",
        "    \n",
        "    def __init__(self, hidden_dim, n_layers, output_size=1, vocab_size=57150, embedding_dim=100, drop_lstm=0.10):\n",
        "        super().__init__()\n",
        "\n",
        "        # Output size\n",
        "        self.output_size = output_size\n",
        "        self.n_layers = n_layers\n",
        "        self.hidden_dim = hidden_dim\n",
        "\n",
        "        # Embedding\n",
        "        self.emb = nn.Embedding(vocab_size, embedding_dim)\n",
        "        self.lstm = nn.LSTM(embedding_dim, hidden_dim, n_layers, dropout=drop_lstm, batch_first=True)\n",
        "        self.lin = nn.Linear(hidden_dim, output_size)\n",
        "\n",
        "    def forward(self, x, end_index):\n",
        "        end_index = end_index.reshape(-1)\n",
        "        x = self.emb(x)\n",
        "        y = self.lstm(x)[0][torch.arange(len(x)), end_index]\n",
        "        return torch.sigmoid(self.lin(y)).view(-1)\n"
      ]
    },
    {
      "cell_type": "code",
      "execution_count": 10,
      "metadata": {
        "id": "gVDXrXyCbsrZ"
      },
      "outputs": [],
      "source": [
        "# Hyperparameters:\n",
        "SETTINGS = {\n",
        "            \"batch_size\": batch_size,\n",
        "            \"embedding_dim\": 100,\n",
        "            \"n_layers\": 2,\n",
        "            \"hidden_dim\": 512,\n",
        "            \"epoch\": 20,\n",
        "            \"lr\": 5e-4,\n",
        "            \"clip\": 1\n",
        "            }\n",
        "\n",
        "device = torch.device(\"cuda\")"
      ]
    },
    {
      "cell_type": "code",
      "execution_count": 14,
      "metadata": {
        "colab": {
          "base_uri": "https://localhost:8080/",
          "height": 324,
          "referenced_widgets": [
            "5282a6e665304208a21732ebd3da0011",
            "441a072e7da846919592879c1f8f14d8",
            "f28d2619c84f4feb8a17f7391bf238a3",
            "4a94b3e7f03445f2bba16b8ec8e350e6",
            "54a01394a3f942df9e60342a292a9f20",
            "8cd4b6ecf0e14465a474d46b7135e769",
            "d3f54b70c5c5403689b28befde393c35",
            "6040c844dbcd448f8f3fb18b259944c7",
            "19e813eca23b424e982f9350ddcdaa9f",
            "91eb61894d15426d81b4a64c07388bed",
            "94ccf0304629437191a77538cc7eaee1"
          ]
        },
        "id": "44hLWpeAY4xJ",
        "outputId": "9abb90bf-0ef3-4dd9-c627-f267cf92f3ae"
      },
      "outputs": [
        {
          "data": {
            "application/vnd.jupyter.widget-view+json": {
              "model_id": "fb508c0f7ce441568744c14881fd96b5",
              "version_major": 2,
              "version_minor": 0
            },
            "text/plain": [
              "  0%|          | 0/20 [00:00<?, ?it/s]"
            ]
          },
          "metadata": {},
          "output_type": "display_data"
        },
        {
          "data": {
            "image/png": "[encoded data removed]",
            "text/plain": [
              "<Figure size 720x720 with 2 Axes>"
            ]
          },
          "metadata": {
            "needs_background": "light"
          },
          "output_type": "display_data"
        }
      ],
      "source": [
        "net = SpamMailLSTM(\n",
        "                             hidden_dim=SETTINGS[\"hidden_dim\"],\n",
        "                             n_layers=SETTINGS[\"n_layers\"],\n",
        "                             output_size=1,\n",
        "                             vocab_size=57150,\n",
        "                             embedding_dim=SETTINGS[\"embedding_dim\"]\n",
        "                             ).to(device)\n",
        "\n",
        "opt = torch.optim.Adam(net.parameters(), SETTINGS[\"lr\"])\n",
        "\n",
        "train_loss, valid_loss = [], []\n",
        "train_accuracy, valid_accuracy = [], []\n",
        "\n",
        "for epoch in tqdm(range(SETTINGS[\"epoch\"])):\n",
        "\n",
        "    # Set to training mode\n",
        "    net.train()\n",
        "\n",
        "    # Parameters\n",
        "    losses, accuracy = [], []\n",
        "\n",
        "    for x, end_index, y in loader_train:\n",
        "\n",
        "        # Get data pairs (input, target)\n",
        "        x, y = x.to(device), y.to(device)\n",
        "        \n",
        "        # Returns the logits\n",
        "        logits = net(x, end_index)\n",
        "\n",
        "        # Compute the loss\n",
        "        loss = F.binary_cross_entropy(logits, y)\n",
        "        opt.zero_grad()\n",
        "        loss.backward()\n",
        "\n",
        "        # Step\n",
        "        nn.utils.clip_grad_norm_(net.parameters(), SETTINGS[\"clip\"])\n",
        "        opt.step()\n",
        "\n",
        "        accuracy.append((torch.sum((logits > 0.5).to(torch.float32) == y)).detach().cpu().item())\n",
        "        losses.append(loss.item())\n",
        "\n",
        "    # Update loss\n",
        "    train_loss.append(np.mean(losses))\n",
        "    train_accuracy.append(np.sum(accuracy)/2400)\n",
        "\n",
        "    # Set to eval mode\n",
        "    net.eval()\n",
        "    \n",
        "    with torch.no_grad():\n",
        "\n",
        "        # Parameters\n",
        "        losses, accuracy = [], []\n",
        "        for x, end_index, y in loader_valid:\n",
        "\n",
        "            # Get data pairs (input, target)\n",
        "            x, y = x.to(device), y.to(device)\n",
        "\n",
        "            # Returns the logits\n",
        "            logits = net(x, end_index)\n",
        "\n",
        "            # Compute the loss\n",
        "            loss = F.binary_cross_entropy(logits, y)\n",
        "            accuracy.append((torch.sum((logits > 0.5).to(torch.float32) == y)).detach().cpu().item())\n",
        "            losses.append(loss.item())\n",
        "\n",
        "    # Update loss\n",
        "    valid_loss.append(np.mean(losses))\n",
        "    valid_accuracy.append(np.sum(accuracy)/200)\n",
        "\n",
        "plt.figure(1, figsize=(10, 10))\n",
        "\n",
        "plt.subplot(2,1,1)\n",
        "plt.plot(train_loss, label=\"train_loss\")\n",
        "plt.plot(valid_loss, label=\"valid_loss\")\n",
        "plt.legend()\n",
        "plt.grid()\n",
        "\n",
        "plt.subplot(2,1,2)\n",
        "plt.plot(valid_accuracy, label=\"train_accuracy\")\n",
        "plt.plot(train_accuracy, label=\"valid_accuracy\")\n",
        "plt.legend()\n",
        "plt.grid()\n",
        "plt.show()\n"
      ]
    },
    {
      "cell_type": "code",
      "execution_count": 22,
      "metadata": {},
      "outputs": [
        {
          "name": "stdout",
          "output_type": "stream",
          "text": [
            "I have not incorporated sample versus not-sampled based.\n",
            "0.9726962457337884\n"
          ]
        }
      ],
      "source": [
        "net.eval()\n",
        "\n",
        "with torch.no_grad():\n",
        "\n",
        "    # Parameters\n",
        "    losses, accuracy = [], []\n",
        "\n",
        "    for x, end_index, y in loader_test:\n",
        "\n",
        "        # Get data pairs (input, target)\n",
        "        x, y = x.to(device), y.to(device)\n",
        "\n",
        "        # Returns the logits\n",
        "        logits = net(x, end_index)\n",
        "        \n",
        "        loss = F.binary_cross_entropy_with_logits(logits, y)\n",
        "\n",
        "        # Accuracy\n",
        "        accuracy.append((torch.sum((logits > 0.5).to(torch.float32) == y)).detach().cpu().item())\n",
        "\n",
        "print(\"I have not incorporated sample versus not-sampled based.\")\n",
        "print(np.sum(accuracy)/(2893-2400-200))"
      ]
    }
  ],
  "metadata": {
    "accelerator": "GPU",
    "colab": {
      "collapsed_sections": [],
      "include_colab_link": true,
      "name": "09_lstm_template.ipynb",
      "provenance": []
    },
    "interpreter": {
      "hash": "da16af47213b0a7e835d81544b2a30ada431c6e2a078290c1030dc346c574938"
    },
    "kernelspec": {
      "display_name": "Python 3.7.11 64-bit ('ros': conda)",
      "name": "python3"
    },
    "language_info": {
      "codemirror_mode": {
        "name": "ipython",
        "version": 3
      },
      "file_extension": ".py",
      "mimetype": "text/x-python",
      "name": "python",
      "nbconvert_exporter": "python",
      "pygments_lexer": "ipython3",
      "version": "3.7.11"
    },
    "widgets": {
      "application/vnd.jupyter.widget-state+json": {
        "0a990eb8c3464825b434b87144fe024f": {
          "model_module": "@jupyter-widgets/base",
          "model_module_version": "1.2.0",
          "model_name": "LayoutModel",
          "state": {
            "_model_module": "@jupyter-widgets/base",
            "_model_module_version": "1.2.0",
            "_model_name": "LayoutModel",
            "_view_count": null,
            "_view_module": "@jupyter-widgets/base",
            "_view_module_version": "1.2.0",
            "_view_name": "LayoutView",
            "align_content": null,
            "align_items": null,
            "align_self": null,
            "border": null,
            "bottom": null,
            "display": null,
            "flex": null,
            "flex_flow": null,
            "grid_area": null,
            "grid_auto_columns": null,
            "grid_auto_flow": null,
            "grid_auto_rows": null,
            "grid_column": null,
            "grid_gap": null,
            "grid_row": null,
            "grid_template_areas": null,
            "grid_template_columns": null,
            "grid_template_rows": null,
            "height": null,
            "justify_content": null,
            "justify_items": null,
            "left": null,
            "margin": null,
            "max_height": null,
            "max_width": null,
            "min_height": null,
            "min_width": null,
            "object_fit": null,
            "object_position": null,
            "order": null,
            "overflow": null,
            "overflow_x": null,
            "overflow_y": null,
            "padding": null,
            "right": null,
            "top": null,
            "visibility": null,
            "width": null
          }
        },
        "17c76f12df534a678023f149761995ed": {
          "model_module": "@jupyter-widgets/controls",
          "model_module_version": "1.5.0",
          "model_name": "HTMLModel",
          "state": {
            "_dom_classes": [],
            "_model_module": "@jupyter-widgets/controls",
            "_model_module_version": "1.5.0",
            "_model_name": "HTMLModel",
            "_view_count": null,
            "_view_module": "@jupyter-widgets/controls",
            "_view_module_version": "1.5.0",
            "_view_name": "HTMLView",
            "description": "",
            "description_tooltip": null,
            "layout": "IPY_MODEL_ed47cb14c73148cf9ac4b4e7eb741db5",
            "placeholder": "​",
            "style": "IPY_MODEL_1d8ba02daaf44421894dcd78a0eb312e",
            "value": " 2893/2893 [00:01&lt;00:00, 2978.84it/s]"
          }
        },
        "19e813eca23b424e982f9350ddcdaa9f": {
          "model_module": "@jupyter-widgets/base",
          "model_module_version": "1.2.0",
          "model_name": "LayoutModel",
          "state": {
            "_model_module": "@jupyter-widgets/base",
            "_model_module_version": "1.2.0",
            "_model_name": "LayoutModel",
            "_view_count": null,
            "_view_module": "@jupyter-widgets/base",
            "_view_module_version": "1.2.0",
            "_view_name": "LayoutView",
            "align_content": null,
            "align_items": null,
            "align_self": null,
            "border": null,
            "bottom": null,
            "display": null,
            "flex": null,
            "flex_flow": null,
            "grid_area": null,
            "grid_auto_columns": null,
            "grid_auto_flow": null,
            "grid_auto_rows": null,
            "grid_column": null,
            "grid_gap": null,
            "grid_row": null,
            "grid_template_areas": null,
            "grid_template_columns": null,
            "grid_template_rows": null,
            "height": null,
            "justify_content": null,
            "justify_items": null,
            "left": null,
            "margin": null,
            "max_height": null,
            "max_width": null,
            "min_height": null,
            "min_width": null,
            "object_fit": null,
            "object_position": null,
            "order": null,
            "overflow": null,
            "overflow_x": null,
            "overflow_y": null,
            "padding": null,
            "right": null,
            "top": null,
            "visibility": null,
            "width": null
          }
        },
        "1d8ba02daaf44421894dcd78a0eb312e": {
          "model_module": "@jupyter-widgets/controls",
          "model_module_version": "1.5.0",
          "model_name": "DescriptionStyleModel",
          "state": {
            "_model_module": "@jupyter-widgets/controls",
            "_model_module_version": "1.5.0",
            "_model_name": "DescriptionStyleModel",
            "_view_count": null,
            "_view_module": "@jupyter-widgets/base",
            "_view_module_version": "1.2.0",
            "_view_name": "StyleView",
            "description_width": ""
          }
        },
        "36016b04c34c4e5eb6de4baef1f13b32": {
          "model_module": "@jupyter-widgets/base",
          "model_module_version": "1.2.0",
          "model_name": "LayoutModel",
          "state": {
            "_model_module": "@jupyter-widgets/base",
            "_model_module_version": "1.2.0",
            "_model_name": "LayoutModel",
            "_view_count": null,
            "_view_module": "@jupyter-widgets/base",
            "_view_module_version": "1.2.0",
            "_view_name": "LayoutView",
            "align_content": null,
            "align_items": null,
            "align_self": null,
            "border": null,
            "bottom": null,
            "display": null,
            "flex": null,
            "flex_flow": null,
            "grid_area": null,
            "grid_auto_columns": null,
            "grid_auto_flow": null,
            "grid_auto_rows": null,
            "grid_column": null,
            "grid_gap": null,
            "grid_row": null,
            "grid_template_areas": null,
            "grid_template_columns": null,
            "grid_template_rows": null,
            "height": null,
            "justify_content": null,
            "justify_items": null,
            "left": null,
            "margin": null,
            "max_height": null,
            "max_width": null,
            "min_height": null,
            "min_width": null,
            "object_fit": null,
            "object_position": null,
            "order": null,
            "overflow": null,
            "overflow_x": null,
            "overflow_y": null,
            "padding": null,
            "right": null,
            "top": null,
            "visibility": null,
            "width": null
          }
        },
        "441a072e7da846919592879c1f8f14d8": {
          "model_module": "@jupyter-widgets/base",
          "model_module_version": "1.2.0",
          "model_name": "LayoutModel",
          "state": {
            "_model_module": "@jupyter-widgets/base",
            "_model_module_version": "1.2.0",
            "_model_name": "LayoutModel",
            "_view_count": null,
            "_view_module": "@jupyter-widgets/base",
            "_view_module_version": "1.2.0",
            "_view_name": "LayoutView",
            "align_content": null,
            "align_items": null,
            "align_self": null,
            "border": null,
            "bottom": null,
            "display": null,
            "flex": null,
            "flex_flow": null,
            "grid_area": null,
            "grid_auto_columns": null,
            "grid_auto_flow": null,
            "grid_auto_rows": null,
            "grid_column": null,
            "grid_gap": null,
            "grid_row": null,
            "grid_template_areas": null,
            "grid_template_columns": null,
            "grid_template_rows": null,
            "height": null,
            "justify_content": null,
            "justify_items": null,
            "left": null,
            "margin": null,
            "max_height": null,
            "max_width": null,
            "min_height": null,
            "min_width": null,
            "object_fit": null,
            "object_position": null,
            "order": null,
            "overflow": null,
            "overflow_x": null,
            "overflow_y": null,
            "padding": null,
            "right": null,
            "top": null,
            "visibility": null,
            "width": null
          }
        },
        "4a94b3e7f03445f2bba16b8ec8e350e6": {
          "model_module": "@jupyter-widgets/controls",
          "model_module_version": "1.5.0",
          "model_name": "FloatProgressModel",
          "state": {
            "_dom_classes": [],
            "_model_module": "@jupyter-widgets/controls",
            "_model_module_version": "1.5.0",
            "_model_name": "FloatProgressModel",
            "_view_count": null,
            "_view_module": "@jupyter-widgets/controls",
            "_view_module_version": "1.5.0",
            "_view_name": "ProgressView",
            "bar_style": "danger",
            "description": "",
            "description_tooltip": null,
            "layout": "IPY_MODEL_19e813eca23b424e982f9350ddcdaa9f",
            "max": 5,
            "min": 0,
            "orientation": "horizontal",
            "style": "IPY_MODEL_6040c844dbcd448f8f3fb18b259944c7",
            "value": 0
          }
        },
        "4f76aa20186340ea91fc19ab7ca6e4e4": {
          "model_module": "@jupyter-widgets/controls",
          "model_module_version": "1.5.0",
          "model_name": "HBoxModel",
          "state": {
            "_dom_classes": [],
            "_model_module": "@jupyter-widgets/controls",
            "_model_module_version": "1.5.0",
            "_model_name": "HBoxModel",
            "_view_count": null,
            "_view_module": "@jupyter-widgets/controls",
            "_view_module_version": "1.5.0",
            "_view_name": "HBoxView",
            "box_style": "",
            "children": [
              "IPY_MODEL_f86dffac66d641c0858903c15843ba56",
              "IPY_MODEL_ed90ff3db3124ccf90a78427850cd386",
              "IPY_MODEL_17c76f12df534a678023f149761995ed"
            ],
            "layout": "IPY_MODEL_a44bc80cd0bf45eea992b3e8fa8de99f"
          }
        },
        "5282a6e665304208a21732ebd3da0011": {
          "model_module": "@jupyter-widgets/controls",
          "model_module_version": "1.5.0",
          "model_name": "HBoxModel",
          "state": {
            "_dom_classes": [],
            "_model_module": "@jupyter-widgets/controls",
            "_model_module_version": "1.5.0",
            "_model_name": "HBoxModel",
            "_view_count": null,
            "_view_module": "@jupyter-widgets/controls",
            "_view_module_version": "1.5.0",
            "_view_name": "HBoxView",
            "box_style": "",
            "children": [
              "IPY_MODEL_f28d2619c84f4feb8a17f7391bf238a3",
              "IPY_MODEL_4a94b3e7f03445f2bba16b8ec8e350e6",
              "IPY_MODEL_54a01394a3f942df9e60342a292a9f20"
            ],
            "layout": "IPY_MODEL_441a072e7da846919592879c1f8f14d8"
          }
        },
        "54a01394a3f942df9e60342a292a9f20": {
          "model_module": "@jupyter-widgets/controls",
          "model_module_version": "1.5.0",
          "model_name": "HTMLModel",
          "state": {
            "_dom_classes": [],
            "_model_module": "@jupyter-widgets/controls",
            "_model_module_version": "1.5.0",
            "_model_name": "HTMLModel",
            "_view_count": null,
            "_view_module": "@jupyter-widgets/controls",
            "_view_module_version": "1.5.0",
            "_view_name": "HTMLView",
            "description": "",
            "description_tooltip": null,
            "layout": "IPY_MODEL_94ccf0304629437191a77538cc7eaee1",
            "placeholder": "​",
            "style": "IPY_MODEL_91eb61894d15426d81b4a64c07388bed",
            "value": " 0/5 [02:29&lt;?, ?it/s]"
          }
        },
        "6040c844dbcd448f8f3fb18b259944c7": {
          "model_module": "@jupyter-widgets/controls",
          "model_module_version": "1.5.0",
          "model_name": "ProgressStyleModel",
          "state": {
            "_model_module": "@jupyter-widgets/controls",
            "_model_module_version": "1.5.0",
            "_model_name": "ProgressStyleModel",
            "_view_count": null,
            "_view_module": "@jupyter-widgets/base",
            "_view_module_version": "1.2.0",
            "_view_name": "StyleView",
            "bar_color": null,
            "description_width": ""
          }
        },
        "7dcbab2118f64b4198c71a503f52999c": {
          "model_module": "@jupyter-widgets/controls",
          "model_module_version": "1.5.0",
          "model_name": "DescriptionStyleModel",
          "state": {
            "_model_module": "@jupyter-widgets/controls",
            "_model_module_version": "1.5.0",
            "_model_name": "DescriptionStyleModel",
            "_view_count": null,
            "_view_module": "@jupyter-widgets/base",
            "_view_module_version": "1.2.0",
            "_view_name": "StyleView",
            "description_width": ""
          }
        },
        "8cd4b6ecf0e14465a474d46b7135e769": {
          "model_module": "@jupyter-widgets/controls",
          "model_module_version": "1.5.0",
          "model_name": "DescriptionStyleModel",
          "state": {
            "_model_module": "@jupyter-widgets/controls",
            "_model_module_version": "1.5.0",
            "_model_name": "DescriptionStyleModel",
            "_view_count": null,
            "_view_module": "@jupyter-widgets/base",
            "_view_module_version": "1.2.0",
            "_view_name": "StyleView",
            "description_width": ""
          }
        },
        "91eb61894d15426d81b4a64c07388bed": {
          "model_module": "@jupyter-widgets/controls",
          "model_module_version": "1.5.0",
          "model_name": "DescriptionStyleModel",
          "state": {
            "_model_module": "@jupyter-widgets/controls",
            "_model_module_version": "1.5.0",
            "_model_name": "DescriptionStyleModel",
            "_view_count": null,
            "_view_module": "@jupyter-widgets/base",
            "_view_module_version": "1.2.0",
            "_view_name": "StyleView",
            "description_width": ""
          }
        },
        "94ccf0304629437191a77538cc7eaee1": {
          "model_module": "@jupyter-widgets/base",
          "model_module_version": "1.2.0",
          "model_name": "LayoutModel",
          "state": {
            "_model_module": "@jupyter-widgets/base",
            "_model_module_version": "1.2.0",
            "_model_name": "LayoutModel",
            "_view_count": null,
            "_view_module": "@jupyter-widgets/base",
            "_view_module_version": "1.2.0",
            "_view_name": "LayoutView",
            "align_content": null,
            "align_items": null,
            "align_self": null,
            "border": null,
            "bottom": null,
            "display": null,
            "flex": null,
            "flex_flow": null,
            "grid_area": null,
            "grid_auto_columns": null,
            "grid_auto_flow": null,
            "grid_auto_rows": null,
            "grid_column": null,
            "grid_gap": null,
            "grid_row": null,
            "grid_template_areas": null,
            "grid_template_columns": null,
            "grid_template_rows": null,
            "height": null,
            "justify_content": null,
            "justify_items": null,
            "left": null,
            "margin": null,
            "max_height": null,
            "max_width": null,
            "min_height": null,
            "min_width": null,
            "object_fit": null,
            "object_position": null,
            "order": null,
            "overflow": null,
            "overflow_x": null,
            "overflow_y": null,
            "padding": null,
            "right": null,
            "top": null,
            "visibility": null,
            "width": null
          }
        },
        "a44bc80cd0bf45eea992b3e8fa8de99f": {
          "model_module": "@jupyter-widgets/base",
          "model_module_version": "1.2.0",
          "model_name": "LayoutModel",
          "state": {
            "_model_module": "@jupyter-widgets/base",
            "_model_module_version": "1.2.0",
            "_model_name": "LayoutModel",
            "_view_count": null,
            "_view_module": "@jupyter-widgets/base",
            "_view_module_version": "1.2.0",
            "_view_name": "LayoutView",
            "align_content": null,
            "align_items": null,
            "align_self": null,
            "border": null,
            "bottom": null,
            "display": null,
            "flex": null,
            "flex_flow": null,
            "grid_area": null,
            "grid_auto_columns": null,
            "grid_auto_flow": null,
            "grid_auto_rows": null,
            "grid_column": null,
            "grid_gap": null,
            "grid_row": null,
            "grid_template_areas": null,
            "grid_template_columns": null,
            "grid_template_rows": null,
            "height": null,
            "justify_content": null,
            "justify_items": null,
            "left": null,
            "margin": null,
            "max_height": null,
            "max_width": null,
            "min_height": null,
            "min_width": null,
            "object_fit": null,
            "object_position": null,
            "order": null,
            "overflow": null,
            "overflow_x": null,
            "overflow_y": null,
            "padding": null,
            "right": null,
            "top": null,
            "visibility": null,
            "width": null
          }
        },
        "d3f54b70c5c5403689b28befde393c35": {
          "model_module": "@jupyter-widgets/base",
          "model_module_version": "1.2.0",
          "model_name": "LayoutModel",
          "state": {
            "_model_module": "@jupyter-widgets/base",
            "_model_module_version": "1.2.0",
            "_model_name": "LayoutModel",
            "_view_count": null,
            "_view_module": "@jupyter-widgets/base",
            "_view_module_version": "1.2.0",
            "_view_name": "LayoutView",
            "align_content": null,
            "align_items": null,
            "align_self": null,
            "border": null,
            "bottom": null,
            "display": null,
            "flex": null,
            "flex_flow": null,
            "grid_area": null,
            "grid_auto_columns": null,
            "grid_auto_flow": null,
            "grid_auto_rows": null,
            "grid_column": null,
            "grid_gap": null,
            "grid_row": null,
            "grid_template_areas": null,
            "grid_template_columns": null,
            "grid_template_rows": null,
            "height": null,
            "justify_content": null,
            "justify_items": null,
            "left": null,
            "margin": null,
            "max_height": null,
            "max_width": null,
            "min_height": null,
            "min_width": null,
            "object_fit": null,
            "object_position": null,
            "order": null,
            "overflow": null,
            "overflow_x": null,
            "overflow_y": null,
            "padding": null,
            "right": null,
            "top": null,
            "visibility": null,
            "width": null
          }
        },
        "ed47cb14c73148cf9ac4b4e7eb741db5": {
          "model_module": "@jupyter-widgets/base",
          "model_module_version": "1.2.0",
          "model_name": "LayoutModel",
          "state": {
            "_model_module": "@jupyter-widgets/base",
            "_model_module_version": "1.2.0",
            "_model_name": "LayoutModel",
            "_view_count": null,
            "_view_module": "@jupyter-widgets/base",
            "_view_module_version": "1.2.0",
            "_view_name": "LayoutView",
            "align_content": null,
            "align_items": null,
            "align_self": null,
            "border": null,
            "bottom": null,
            "display": null,
            "flex": null,
            "flex_flow": null,
            "grid_area": null,
            "grid_auto_columns": null,
            "grid_auto_flow": null,
            "grid_auto_rows": null,
            "grid_column": null,
            "grid_gap": null,
            "grid_row": null,
            "grid_template_areas": null,
            "grid_template_columns": null,
            "grid_template_rows": null,
            "height": null,
            "justify_content": null,
            "justify_items": null,
            "left": null,
            "margin": null,
            "max_height": null,
            "max_width": null,
            "min_height": null,
            "min_width": null,
            "object_fit": null,
            "object_position": null,
            "order": null,
            "overflow": null,
            "overflow_x": null,
            "overflow_y": null,
            "padding": null,
            "right": null,
            "top": null,
            "visibility": null,
            "width": null
          }
        },
        "ed90ff3db3124ccf90a78427850cd386": {
          "model_module": "@jupyter-widgets/controls",
          "model_module_version": "1.5.0",
          "model_name": "FloatProgressModel",
          "state": {
            "_dom_classes": [],
            "_model_module": "@jupyter-widgets/controls",
            "_model_module_version": "1.5.0",
            "_model_name": "FloatProgressModel",
            "_view_count": null,
            "_view_module": "@jupyter-widgets/controls",
            "_view_module_version": "1.5.0",
            "_view_name": "ProgressView",
            "bar_style": "success",
            "description": "",
            "description_tooltip": null,
            "layout": "IPY_MODEL_36016b04c34c4e5eb6de4baef1f13b32",
            "max": 2893,
            "min": 0,
            "orientation": "horizontal",
            "style": "IPY_MODEL_fb47e114f59e4fb98fb01a8799a42fdf",
            "value": 2893
          }
        },
        "f28d2619c84f4feb8a17f7391bf238a3": {
          "model_module": "@jupyter-widgets/controls",
          "model_module_version": "1.5.0",
          "model_name": "HTMLModel",
          "state": {
            "_dom_classes": [],
            "_model_module": "@jupyter-widgets/controls",
            "_model_module_version": "1.5.0",
            "_model_name": "HTMLModel",
            "_view_count": null,
            "_view_module": "@jupyter-widgets/controls",
            "_view_module_version": "1.5.0",
            "_view_name": "HTMLView",
            "description": "",
            "description_tooltip": null,
            "layout": "IPY_MODEL_d3f54b70c5c5403689b28befde393c35",
            "placeholder": "​",
            "style": "IPY_MODEL_8cd4b6ecf0e14465a474d46b7135e769",
            "value": "  0%"
          }
        },
        "f86dffac66d641c0858903c15843ba56": {
          "model_module": "@jupyter-widgets/controls",
          "model_module_version": "1.5.0",
          "model_name": "HTMLModel",
          "state": {
            "_dom_classes": [],
            "_model_module": "@jupyter-widgets/controls",
            "_model_module_version": "1.5.0",
            "_model_name": "HTMLModel",
            "_view_count": null,
            "_view_module": "@jupyter-widgets/controls",
            "_view_module_version": "1.5.0",
            "_view_name": "HTMLView",
            "description": "",
            "description_tooltip": null,
            "layout": "IPY_MODEL_0a990eb8c3464825b434b87144fe024f",
            "placeholder": "​",
            "style": "IPY_MODEL_7dcbab2118f64b4198c71a503f52999c",
            "value": "100%"
          }
        },
        "fb47e114f59e4fb98fb01a8799a42fdf": {
          "model_module": "@jupyter-widgets/controls",
          "model_module_version": "1.5.0",
          "model_name": "ProgressStyleModel",
          "state": {
            "_model_module": "@jupyter-widgets/controls",
            "_model_module_version": "1.5.0",
            "_model_name": "ProgressStyleModel",
            "_view_count": null,
            "_view_module": "@jupyter-widgets/base",
            "_view_module_version": "1.2.0",
            "_view_name": "StyleView",
            "bar_color": null,
            "description_width": ""
          }
        }
      }
    }
  },
  "nbformat": 4,
  "nbformat_minor": 0
}
