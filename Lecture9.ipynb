{
  "cells": [
    {
      "cell_type": "markdown",
      "metadata": {
        "colab_type": "text",
        "id": "view-in-github"
      },
      "source": [
        "<a href=\"https://colab.research.google.com/github/dscho15/deep-learning/blob/main/Lecture9.ipynb\" target=\"_parent\"><img src=\"https://colab.research.google.com/assets/colab-badge.svg\" alt=\"Open In Colab\"/></a>"
      ]
    },
    {
      "cell_type": "markdown",
      "metadata": {
        "id": "xoG89fAUlwFE"
      },
      "source": [
        "# Articles\n",
        "\n",
        "- https://medium.com/analytics-vidhya/spam-ham-classification-using-lstm-in-pytorch-950daec94a7c\n",
        "\n",
        "- https://github.com/sijoonlee/spam-ham-walkthrough/blob/master/walkthrough.ipynb\n",
        "\n",
        "- https://pytorch.org/docs/stable/generated/torch.nn.LSTM.html\n",
        "\n"
      ]
    },
    {
      "cell_type": "markdown",
      "metadata": {
        "id": "NMCip8XbP3tv"
      },
      "source": [
        "# LSTM"
      ]
    },
    {
      "cell_type": "code",
      "execution_count": 1,
      "metadata": {
        "colab": {
          "base_uri": "https://localhost:8080/"
        },
        "id": "-gEXnWJ1EQ8M",
        "outputId": "422931b5-7667-456d-b958-d14b1dfb1525"
      },
      "outputs": [
        {
          "data": {
            "text/plain": [
              "<torch._C.Generator at 0x7fc649494d50>"
            ]
          },
          "execution_count": 1,
          "metadata": {},
          "output_type": "execute_result"
        }
      ],
      "source": [
        "import glob\n",
        "from pathlib import Path\n",
        "import tqdm as tqdm\n",
        "import numpy as np\n",
        "import matplotlib.pyplot as plt\n",
        "import torch\n",
        "from torch import nn\n",
        "from torch.nn import functional as F\n",
        "from torchtext.data import get_tokenizer\n",
        "from tqdm.notebook import tqdm\n",
        "from google_drive_downloader import GoogleDriveDownloader as gdd\n",
        "\n",
        "torch.manual_seed(0)\n"
      ]
    },
    {
      "cell_type": "markdown",
      "metadata": {
        "id": "QxZoe7SA6lil"
      },
      "source": [
        "# Example of how to use torch.gather"
      ]
    },
    {
      "cell_type": "code",
      "execution_count": 2,
      "metadata": {},
      "outputs": [
        {
          "name": "stdout",
          "output_type": "stream",
          "text": [
            "tensor([[[-1.1258, -1.1524, -0.2506, -0.4339],\n",
            "         [ 0.8487,  0.6920, -0.3160, -2.1152],\n",
            "         [ 0.4681, -0.1577,  1.4437,  0.2660]],\n",
            "\n",
            "        [[ 0.1665,  0.8744, -0.1435, -0.1116],\n",
            "         [ 0.9318,  1.2590,  2.0050,  0.0537],\n",
            "         [ 0.6181, -0.4128, -0.8411, -2.3160]]])\n",
            "tensor([[[-1.1258, -1.1524, -0.2506, -0.4339],\n",
            "         [ 0.8487,  0.6920, -0.3160, -2.1152]]])\n"
          ]
        }
      ],
      "source": [
        "random_tensor = torch.randn(2, 3, 4)\n",
        "pick_tensor = torch.tensor(\n",
        "    [0, 1], dtype=torch.int64).unsqueeze(-1).repeat(1, 1, 4)\n",
        "print(random_tensor)\n",
        "val = torch.gather(random_tensor, 1, pick_tensor)\n",
        "print(val)\n"
      ]
    },
    {
      "cell_type": "code",
      "execution_count": 3,
      "metadata": {
        "id": "BVQbR_cCNVuS"
      },
      "outputs": [],
      "source": [
        "# Download data\n",
        "\n",
        "gdd.download_file_from_google_drive('13DLnvpRhDO-D5JHCuPq85k_v-yMiMNCQ', '~/lingsmap_public-bare.zip', unzip=True)\n",
        "assert Path('~/lingsmap_public-bare').exists()\n"
      ]
    },
    {
      "cell_type": "code",
      "execution_count": 4,
      "metadata": {
        "colab": {
          "base_uri": "https://localhost:8080/",
          "height": 367,
          "referenced_widgets": [
            "4f76aa20186340ea91fc19ab7ca6e4e4",
            "a44bc80cd0bf45eea992b3e8fa8de99f",
            "f86dffac66d641c0858903c15843ba56",
            "ed90ff3db3124ccf90a78427850cd386",
            "17c76f12df534a678023f149761995ed",
            "7dcbab2118f64b4198c71a503f52999c",
            "0a990eb8c3464825b434b87144fe024f",
            "fb47e114f59e4fb98fb01a8799a42fdf",
            "36016b04c34c4e5eb6de4baef1f13b32",
            "1d8ba02daaf44421894dcd78a0eb312e",
            "ed47cb14c73148cf9ac4b4e7eb741db5"
          ]
        },
        "id": "VFJi3Z8sNuL0",
        "outputId": "a2310c68-90b3-4efe-fec1-1bf8a0c7858c"
      },
      "outputs": [
        {
          "data": {
            "application/vnd.jupyter.widget-view+json": {
              "model_id": "4ad15d5a8dd14d4495b6f80d730c13bc",
              "version_major": 2,
              "version_minor": 0
            },
            "text/plain": [
              "  0%|          | 0/2893 [00:00<?, ?it/s]"
            ]
          },
          "metadata": {},
          "output_type": "display_data"
        },
        {
          "data": {
            "image/png": "[encoded data removed]",
            "text/plain": [
              "<Figure size 432x288 with 1 Axes>"
            ]
          },
          "metadata": {
            "needs_background": "light"
          },
          "output_type": "display_data"
        },
        {
          "name": "stdout",
          "output_type": "stream",
          "text": [
            "2893 emails\n",
            "percentage spam: 0.17\n",
            "ascii codes between 10 and 126\n"
          ]
        }
      ],
      "source": [
        "# Load data\n",
        "\n",
        "filepaths = glob.glob('~/lingsmap_public-bare/*/*.txt')\n",
        "emails = []\n",
        "emails_ascii = []\n",
        "targets = []\n",
        "\n",
        "for i, filepath in enumerate(tqdm(filepaths)):\n",
        "    with open(filepath) as file:\n",
        "        email = file.read()\n",
        "    emails.append(email)\n",
        "    # convert character to ascii code\n",
        "    emails_ascii.append([ord(c) for c in email])\n",
        "    targets.append('spmsg' in filepath)\n",
        "\n",
        "plt.hist([len(e) for e in emails], np.logspace(1, 5))\n",
        "plt.xlabel('email text length')\n",
        "plt.ylabel('#')\n",
        "plt.xscale('log')\n",
        "plt.show()\n",
        "\n",
        "print(f'{len(emails)} emails')\n",
        "print(f'percentage spam: {np.mean(targets):.2f}')\n",
        "emails_ascii_flat = np.concatenate(emails_ascii)\n",
        "print(\n",
        "    f'ascii codes between {emails_ascii_flat.min()} and {emails_ascii_flat.max()}')\n"
      ]
    },
    {
      "cell_type": "markdown",
      "metadata": {},
      "source": [
        "## So even if we just guess 'not spam' all the time, we can get 83 % correct. Lets consider this as the **baseline**."
      ]
    },
    {
      "cell_type": "code",
      "execution_count": 5,
      "metadata": {},
      "outputs": [],
      "source": [
        "# Preprocess emails\n",
        "import string\n",
        "import re\n",
        "import nltk\n",
        "from nltk.tokenize import TweetTokenizer\n",
        "from nltk.corpus import stopwords\n",
        "# nltk.download() needed if data isnt stored\n",
        "\n",
        "tokenizer = get_tokenizer(\"basic_english\")\n",
        "stop_words = stopwords.words('english')\n",
        "for i in range(256):\n",
        "    stop_words.append(chr(i))\n",
        "\n",
        "\n",
        "def clean_text(text):\n",
        "\n",
        "    # remove numbers\n",
        "    text_nonum = re.sub(r'\\d+', '', text)\n",
        "\n",
        "    # remove punctuations and convert characters to lower case\n",
        "    text_nopunct = \"\".join(\n",
        "        [char.lower() for char in text_nonum if char not in string.punctuation])\n",
        "\n",
        "    # substitute multiple whitespace with single whitespace, also, removes leading and trailing whitespaces\n",
        "    text_no_doublespace = re.sub('\\s+', ' ', text_nopunct).strip()\n",
        "\n",
        "    return text_no_doublespace\n",
        "\n",
        "\n",
        "def pre_process_words(email):\n",
        "    global tokenizer\n",
        "\n",
        "    text = clean_text(email)\n",
        "    tokens = tokenizer(text)\n",
        "    tokens = [word for word in tokens if not word in stop_words]\n",
        "\n",
        "    return np.array(tokens)\n",
        "\n",
        "\n",
        "def gen_vocab(emails):\n",
        "    # take the mails and cat them\n",
        "    email_cat = emails[0]\n",
        "\n",
        "    for i in range(1, len(emails)):\n",
        "        email_cat += \" \" + emails[i]\n",
        "\n",
        "    # clean text from punctuations etc\n",
        "    words = pre_process_words(email_cat)\n",
        "\n",
        "    # get unique vocals\n",
        "    return np.unique(words)"
      ]
    },
    {
      "cell_type": "code",
      "execution_count": 6,
      "metadata": {
        "id": "2Mqh1HdN6bR8"
      },
      "outputs": [
        {
          "name": "stdout",
          "output_type": "stream",
          "text": [
            "57150\n",
            "tensor([48646,   688, 50321,  ..., 57149, 57149, 57149])\n"
          ]
        }
      ],
      "source": [
        "class SpamEmailsDataset(torch.utils.data.Dataset):\n",
        "    \"\"\"Spam Email Dataset\"\"\"\n",
        "\n",
        "    def __init__(self, emails, targets):\n",
        "\n",
        "        # copy emails\n",
        "        self.emails = np.array(emails.copy())\n",
        "\n",
        "        # generate vocab\n",
        "        vocab = np.append(gen_vocab(emails.copy()), ' ')\n",
        "        print(len(vocab))\n",
        "        self.vocab_dict = {ele: i for i, ele in enumerate(vocab)}\n",
        "\n",
        "        # target spam / not spam\n",
        "        self.targets = torch.tensor(targets).to(torch.float32)\n",
        "\n",
        "        # used for the network\n",
        "        self.lens = torch.empty_like(self.targets).to(torch.int32)\n",
        "\n",
        "        # emails are in words\n",
        "        emails_word_format = []\n",
        "        for i in range(len(self.emails)):\n",
        "            emails_word_format.append(\n",
        "                pre_process_words(self.emails[i].copy()))\n",
        "\n",
        "        # zero-pad the emails\n",
        "        longest_len = 0\n",
        "        for i in range(len(emails_word_format)):\n",
        "            self.lens[i] = len(emails_word_format[i])\n",
        "            if longest_len < self.lens[i]:\n",
        "                longest_len = self.lens[i]\n",
        "\n",
        "        # zero-pad the emails:\n",
        "        for i in range(len(emails_word_format)):\n",
        "            len_diff = longest_len - self.lens[i]\n",
        "            emails_word_format[i] = list(emails_word_format[i])\n",
        "            emails_word_format[i] += ' ' * len_diff\n",
        "\n",
        "        self.indices_email = torch.zeros((len(emails_word_format), len(emails_word_format[0])), dtype=torch.long)\n",
        "        for i, email_word_format in enumerate(emails_word_format):\n",
        "            for j, word in enumerate(email_word_format):\n",
        "                self.indices_email[i][j] = self.vocab_dict[word]\n",
        "\n",
        "    def __len__(self):\n",
        "        return len(self.emails)\n",
        "\n",
        "    def __getitem__(self, idx):\n",
        "        return self.indices_email[idx], self.lens[idx], self.targets[idx]\n",
        "\n",
        "\n",
        "# Spam Email Dataset # very slow\n",
        "spam_email_dataset = SpamEmailsDataset(emails, targets)\n",
        "print(spam_email_dataset.indices_email[0])\n"
      ]
    },
    {
      "cell_type": "code",
      "execution_count": 7,
      "metadata": {
        "colab": {
          "base_uri": "https://localhost:8080/"
        },
        "id": "xLQPBjlxTJfx",
        "outputId": "be3c2766-985b-4fb6-8bd4-25c7d6873419"
      },
      "outputs": [],
      "source": [
        "# split training data up\n",
        "(train_set, valid_set, test_set) = torch.utils.data.random_split(spam_email_dataset, [2400, 200, 2893-2400-200])\n",
        "\n",
        "# dataloaders\n",
        "batch_size = 64\n",
        "loader_train = torch.utils.data.DataLoader(train_set, batch_size = batch_size, shuffle=True, num_workers=12)\n",
        "loader_valid = torch.utils.data.DataLoader(valid_set, batch_size = batch_size, shuffle=True, num_workers=12)\n",
        "loader_test = torch.utils.data.DataLoader(test_set, batch_size = batch_size, shuffle=True, num_workers=12)"
      ]
    },
    {
      "cell_type": "code",
      "execution_count": 8,
      "metadata": {
        "id": "vg3tImwgIjdC"
      },
      "outputs": [],
      "source": [
        "class SpamMailLSTM(nn.Module):\n",
        "    def __init__(self, hidden_dim, n_layers, output_size=1, vocab_size=57150, embedding_dim=100, drop_lstm=0.25, drop_out=0.1):\n",
        "        super().__init__()\n",
        "\n",
        "        # Output size\n",
        "        self.output_size = output_size\n",
        "        self.n_layers = n_layers\n",
        "        self.hidden_dim = hidden_dim\n",
        "\n",
        "        # Embedding\n",
        "        self.embedding = nn.Embedding(vocab_size, embedding_dim)\n",
        "\n",
        "        # LSTM layers\n",
        "        self.lstm = nn.LSTM(embedding_dim, hidden_dim, n_layers, dropout=drop_lstm, batch_first=True)\n",
        "\n",
        "        # Dropout layer\n",
        "        self.dropout = nn.Dropout(drop_out)\n",
        "\n",
        "        # Linear and sigmoid layers\n",
        "        self.fc = nn.Linear(hidden_dim, output_size)\n",
        "        self.sig = nn.Sigmoid()\n",
        "\n",
        "    def forward(self, x, seq_len):\n",
        "\n",
        "        # sort the input and lengths as desecending order\n",
        "        seq_len, perm_index = seq_len.sort(0, descending=True)\n",
        "\n",
        "        # embeddings\n",
        "        embedded_seq_tensor = self.embedding(x[perm_index])\n",
        "\n",
        "        # pack, remove pads\n",
        "        packed_input = torch.nn.utils.rnn.pack_padded_sequence(embedded_seq_tensor, seq_len, batch_first=True)\n",
        "\n",
        "        # lstm\n",
        "        packed_output = self.lstm(packed_input, None)[0]\n",
        "\n",
        "        # unpack, recover padded sequence\n",
        "        packed_output, seq_len_unpacked = torch.nn.utils.rnn.pad_packed_sequence(packed_output, batch_first=True)\n",
        "\n",
        "        # only get the relevant outputs\n",
        "        seq_len_unpacked = (seq_len_unpacked - 1).to(device).unsqueeze(-1).repeat(1, 1, self.hidden_dim)\n",
        "        packed_output = torch.gather(packed_output, 1, seq_len_unpacked).squeeze(0)\n",
        "\n",
        "        # dropout and fully-connected layer\n",
        "        packed_output = self.dropout(packed_output)\n",
        "        packed_output = self.fc(packed_output).squeeze()\n",
        "\n",
        "        # sigmoid function\n",
        "        logits = self.sig(packed_output)\n",
        "        \n",
        "        perm_index = perm_index.to(device)\n",
        "        logits = torch.index_select(logits, 0, perm_index)\n",
        "\n",
        "        return logits\n"
      ]
    },
    {
      "cell_type": "code",
      "execution_count": 9,
      "metadata": {
        "id": "gVDXrXyCbsrZ"
      },
      "outputs": [],
      "source": [
        "# Hyperparameters:\n",
        "SETTINGS = {\"batch_size\": batch_size,\n",
        "            \"embedding_dim\": 10,\n",
        "            \"n_layers\": 2,\n",
        "            \"hidden_dim\": 256,\n",
        "            \"epoch\": 20,\n",
        "            \"lr\": 1e-4,\n",
        "            \"clip\": 1}\n",
        "\n",
        "device = torch.device(\"cuda\")"
      ]
    },
    {
      "cell_type": "code",
      "execution_count": 10,
      "metadata": {
        "colab": {
          "base_uri": "https://localhost:8080/",
          "height": 324,
          "referenced_widgets": [
            "5282a6e665304208a21732ebd3da0011",
            "441a072e7da846919592879c1f8f14d8",
            "f28d2619c84f4feb8a17f7391bf238a3",
            "4a94b3e7f03445f2bba16b8ec8e350e6",
            "54a01394a3f942df9e60342a292a9f20",
            "8cd4b6ecf0e14465a474d46b7135e769",
            "d3f54b70c5c5403689b28befde393c35",
            "6040c844dbcd448f8f3fb18b259944c7",
            "19e813eca23b424e982f9350ddcdaa9f",
            "91eb61894d15426d81b4a64c07388bed",
            "94ccf0304629437191a77538cc7eaee1"
          ]
        },
        "id": "44hLWpeAY4xJ",
        "outputId": "9abb90bf-0ef3-4dd9-c627-f267cf92f3ae"
      },
      "outputs": [
        {
          "data": {
            "application/vnd.jupyter.widget-view+json": {
              "model_id": "0df5ef4e38ba47d88edf83268ec06124",
              "version_major": 2,
              "version_minor": 0
            },
            "text/plain": [
              "  0%|          | 0/20 [00:00<?, ?it/s]"
            ]
          },
          "metadata": {},
          "output_type": "display_data"
        },
        {
          "data": {
            "image/png": "[encoded data removed]",
            "text/plain": [
              "<Figure size 432x288 with 1 Axes>"
            ]
          },
          "metadata": {
            "needs_background": "light"
          },
          "output_type": "display_data"
        },
        {
          "data": {
            "image/png": "[encoded data removed]",
            "text/plain": [
              "<Figure size 432x288 with 1 Axes>"
            ]
          },
          "metadata": {
            "needs_background": "light"
          },
          "output_type": "display_data"
        }
      ],
      "source": [
        "spam_lstm_net = SpamMailLSTM(\n",
        "                             hidden_dim=SETTINGS[\"hidden_dim\"],\n",
        "                             n_layers=SETTINGS[\"n_layers\"],\n",
        "                             output_size=1,\n",
        "                             vocab_size=57150,\n",
        "                             embedding_dim=SETTINGS[\"embedding_dim\"]\n",
        "                             ).to(device)\n",
        "\n",
        "opt = torch.optim.Adam(spam_lstm_net.parameters(), SETTINGS[\"lr\"])\n",
        "criterion = torch.nn.BCELoss()\n",
        "\n",
        "train_loss, valid_loss = [], []\n",
        "train_accuracy, valid_accuracy = [], []\n",
        "\n",
        "for epoch in tqdm(range(SETTINGS[\"epoch\"])):\n",
        "\n",
        "    # Set to training mode\n",
        "    spam_lstm_net.train()\n",
        "\n",
        "    # Parameters\n",
        "    losses, accuracy = [], []\n",
        "\n",
        "    for x, seq_len, y in loader_train:\n",
        "\n",
        "        # Get data pairs (input, target)\n",
        "        x, y = x.to(device), y.to(device)\n",
        "\n",
        "        # Returns the logits\n",
        "        logits = spam_lstm_net(x, seq_len)\n",
        "\n",
        "        # Compute the loss\n",
        "        loss = criterion(logits, y)\n",
        "        opt.zero_grad()\n",
        "        loss.backward()\n",
        "\n",
        "        # Step\n",
        "        nn.utils.clip_grad_norm_(spam_lstm_net.parameters(), SETTINGS[\"clip\"])\n",
        "        opt.step()\n",
        "\n",
        "        accuracy.append((torch.sum((logits > 0.5).to(torch.float32) == y)).detach().cpu().item())\n",
        "        losses.append(loss.item())\n",
        "\n",
        "    # Update loss\n",
        "    train_loss.append(np.mean(losses))\n",
        "    train_accuracy.append(np.sum(accuracy)/2400)\n",
        "\n",
        "    # Set to eval mode\n",
        "    spam_lstm_net.eval()\n",
        "\n",
        "    with torch.no_grad():\n",
        "\n",
        "        # Parameters\n",
        "        losses, accuracy = [], []\n",
        "\n",
        "        for x, seq_len, y in loader_valid:\n",
        "\n",
        "            # Get data pairs (input, target)\n",
        "            x, y = x.to(device), y.to(device)\n",
        "\n",
        "            # Returns the logits\n",
        "            logits = spam_lstm_net(x, seq_len)\n",
        "\n",
        "            # Compute the loss\n",
        "            loss = criterion(logits, y)\n",
        "\n",
        "            accuracy.append((torch.sum((logits > 0.5).to(torch.float32) == y)).detach().cpu().item())\n",
        "            losses.append(loss.item())\n",
        "\n",
        "    # Update loss\n",
        "    valid_loss.append(np.mean(losses))\n",
        "    valid_accuracy.append(np.sum(accuracy)/200)\n",
        "    \n",
        "plt.figure(1)\n",
        "plt.plot(train_loss)\n",
        "plt.plot(valid_loss)\n",
        "plt.figure(2)\n",
        "plt.plot(valid_accuracy)\n",
        "plt.plot(train_accuracy)\n",
        "plt.show()\n"
      ]
    },
    {
      "cell_type": "code",
      "execution_count": 11,
      "metadata": {},
      "outputs": [
        {
          "name": "stdout",
          "output_type": "stream",
          "text": [
            "tensor([0.1696, 0.1714, 0.1754, 0.1729, 0.1702, 0.1715, 0.1697, 0.1725, 0.1688,\n",
            "        0.1706, 0.1710, 0.1703, 0.1762, 0.1725, 0.1735, 0.1718, 0.1733, 0.1735,\n",
            "        0.1728, 0.1710, 0.1709, 0.1729, 0.1757, 0.1704, 0.1737, 0.1750, 0.1745,\n",
            "        0.1696, 0.1764, 0.1733, 0.1727, 0.1710, 0.1783, 0.1738, 0.1759, 0.1716,\n",
            "        0.1745, 0.1743, 0.1771, 0.1753, 0.1744, 0.1736, 0.1737, 0.1729, 0.1719,\n",
            "        0.1745, 0.1734, 0.1750, 0.1774, 0.1772, 0.1738, 0.1716, 0.1729, 0.1738,\n",
            "        0.1711, 0.1733, 0.1711, 0.1733, 0.1721, 0.1735, 0.1734, 0.1722, 0.1709,\n",
            "        0.1713], device='cuda:0')\n",
            "tensor([0.1705, 0.1718, 0.1709, 0.1688, 0.1712, 0.1712, 0.1728, 0.1709, 0.1706,\n",
            "        0.1733, 0.1707, 0.1875, 0.1718, 0.1726, 0.1725, 0.1674, 0.1715, 0.2108,\n",
            "        0.1730, 0.1712, 0.1674, 0.1759, 0.1736, 0.1732, 0.1711, 0.1727, 0.1722,\n",
            "        0.1721, 0.1704, 0.1683, 0.1695, 0.1660, 0.1743, 0.1683, 0.1717, 0.1726,\n",
            "        0.1731, 0.1721, 0.1681, 0.1735, 0.1721, 0.1721, 0.1703, 0.1726, 0.1688,\n",
            "        0.1689, 0.1752, 0.1692, 0.1727, 0.1709, 0.1727, 0.1707, 0.1761, 0.1689,\n",
            "        0.1746, 0.1651, 0.1718, 0.1704, 0.1715, 0.1736, 0.1681, 0.1743, 0.1731,\n",
            "        0.1737], device='cuda:0')\n",
            "tensor([0.1705, 0.1711, 0.1747, 0.1757, 0.1732, 0.1727, 0.1761, 0.1729, 0.1736,\n",
            "        0.1725, 0.1724, 0.1733, 0.1805, 0.1715, 0.1719, 0.1746, 0.1745, 0.1718,\n",
            "        0.1754, 0.1720, 0.1716, 0.1755, 0.1696, 0.1737, 0.1732, 0.1709, 0.1720,\n",
            "        0.1719, 0.1718, 0.1711, 0.1712, 0.1674, 0.1715, 0.1774, 0.1728, 0.1694,\n",
            "        0.1768, 0.1713, 0.1736, 0.1739, 0.1718, 0.1725, 0.1727, 0.1755, 0.1696,\n",
            "        0.1730, 0.1715, 0.1753, 0.1745, 0.1704, 0.1744, 0.1735, 0.1729, 0.1709,\n",
            "        0.1729, 0.1721, 0.1721, 0.1730, 0.1733, 0.1721, 0.1720, 0.1746, 0.1752,\n",
            "        0.1713], device='cuda:0')\n",
            "tensor([0.1685, 0.1678, 0.1704, 0.1733, 0.1695, 0.1741, 0.1708, 0.1705, 0.1704,\n",
            "        0.1746, 0.1731, 0.1740, 0.1675, 0.1710, 0.1709, 0.1731, 0.1697, 0.1715,\n",
            "        0.1752, 0.1704, 0.1847, 0.1734, 0.1708, 0.1822, 0.1723, 0.1953, 0.1769,\n",
            "        0.1706, 0.1708, 0.1709, 0.1726, 0.1768, 0.1737, 0.1696, 0.1694, 0.1739,\n",
            "        0.1694, 0.1716, 0.1691, 0.1714, 0.1698, 0.1752, 0.1714, 0.1707, 0.1708,\n",
            "        0.1720, 0.1737, 0.1692, 0.1713, 0.1711, 0.1687, 0.1680, 0.1725, 0.1685,\n",
            "        0.1716, 0.1752, 0.1726, 0.1698, 0.1735, 0.1711, 0.1723, 0.1676, 0.1713,\n",
            "        0.1682], device='cuda:0')\n",
            "tensor([0.1694, 0.1753, 0.1723, 0.1705, 0.1714, 0.1715, 0.1721, 0.1729, 0.1717,\n",
            "        0.1714, 0.1713, 0.1746, 0.1724, 0.1740, 0.1705, 0.1708, 0.1713, 0.1727,\n",
            "        0.1731, 0.1694, 0.1748, 0.1733, 0.1718, 0.1730, 0.1698, 0.1754, 0.1724,\n",
            "        0.1707, 0.1735, 0.1727, 0.1754, 0.1713, 0.2928, 0.1690, 0.1749, 0.1729,\n",
            "        0.1693], device='cuda:0')\n",
            "0.856655290102389\n"
          ]
        }
      ],
      "source": [
        "spam_lstm_net.eval()\n",
        "\n",
        "with torch.no_grad():\n",
        "\n",
        "    # Parameters\n",
        "    losses, accuracy = [], []\n",
        "\n",
        "    for x, seq_len, y in loader_test:\n",
        "\n",
        "        # Get data pairs (input, target)\n",
        "        x, y = x.to(device), y.to(device)\n",
        "\n",
        "        # Returns the logits\n",
        "        logits = spam_lstm_net(x, seq_len)\n",
        "        \n",
        "        print(logits)\n",
        "\n",
        "        # Accuracy\n",
        "        accuracy.append((torch.sum((logits > 0.5).to(torch.float32) == y)).detach().cpu().item())\n",
        "\n",
        "print(np.sum(accuracy)/(2893-2400-200))\n"
      ]
    }
  ],
  "metadata": {
    "accelerator": "GPU",
    "colab": {
      "collapsed_sections": [],
      "include_colab_link": true,
      "name": "09_lstm_template.ipynb",
      "provenance": []
    },
    "interpreter": {
      "hash": "da16af47213b0a7e835d81544b2a30ada431c6e2a078290c1030dc346c574938"
    },
    "kernelspec": {
      "display_name": "Python 3.7.11 64-bit ('ros': conda)",
      "name": "python3"
    },
    "language_info": {
      "codemirror_mode": {
        "name": "ipython",
        "version": 3
      },
      "file_extension": ".py",
      "mimetype": "text/x-python",
      "name": "python",
      "nbconvert_exporter": "python",
      "pygments_lexer": "ipython3",
      "version": "3.7.11"
    },
    "widgets": {
      "application/vnd.jupyter.widget-state+json": {
        "0a990eb8c3464825b434b87144fe024f": {
          "model_module": "@jupyter-widgets/base",
          "model_module_version": "1.2.0",
          "model_name": "LayoutModel",
          "state": {
            "_model_module": "@jupyter-widgets/base",
            "_model_module_version": "1.2.0",
            "_model_name": "LayoutModel",
            "_view_count": null,
            "_view_module": "@jupyter-widgets/base",
            "_view_module_version": "1.2.0",
            "_view_name": "LayoutView",
            "align_content": null,
            "align_items": null,
            "align_self": null,
            "border": null,
            "bottom": null,
            "display": null,
            "flex": null,
            "flex_flow": null,
            "grid_area": null,
            "grid_auto_columns": null,
            "grid_auto_flow": null,
            "grid_auto_rows": null,
            "grid_column": null,
            "grid_gap": null,
            "grid_row": null,
            "grid_template_areas": null,
            "grid_template_columns": null,
            "grid_template_rows": null,
            "height": null,
            "justify_content": null,
            "justify_items": null,
            "left": null,
            "margin": null,
            "max_height": null,
            "max_width": null,
            "min_height": null,
            "min_width": null,
            "object_fit": null,
            "object_position": null,
            "order": null,
            "overflow": null,
            "overflow_x": null,
            "overflow_y": null,
            "padding": null,
            "right": null,
            "top": null,
            "visibility": null,
            "width": null
          }
        },
        "17c76f12df534a678023f149761995ed": {
          "model_module": "@jupyter-widgets/controls",
          "model_module_version": "1.5.0",
          "model_name": "HTMLModel",
          "state": {
            "_dom_classes": [],
            "_model_module": "@jupyter-widgets/controls",
            "_model_module_version": "1.5.0",
            "_model_name": "HTMLModel",
            "_view_count": null,
            "_view_module": "@jupyter-widgets/controls",
            "_view_module_version": "1.5.0",
            "_view_name": "HTMLView",
            "description": "",
            "description_tooltip": null,
            "layout": "IPY_MODEL_ed47cb14c73148cf9ac4b4e7eb741db5",
            "placeholder": "​",
            "style": "IPY_MODEL_1d8ba02daaf44421894dcd78a0eb312e",
            "value": " 2893/2893 [00:01&lt;00:00, 2978.84it/s]"
          }
        },
        "19e813eca23b424e982f9350ddcdaa9f": {
          "model_module": "@jupyter-widgets/base",
          "model_module_version": "1.2.0",
          "model_name": "LayoutModel",
          "state": {
            "_model_module": "@jupyter-widgets/base",
            "_model_module_version": "1.2.0",
            "_model_name": "LayoutModel",
            "_view_count": null,
            "_view_module": "@jupyter-widgets/base",
            "_view_module_version": "1.2.0",
            "_view_name": "LayoutView",
            "align_content": null,
            "align_items": null,
            "align_self": null,
            "border": null,
            "bottom": null,
            "display": null,
            "flex": null,
            "flex_flow": null,
            "grid_area": null,
            "grid_auto_columns": null,
            "grid_auto_flow": null,
            "grid_auto_rows": null,
            "grid_column": null,
            "grid_gap": null,
            "grid_row": null,
            "grid_template_areas": null,
            "grid_template_columns": null,
            "grid_template_rows": null,
            "height": null,
            "justify_content": null,
            "justify_items": null,
            "left": null,
            "margin": null,
            "max_height": null,
            "max_width": null,
            "min_height": null,
            "min_width": null,
            "object_fit": null,
            "object_position": null,
            "order": null,
            "overflow": null,
            "overflow_x": null,
            "overflow_y": null,
            "padding": null,
            "right": null,
            "top": null,
            "visibility": null,
            "width": null
          }
        },
        "1d8ba02daaf44421894dcd78a0eb312e": {
          "model_module": "@jupyter-widgets/controls",
          "model_module_version": "1.5.0",
          "model_name": "DescriptionStyleModel",
          "state": {
            "_model_module": "@jupyter-widgets/controls",
            "_model_module_version": "1.5.0",
            "_model_name": "DescriptionStyleModel",
            "_view_count": null,
            "_view_module": "@jupyter-widgets/base",
            "_view_module_version": "1.2.0",
            "_view_name": "StyleView",
            "description_width": ""
          }
        },
        "36016b04c34c4e5eb6de4baef1f13b32": {
          "model_module": "@jupyter-widgets/base",
          "model_module_version": "1.2.0",
          "model_name": "LayoutModel",
          "state": {
            "_model_module": "@jupyter-widgets/base",
            "_model_module_version": "1.2.0",
            "_model_name": "LayoutModel",
            "_view_count": null,
            "_view_module": "@jupyter-widgets/base",
            "_view_module_version": "1.2.0",
            "_view_name": "LayoutView",
            "align_content": null,
            "align_items": null,
            "align_self": null,
            "border": null,
            "bottom": null,
            "display": null,
            "flex": null,
            "flex_flow": null,
            "grid_area": null,
            "grid_auto_columns": null,
            "grid_auto_flow": null,
            "grid_auto_rows": null,
            "grid_column": null,
            "grid_gap": null,
            "grid_row": null,
            "grid_template_areas": null,
            "grid_template_columns": null,
            "grid_template_rows": null,
            "height": null,
            "justify_content": null,
            "justify_items": null,
            "left": null,
            "margin": null,
            "max_height": null,
            "max_width": null,
            "min_height": null,
            "min_width": null,
            "object_fit": null,
            "object_position": null,
            "order": null,
            "overflow": null,
            "overflow_x": null,
            "overflow_y": null,
            "padding": null,
            "right": null,
            "top": null,
            "visibility": null,
            "width": null
          }
        },
        "441a072e7da846919592879c1f8f14d8": {
          "model_module": "@jupyter-widgets/base",
          "model_module_version": "1.2.0",
          "model_name": "LayoutModel",
          "state": {
            "_model_module": "@jupyter-widgets/base",
            "_model_module_version": "1.2.0",
            "_model_name": "LayoutModel",
            "_view_count": null,
            "_view_module": "@jupyter-widgets/base",
            "_view_module_version": "1.2.0",
            "_view_name": "LayoutView",
            "align_content": null,
            "align_items": null,
            "align_self": null,
            "border": null,
            "bottom": null,
            "display": null,
            "flex": null,
            "flex_flow": null,
            "grid_area": null,
            "grid_auto_columns": null,
            "grid_auto_flow": null,
            "grid_auto_rows": null,
            "grid_column": null,
            "grid_gap": null,
            "grid_row": null,
            "grid_template_areas": null,
            "grid_template_columns": null,
            "grid_template_rows": null,
            "height": null,
            "justify_content": null,
            "justify_items": null,
            "left": null,
            "margin": null,
            "max_height": null,
            "max_width": null,
            "min_height": null,
            "min_width": null,
            "object_fit": null,
            "object_position": null,
            "order": null,
            "overflow": null,
            "overflow_x": null,
            "overflow_y": null,
            "padding": null,
            "right": null,
            "top": null,
            "visibility": null,
            "width": null
          }
        },
        "4a94b3e7f03445f2bba16b8ec8e350e6": {
          "model_module": "@jupyter-widgets/controls",
          "model_module_version": "1.5.0",
          "model_name": "FloatProgressModel",
          "state": {
            "_dom_classes": [],
            "_model_module": "@jupyter-widgets/controls",
            "_model_module_version": "1.5.0",
            "_model_name": "FloatProgressModel",
            "_view_count": null,
            "_view_module": "@jupyter-widgets/controls",
            "_view_module_version": "1.5.0",
            "_view_name": "ProgressView",
            "bar_style": "danger",
            "description": "",
            "description_tooltip": null,
            "layout": "IPY_MODEL_19e813eca23b424e982f9350ddcdaa9f",
            "max": 5,
            "min": 0,
            "orientation": "horizontal",
            "style": "IPY_MODEL_6040c844dbcd448f8f3fb18b259944c7",
            "value": 0
          }
        },
        "4f76aa20186340ea91fc19ab7ca6e4e4": {
          "model_module": "@jupyter-widgets/controls",
          "model_module_version": "1.5.0",
          "model_name": "HBoxModel",
          "state": {
            "_dom_classes": [],
            "_model_module": "@jupyter-widgets/controls",
            "_model_module_version": "1.5.0",
            "_model_name": "HBoxModel",
            "_view_count": null,
            "_view_module": "@jupyter-widgets/controls",
            "_view_module_version": "1.5.0",
            "_view_name": "HBoxView",
            "box_style": "",
            "children": [
              "IPY_MODEL_f86dffac66d641c0858903c15843ba56",
              "IPY_MODEL_ed90ff3db3124ccf90a78427850cd386",
              "IPY_MODEL_17c76f12df534a678023f149761995ed"
            ],
            "layout": "IPY_MODEL_a44bc80cd0bf45eea992b3e8fa8de99f"
          }
        },
        "5282a6e665304208a21732ebd3da0011": {
          "model_module": "@jupyter-widgets/controls",
          "model_module_version": "1.5.0",
          "model_name": "HBoxModel",
          "state": {
            "_dom_classes": [],
            "_model_module": "@jupyter-widgets/controls",
            "_model_module_version": "1.5.0",
            "_model_name": "HBoxModel",
            "_view_count": null,
            "_view_module": "@jupyter-widgets/controls",
            "_view_module_version": "1.5.0",
            "_view_name": "HBoxView",
            "box_style": "",
            "children": [
              "IPY_MODEL_f28d2619c84f4feb8a17f7391bf238a3",
              "IPY_MODEL_4a94b3e7f03445f2bba16b8ec8e350e6",
              "IPY_MODEL_54a01394a3f942df9e60342a292a9f20"
            ],
            "layout": "IPY_MODEL_441a072e7da846919592879c1f8f14d8"
          }
        },
        "54a01394a3f942df9e60342a292a9f20": {
          "model_module": "@jupyter-widgets/controls",
          "model_module_version": "1.5.0",
          "model_name": "HTMLModel",
          "state": {
            "_dom_classes": [],
            "_model_module": "@jupyter-widgets/controls",
            "_model_module_version": "1.5.0",
            "_model_name": "HTMLModel",
            "_view_count": null,
            "_view_module": "@jupyter-widgets/controls",
            "_view_module_version": "1.5.0",
            "_view_name": "HTMLView",
            "description": "",
            "description_tooltip": null,
            "layout": "IPY_MODEL_94ccf0304629437191a77538cc7eaee1",
            "placeholder": "​",
            "style": "IPY_MODEL_91eb61894d15426d81b4a64c07388bed",
            "value": " 0/5 [02:29&lt;?, ?it/s]"
          }
        },
        "6040c844dbcd448f8f3fb18b259944c7": {
          "model_module": "@jupyter-widgets/controls",
          "model_module_version": "1.5.0",
          "model_name": "ProgressStyleModel",
          "state": {
            "_model_module": "@jupyter-widgets/controls",
            "_model_module_version": "1.5.0",
            "_model_name": "ProgressStyleModel",
            "_view_count": null,
            "_view_module": "@jupyter-widgets/base",
            "_view_module_version": "1.2.0",
            "_view_name": "StyleView",
            "bar_color": null,
            "description_width": ""
          }
        },
        "7dcbab2118f64b4198c71a503f52999c": {
          "model_module": "@jupyter-widgets/controls",
          "model_module_version": "1.5.0",
          "model_name": "DescriptionStyleModel",
          "state": {
            "_model_module": "@jupyter-widgets/controls",
            "_model_module_version": "1.5.0",
            "_model_name": "DescriptionStyleModel",
            "_view_count": null,
            "_view_module": "@jupyter-widgets/base",
            "_view_module_version": "1.2.0",
            "_view_name": "StyleView",
            "description_width": ""
          }
        },
        "8cd4b6ecf0e14465a474d46b7135e769": {
          "model_module": "@jupyter-widgets/controls",
          "model_module_version": "1.5.0",
          "model_name": "DescriptionStyleModel",
          "state": {
            "_model_module": "@jupyter-widgets/controls",
            "_model_module_version": "1.5.0",
            "_model_name": "DescriptionStyleModel",
            "_view_count": null,
            "_view_module": "@jupyter-widgets/base",
            "_view_module_version": "1.2.0",
            "_view_name": "StyleView",
            "description_width": ""
          }
        },
        "91eb61894d15426d81b4a64c07388bed": {
          "model_module": "@jupyter-widgets/controls",
          "model_module_version": "1.5.0",
          "model_name": "DescriptionStyleModel",
          "state": {
            "_model_module": "@jupyter-widgets/controls",
            "_model_module_version": "1.5.0",
            "_model_name": "DescriptionStyleModel",
            "_view_count": null,
            "_view_module": "@jupyter-widgets/base",
            "_view_module_version": "1.2.0",
            "_view_name": "StyleView",
            "description_width": ""
          }
        },
        "94ccf0304629437191a77538cc7eaee1": {
          "model_module": "@jupyter-widgets/base",
          "model_module_version": "1.2.0",
          "model_name": "LayoutModel",
          "state": {
            "_model_module": "@jupyter-widgets/base",
            "_model_module_version": "1.2.0",
            "_model_name": "LayoutModel",
            "_view_count": null,
            "_view_module": "@jupyter-widgets/base",
            "_view_module_version": "1.2.0",
            "_view_name": "LayoutView",
            "align_content": null,
            "align_items": null,
            "align_self": null,
            "border": null,
            "bottom": null,
            "display": null,
            "flex": null,
            "flex_flow": null,
            "grid_area": null,
            "grid_auto_columns": null,
            "grid_auto_flow": null,
            "grid_auto_rows": null,
            "grid_column": null,
            "grid_gap": null,
            "grid_row": null,
            "grid_template_areas": null,
            "grid_template_columns": null,
            "grid_template_rows": null,
            "height": null,
            "justify_content": null,
            "justify_items": null,
            "left": null,
            "margin": null,
            "max_height": null,
            "max_width": null,
            "min_height": null,
            "min_width": null,
            "object_fit": null,
            "object_position": null,
            "order": null,
            "overflow": null,
            "overflow_x": null,
            "overflow_y": null,
            "padding": null,
            "right": null,
            "top": null,
            "visibility": null,
            "width": null
          }
        },
        "a44bc80cd0bf45eea992b3e8fa8de99f": {
          "model_module": "@jupyter-widgets/base",
          "model_module_version": "1.2.0",
          "model_name": "LayoutModel",
          "state": {
            "_model_module": "@jupyter-widgets/base",
            "_model_module_version": "1.2.0",
            "_model_name": "LayoutModel",
            "_view_count": null,
            "_view_module": "@jupyter-widgets/base",
            "_view_module_version": "1.2.0",
            "_view_name": "LayoutView",
            "align_content": null,
            "align_items": null,
            "align_self": null,
            "border": null,
            "bottom": null,
            "display": null,
            "flex": null,
            "flex_flow": null,
            "grid_area": null,
            "grid_auto_columns": null,
            "grid_auto_flow": null,
            "grid_auto_rows": null,
            "grid_column": null,
            "grid_gap": null,
            "grid_row": null,
            "grid_template_areas": null,
            "grid_template_columns": null,
            "grid_template_rows": null,
            "height": null,
            "justify_content": null,
            "justify_items": null,
            "left": null,
            "margin": null,
            "max_height": null,
            "max_width": null,
            "min_height": null,
            "min_width": null,
            "object_fit": null,
            "object_position": null,
            "order": null,
            "overflow": null,
            "overflow_x": null,
            "overflow_y": null,
            "padding": null,
            "right": null,
            "top": null,
            "visibility": null,
            "width": null
          }
        },
        "d3f54b70c5c5403689b28befde393c35": {
          "model_module": "@jupyter-widgets/base",
          "model_module_version": "1.2.0",
          "model_name": "LayoutModel",
          "state": {
            "_model_module": "@jupyter-widgets/base",
            "_model_module_version": "1.2.0",
            "_model_name": "LayoutModel",
            "_view_count": null,
            "_view_module": "@jupyter-widgets/base",
            "_view_module_version": "1.2.0",
            "_view_name": "LayoutView",
            "align_content": null,
            "align_items": null,
            "align_self": null,
            "border": null,
            "bottom": null,
            "display": null,
            "flex": null,
            "flex_flow": null,
            "grid_area": null,
            "grid_auto_columns": null,
            "grid_auto_flow": null,
            "grid_auto_rows": null,
            "grid_column": null,
            "grid_gap": null,
            "grid_row": null,
            "grid_template_areas": null,
            "grid_template_columns": null,
            "grid_template_rows": null,
            "height": null,
            "justify_content": null,
            "justify_items": null,
            "left": null,
            "margin": null,
            "max_height": null,
            "max_width": null,
            "min_height": null,
            "min_width": null,
            "object_fit": null,
            "object_position": null,
            "order": null,
            "overflow": null,
            "overflow_x": null,
            "overflow_y": null,
            "padding": null,
            "right": null,
            "top": null,
            "visibility": null,
            "width": null
          }
        },
        "ed47cb14c73148cf9ac4b4e7eb741db5": {
          "model_module": "@jupyter-widgets/base",
          "model_module_version": "1.2.0",
          "model_name": "LayoutModel",
          "state": {
            "_model_module": "@jupyter-widgets/base",
            "_model_module_version": "1.2.0",
            "_model_name": "LayoutModel",
            "_view_count": null,
            "_view_module": "@jupyter-widgets/base",
            "_view_module_version": "1.2.0",
            "_view_name": "LayoutView",
            "align_content": null,
            "align_items": null,
            "align_self": null,
            "border": null,
            "bottom": null,
            "display": null,
            "flex": null,
            "flex_flow": null,
            "grid_area": null,
            "grid_auto_columns": null,
            "grid_auto_flow": null,
            "grid_auto_rows": null,
            "grid_column": null,
            "grid_gap": null,
            "grid_row": null,
            "grid_template_areas": null,
            "grid_template_columns": null,
            "grid_template_rows": null,
            "height": null,
            "justify_content": null,
            "justify_items": null,
            "left": null,
            "margin": null,
            "max_height": null,
            "max_width": null,
            "min_height": null,
            "min_width": null,
            "object_fit": null,
            "object_position": null,
            "order": null,
            "overflow": null,
            "overflow_x": null,
            "overflow_y": null,
            "padding": null,
            "right": null,
            "top": null,
            "visibility": null,
            "width": null
          }
        },
        "ed90ff3db3124ccf90a78427850cd386": {
          "model_module": "@jupyter-widgets/controls",
          "model_module_version": "1.5.0",
          "model_name": "FloatProgressModel",
          "state": {
            "_dom_classes": [],
            "_model_module": "@jupyter-widgets/controls",
            "_model_module_version": "1.5.0",
            "_model_name": "FloatProgressModel",
            "_view_count": null,
            "_view_module": "@jupyter-widgets/controls",
            "_view_module_version": "1.5.0",
            "_view_name": "ProgressView",
            "bar_style": "success",
            "description": "",
            "description_tooltip": null,
            "layout": "IPY_MODEL_36016b04c34c4e5eb6de4baef1f13b32",
            "max": 2893,
            "min": 0,
            "orientation": "horizontal",
            "style": "IPY_MODEL_fb47e114f59e4fb98fb01a8799a42fdf",
            "value": 2893
          }
        },
        "f28d2619c84f4feb8a17f7391bf238a3": {
          "model_module": "@jupyter-widgets/controls",
          "model_module_version": "1.5.0",
          "model_name": "HTMLModel",
          "state": {
            "_dom_classes": [],
            "_model_module": "@jupyter-widgets/controls",
            "_model_module_version": "1.5.0",
            "_model_name": "HTMLModel",
            "_view_count": null,
            "_view_module": "@jupyter-widgets/controls",
            "_view_module_version": "1.5.0",
            "_view_name": "HTMLView",
            "description": "",
            "description_tooltip": null,
            "layout": "IPY_MODEL_d3f54b70c5c5403689b28befde393c35",
            "placeholder": "​",
            "style": "IPY_MODEL_8cd4b6ecf0e14465a474d46b7135e769",
            "value": "  0%"
          }
        },
        "f86dffac66d641c0858903c15843ba56": {
          "model_module": "@jupyter-widgets/controls",
          "model_module_version": "1.5.0",
          "model_name": "HTMLModel",
          "state": {
            "_dom_classes": [],
            "_model_module": "@jupyter-widgets/controls",
            "_model_module_version": "1.5.0",
            "_model_name": "HTMLModel",
            "_view_count": null,
            "_view_module": "@jupyter-widgets/controls",
            "_view_module_version": "1.5.0",
            "_view_name": "HTMLView",
            "description": "",
            "description_tooltip": null,
            "layout": "IPY_MODEL_0a990eb8c3464825b434b87144fe024f",
            "placeholder": "​",
            "style": "IPY_MODEL_7dcbab2118f64b4198c71a503f52999c",
            "value": "100%"
          }
        },
        "fb47e114f59e4fb98fb01a8799a42fdf": {
          "model_module": "@jupyter-widgets/controls",
          "model_module_version": "1.5.0",
          "model_name": "ProgressStyleModel",
          "state": {
            "_model_module": "@jupyter-widgets/controls",
            "_model_module_version": "1.5.0",
            "_model_name": "ProgressStyleModel",
            "_view_count": null,
            "_view_module": "@jupyter-widgets/base",
            "_view_module_version": "1.2.0",
            "_view_name": "StyleView",
            "bar_color": null,
            "description_width": ""
          }
        }
      }
    }
  },
  "nbformat": 4,
  "nbformat_minor": 0
}
