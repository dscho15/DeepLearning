{
  "nbformat": 4,
  "nbformat_minor": 2,
  "metadata": {
    "colab": {
      "name": "Lecture3.ipynb",
      "provenance": [],
      "collapsed_sections": [],
      "authorship_tag": "ABX9TyNGlsGEJxlPSKdR7FWfbUIe",
      "include_colab_link": true
    },
    "kernelspec": {
      "name": "python3",
      "display_name": "Python 3.8.10 64-bit ('pytorch-gpu': conda)"
    },
    "language_info": {
      "name": "python",
      "version": "3.8.10",
      "mimetype": "text/x-python",
      "codemirror_mode": {
        "name": "ipython",
        "version": 3
      },
      "pygments_lexer": "ipython3",
      "nbconvert_exporter": "python",
      "file_extension": ".py"
    },
    "accelerator": "GPU",
    "widgets": {
      "application/vnd.jupyter.widget-state+json": {
        "c80e6288f9184367bb0bcbe0d6ff4cd9": {
          "model_module": "@jupyter-widgets/controls",
          "model_name": "HBoxModel",
          "model_module_version": "1.5.0",
          "state": {
            "_view_name": "HBoxView",
            "_dom_classes": [],
            "_model_name": "HBoxModel",
            "_view_module": "@jupyter-widgets/controls",
            "_model_module_version": "1.5.0",
            "_view_count": null,
            "_view_module_version": "1.5.0",
            "box_style": "",
            "layout": "IPY_MODEL_4bf71ac1e5ff4afc92c4e16b781d084b",
            "_model_module": "@jupyter-widgets/controls",
            "children": [
              "IPY_MODEL_7e9447185652430c9a7625385a49813c",
              "IPY_MODEL_535a3cdb39cf4eefb2a9b835eda59cb3",
              "IPY_MODEL_e7805e13907842d29d0d28cacffb1576"
            ]
          }
        },
        "4bf71ac1e5ff4afc92c4e16b781d084b": {
          "model_module": "@jupyter-widgets/base",
          "model_name": "LayoutModel",
          "model_module_version": "1.2.0",
          "state": {
            "_view_name": "LayoutView",
            "grid_template_rows": null,
            "right": null,
            "justify_content": null,
            "_view_module": "@jupyter-widgets/base",
            "overflow": null,
            "_model_module_version": "1.2.0",
            "_view_count": null,
            "flex_flow": null,
            "width": null,
            "min_width": null,
            "border": null,
            "align_items": null,
            "bottom": null,
            "_model_module": "@jupyter-widgets/base",
            "top": null,
            "grid_column": null,
            "overflow_y": null,
            "overflow_x": null,
            "grid_auto_flow": null,
            "grid_area": null,
            "grid_template_columns": null,
            "flex": null,
            "_model_name": "LayoutModel",
            "justify_items": null,
            "grid_row": null,
            "max_height": null,
            "align_content": null,
            "visibility": null,
            "align_self": null,
            "height": null,
            "min_height": null,
            "padding": null,
            "grid_auto_rows": null,
            "grid_gap": null,
            "max_width": null,
            "order": null,
            "_view_module_version": "1.2.0",
            "grid_template_areas": null,
            "object_position": null,
            "object_fit": null,
            "grid_auto_columns": null,
            "margin": null,
            "display": null,
            "left": null
          }
        },
        "7e9447185652430c9a7625385a49813c": {
          "model_module": "@jupyter-widgets/controls",
          "model_name": "HTMLModel",
          "model_module_version": "1.5.0",
          "state": {
            "_view_name": "HTMLView",
            "style": "IPY_MODEL_0de103c7186e44b7aafb16b4ac5206a7",
            "_dom_classes": [],
            "description": "",
            "_model_name": "HTMLModel",
            "placeholder": "​",
            "_view_module": "@jupyter-widgets/controls",
            "_model_module_version": "1.5.0",
            "value": "100%",
            "_view_count": null,
            "_view_module_version": "1.5.0",
            "description_tooltip": null,
            "_model_module": "@jupyter-widgets/controls",
            "layout": "IPY_MODEL_2d20817b838d47a6bfde6d0a4b034d31"
          }
        },
        "535a3cdb39cf4eefb2a9b835eda59cb3": {
          "model_module": "@jupyter-widgets/controls",
          "model_name": "FloatProgressModel",
          "model_module_version": "1.5.0",
          "state": {
            "_view_name": "ProgressView",
            "style": "IPY_MODEL_a0400dae164849e49a9f6668dd5a2d5e",
            "_dom_classes": [],
            "description": "",
            "_model_name": "FloatProgressModel",
            "bar_style": "success",
            "max": 50,
            "_view_module": "@jupyter-widgets/controls",
            "_model_module_version": "1.5.0",
            "value": 50,
            "_view_count": null,
            "_view_module_version": "1.5.0",
            "orientation": "horizontal",
            "min": 0,
            "description_tooltip": null,
            "_model_module": "@jupyter-widgets/controls",
            "layout": "IPY_MODEL_9278a2033215433fa9d03605fbe67d05"
          }
        },
        "e7805e13907842d29d0d28cacffb1576": {
          "model_module": "@jupyter-widgets/controls",
          "model_name": "HTMLModel",
          "model_module_version": "1.5.0",
          "state": {
            "_view_name": "HTMLView",
            "style": "IPY_MODEL_c3f8ba6f75fc45a0ab30bd32752638e1",
            "_dom_classes": [],
            "description": "",
            "_model_name": "HTMLModel",
            "placeholder": "​",
            "_view_module": "@jupyter-widgets/controls",
            "_model_module_version": "1.5.0",
            "value": " 50/50 [02:29&lt;00:00,  3.02s/it]",
            "_view_count": null,
            "_view_module_version": "1.5.0",
            "description_tooltip": null,
            "_model_module": "@jupyter-widgets/controls",
            "layout": "IPY_MODEL_d5cbf1ddc4264c88b2718ff3e8a8a1bc"
          }
        },
        "0de103c7186e44b7aafb16b4ac5206a7": {
          "model_module": "@jupyter-widgets/controls",
          "model_name": "DescriptionStyleModel",
          "model_module_version": "1.5.0",
          "state": {
            "_view_name": "StyleView",
            "_model_name": "DescriptionStyleModel",
            "description_width": "",
            "_view_module": "@jupyter-widgets/base",
            "_model_module_version": "1.5.0",
            "_view_count": null,
            "_view_module_version": "1.2.0",
            "_model_module": "@jupyter-widgets/controls"
          }
        },
        "2d20817b838d47a6bfde6d0a4b034d31": {
          "model_module": "@jupyter-widgets/base",
          "model_name": "LayoutModel",
          "model_module_version": "1.2.0",
          "state": {
            "_view_name": "LayoutView",
            "grid_template_rows": null,
            "right": null,
            "justify_content": null,
            "_view_module": "@jupyter-widgets/base",
            "overflow": null,
            "_model_module_version": "1.2.0",
            "_view_count": null,
            "flex_flow": null,
            "width": null,
            "min_width": null,
            "border": null,
            "align_items": null,
            "bottom": null,
            "_model_module": "@jupyter-widgets/base",
            "top": null,
            "grid_column": null,
            "overflow_y": null,
            "overflow_x": null,
            "grid_auto_flow": null,
            "grid_area": null,
            "grid_template_columns": null,
            "flex": null,
            "_model_name": "LayoutModel",
            "justify_items": null,
            "grid_row": null,
            "max_height": null,
            "align_content": null,
            "visibility": null,
            "align_self": null,
            "height": null,
            "min_height": null,
            "padding": null,
            "grid_auto_rows": null,
            "grid_gap": null,
            "max_width": null,
            "order": null,
            "_view_module_version": "1.2.0",
            "grid_template_areas": null,
            "object_position": null,
            "object_fit": null,
            "grid_auto_columns": null,
            "margin": null,
            "display": null,
            "left": null
          }
        },
        "a0400dae164849e49a9f6668dd5a2d5e": {
          "model_module": "@jupyter-widgets/controls",
          "model_name": "ProgressStyleModel",
          "model_module_version": "1.5.0",
          "state": {
            "_view_name": "StyleView",
            "_model_name": "ProgressStyleModel",
            "description_width": "",
            "_view_module": "@jupyter-widgets/base",
            "_model_module_version": "1.5.0",
            "_view_count": null,
            "_view_module_version": "1.2.0",
            "bar_color": null,
            "_model_module": "@jupyter-widgets/controls"
          }
        },
        "9278a2033215433fa9d03605fbe67d05": {
          "model_module": "@jupyter-widgets/base",
          "model_name": "LayoutModel",
          "model_module_version": "1.2.0",
          "state": {
            "_view_name": "LayoutView",
            "grid_template_rows": null,
            "right": null,
            "justify_content": null,
            "_view_module": "@jupyter-widgets/base",
            "overflow": null,
            "_model_module_version": "1.2.0",
            "_view_count": null,
            "flex_flow": null,
            "width": null,
            "min_width": null,
            "border": null,
            "align_items": null,
            "bottom": null,
            "_model_module": "@jupyter-widgets/base",
            "top": null,
            "grid_column": null,
            "overflow_y": null,
            "overflow_x": null,
            "grid_auto_flow": null,
            "grid_area": null,
            "grid_template_columns": null,
            "flex": null,
            "_model_name": "LayoutModel",
            "justify_items": null,
            "grid_row": null,
            "max_height": null,
            "align_content": null,
            "visibility": null,
            "align_self": null,
            "height": null,
            "min_height": null,
            "padding": null,
            "grid_auto_rows": null,
            "grid_gap": null,
            "max_width": null,
            "order": null,
            "_view_module_version": "1.2.0",
            "grid_template_areas": null,
            "object_position": null,
            "object_fit": null,
            "grid_auto_columns": null,
            "margin": null,
            "display": null,
            "left": null
          }
        },
        "c3f8ba6f75fc45a0ab30bd32752638e1": {
          "model_module": "@jupyter-widgets/controls",
          "model_name": "DescriptionStyleModel",
          "model_module_version": "1.5.0",
          "state": {
            "_view_name": "StyleView",
            "_model_name": "DescriptionStyleModel",
            "description_width": "",
            "_view_module": "@jupyter-widgets/base",
            "_model_module_version": "1.5.0",
            "_view_count": null,
            "_view_module_version": "1.2.0",
            "_model_module": "@jupyter-widgets/controls"
          }
        },
        "d5cbf1ddc4264c88b2718ff3e8a8a1bc": {
          "model_module": "@jupyter-widgets/base",
          "model_name": "LayoutModel",
          "model_module_version": "1.2.0",
          "state": {
            "_view_name": "LayoutView",
            "grid_template_rows": null,
            "right": null,
            "justify_content": null,
            "_view_module": "@jupyter-widgets/base",
            "overflow": null,
            "_model_module_version": "1.2.0",
            "_view_count": null,
            "flex_flow": null,
            "width": null,
            "min_width": null,
            "border": null,
            "align_items": null,
            "bottom": null,
            "_model_module": "@jupyter-widgets/base",
            "top": null,
            "grid_column": null,
            "overflow_y": null,
            "overflow_x": null,
            "grid_auto_flow": null,
            "grid_area": null,
            "grid_template_columns": null,
            "flex": null,
            "_model_name": "LayoutModel",
            "justify_items": null,
            "grid_row": null,
            "max_height": null,
            "align_content": null,
            "visibility": null,
            "align_self": null,
            "height": null,
            "min_height": null,
            "padding": null,
            "grid_auto_rows": null,
            "grid_gap": null,
            "max_width": null,
            "order": null,
            "_view_module_version": "1.2.0",
            "grid_template_areas": null,
            "object_position": null,
            "object_fit": null,
            "grid_auto_columns": null,
            "margin": null,
            "display": null,
            "left": null
          }
        }
      }
    },
    "interpreter": {
      "hash": "798adb3e5cac80b1da8b2d8431f10751139b19690096d583bc5bddda6c6fe848"
    }
  },
  "cells": [
    {
      "cell_type": "markdown",
      "source": [
        "<a href=\"https://colab.research.google.com/github/dscho15/DeepLearning/blob/main/Lecture3.ipynb\" target=\"_parent\"><img src=\"https://colab.research.google.com/assets/colab-badge.svg\" alt=\"Open In Colab\"/></a>"
      ],
      "metadata": {
        "id": "view-in-github",
        "colab_type": "text"
      }
    },
    {
      "cell_type": "markdown",
      "source": [
        "## MLP (one hidden layer) for classification on Cifar10"
      ],
      "metadata": {
        "id": "cKStmp8iKoRa"
      }
    },
    {
      "cell_type": "code",
      "execution_count": 130,
      "source": [
        "import copy\n",
        "\n",
        "import numpy as np\n",
        "import matplotlib.pyplot as plt\n",
        "from tqdm.notebook import tqdm\n",
        "\n",
        "import torch\n",
        "from torch import nn\n",
        "import torch.nn.functional as F\n",
        "import torchvision\n",
        "from torchvision import transforms as T"
      ],
      "outputs": [],
      "metadata": {
        "id": "IDiq1Ns5KlSs"
      }
    },
    {
      "cell_type": "code",
      "execution_count": 142,
      "source": [
        "transform = T.Compose([T.ToTensor(), \n",
        "                       T.RandomHorizontalFlip(),\n",
        "                       T.RandomRotation(20)])\n",
        "\n",
        "data_train = torchvision.datasets.CIFAR10(root='./data', train=True, download=True, transform=transform)\n",
        "data_train, data_valid = torch.utils.data.random_split(data_train, (45000, 5000))\n",
        "data_test = torchvision.datasets.CIFAR10(root='./data', train=False, download=True, transform=transform)"
      ],
      "outputs": [
        {
          "output_type": "stream",
          "name": "stdout",
          "text": [
            "Files already downloaded and verified\n",
            "Files already downloaded and verified\n"
          ]
        }
      ],
      "metadata": {
        "colab": {
          "base_uri": "https://localhost:8080/"
        },
        "id": "N7S1l-WMKsez",
        "outputId": "2b1cb32a-4de1-4b41-d0f1-7e20fddfa735"
      }
    },
    {
      "cell_type": "code",
      "execution_count": 143,
      "source": [
        "loader_train = torch.utils.data.DataLoader(data_train, batch_size=256, shuffle=False, num_workers=2)\n",
        "loader_valid = torch.utils.data.DataLoader(data_valid, batch_size=256, shuffle=False, num_workers=2)\n",
        "loader_test = torch.utils.data.DataLoader(data_test, batch_size=256, shuffle=False, num_workers=2)"
      ],
      "outputs": [],
      "metadata": {}
    },
    {
      "cell_type": "markdown",
      "source": [
        "# Challenge\n",
        "* Build a Multi Layer Perceptron, MLP, with one ReLU-activated hidden layer.\n",
        "* Use the validation set to inform e.g. number of hidden neurons.\n",
        "* When you're satisfied, then, use the test set to get an  \n",
        "unbiased estimate of your models performance on the real data distribution."
      ],
      "metadata": {
        "id": "n150kjHGLI3q"
      }
    },
    {
      "cell_type": "code",
      "execution_count": 92,
      "source": [
        "class NeuralNetwork(nn.Module):\n",
        "    def __init__(self, n_hidden_neurons):\n",
        "        super(NeuralNetwork, self).__init__()\n",
        "        self.model = nn.Sequential(\n",
        "            # Inputs\n",
        "            nn.Flatten(),\n",
        "            nn.BatchNorm1d(32*32*3),\n",
        "            nn.Linear(32*32*3, n_hidden_neurons),\n",
        "            nn.ReLU(),\n",
        "\n",
        "            nn.BatchNorm1d(n_hidden_neurons),\n",
        "            nn.Dropout(0.1),\n",
        "            nn.Linear(n_hidden_neurons, int(n_hidden_neurons/2)),\n",
        "            nn.ReLU(),\n",
        "\n",
        "            nn.BatchNorm1d(int(n_hidden_neurons/2)),\n",
        "            nn.Linear(int(n_hidden_neurons/2), int(n_hidden_neurons/4)),\n",
        "            nn.ReLU(),\n",
        "            nn.Dropout(0.1),\n",
        "\n",
        "            nn.BatchNorm1d(int(n_hidden_neurons/4)),\n",
        "            nn.Linear(int(n_hidden_neurons/4), int(n_hidden_neurons/8)),\n",
        "            nn.ReLU(),\n",
        "            nn.Dropout(0.1),\n",
        "\n",
        "            nn.BatchNorm1d(int(n_hidden_neurons/8)),\n",
        "            nn.Linear(int(n_hidden_neurons/8), int(n_hidden_neurons/16)),\n",
        "            nn.ReLU(),\n",
        "            nn.BatchNorm1d(int(n_hidden_neurons/16)),\n",
        "\n",
        "            # Logits\n",
        "            nn.Linear(int(n_hidden_neurons/16), 10)\n",
        "        )\n",
        "\n",
        "    def forward(self, x):\n",
        "        logits = self.model(x)\n",
        "        return logits"
      ],
      "outputs": [],
      "metadata": {
        "id": "pyqRBRXKK7cm"
      }
    },
    {
      "cell_type": "code",
      "execution_count": 100,
      "source": [
        "all_losses, all_accuracies = {}, {}\n",
        "best_accuracy = 0\n",
        "best_model = None"
      ],
      "outputs": [],
      "metadata": {
        "id": "KwM5ff44LPXn"
      }
    },
    {
      "cell_type": "code",
      "execution_count": 101,
      "source": [
        "device = torch.device('cuda')\n",
        "n_hidden_neurons = 1024\n",
        "model = NeuralNetwork(n_hidden_neurons).to(device)\n",
        "opt = torch.optim.SGD(model.parameters(), lr=8e-3, weight_decay=5e-4, momentum = 0.85)\n",
        "\n",
        "train_losses, train_accuracies = [], []\n",
        "valid_losses, valid_accuracies = [], []\n",
        "\n",
        "for epoch in tqdm(range(25)):\n",
        "\n",
        "    model.train()\n",
        "\n",
        "    epoch_losses = []\n",
        "    correct, total = 0, 0\n",
        "\n",
        "    for x, y in loader_train:\n",
        "        \n",
        "        x, y = x.to(device), y.to(device)\n",
        "        \n",
        "        logits = model(x)\n",
        "        log_probs = F.log_softmax(logits, dim=1)\n",
        "        loss = F.nll_loss(log_probs, y)\n",
        "\n",
        "        opt.zero_grad()\n",
        "        loss.backward()\n",
        "        opt.step()\n",
        "\n",
        "        epoch_losses.append(loss.item())\n",
        "        total += len(x)\n",
        "        correct += (torch.argmax(logits, dim=1) == y).sum().item()\n",
        "\n",
        "    train_loss = np.mean(epoch_losses)\n",
        "    train_accuracy = correct / total\n",
        "\n",
        "    with torch.no_grad():\n",
        "\n",
        "        model.eval()\n",
        "\n",
        "        valid_losses_batch = []\n",
        "        correct, total = 0, 0\n",
        "\n",
        "        for x, y in loader_valid:\n",
        "\n",
        "            x, y = x.to(device), y.to(device)\n",
        "            logits = model(x)\n",
        "            log_probs = F.log_softmax(logits, dim=1)\n",
        "            loss = F.nll_loss(log_probs, y)\n",
        "\n",
        "            total += len(x)\n",
        "            valid_losses_batch.append(loss.item())\n",
        "            correct += (torch.argmax(logits, dim=1) == y).sum().item()\n",
        "    \n",
        "    valid_loss = np.mean(valid_losses_batch)\n",
        "    valid_accuracy = correct/total\n",
        "\n",
        "    if valid_accuracy > best_accuracy:\n",
        "        best_accuracy = valid_accuracy\n",
        "        best_model = copy.deepcopy(model), n_hidden_neurons, epoch\n",
        "\n",
        "    train_losses.append(train_loss)\n",
        "    valid_losses.append(valid_loss)\n",
        "    train_accuracies.append(train_accuracy)\n",
        "    valid_accuracies.append(valid_accuracy)\n",
        "\n",
        "all_losses[n_hidden_neurons] = train_losses, valid_losses\n",
        "all_accuracies[n_hidden_neurons] = train_accuracies, valid_accuracies"
      ],
      "outputs": [
        {
          "output_type": "display_data",
          "data": {
            "application/vnd.jupyter.widget-view+json": {
              "version_major": 2,
              "version_minor": 0,
              "model_id": "5c77024fbd924d6b8ba2be3e6af0cf9b"
            },
            "text/plain": [
              "  0%|          | 0/25 [00:00<?, ?it/s]"
            ]
          },
          "metadata": {}
        }
      ],
      "metadata": {
        "colab": {
          "base_uri": "https://localhost:8080/",
          "height": 49,
          "referenced_widgets": [
            "c80e6288f9184367bb0bcbe0d6ff4cd9",
            "4bf71ac1e5ff4afc92c4e16b781d084b",
            "7e9447185652430c9a7625385a49813c",
            "535a3cdb39cf4eefb2a9b835eda59cb3",
            "e7805e13907842d29d0d28cacffb1576",
            "0de103c7186e44b7aafb16b4ac5206a7",
            "2d20817b838d47a6bfde6d0a4b034d31",
            "a0400dae164849e49a9f6668dd5a2d5e",
            "9278a2033215433fa9d03605fbe67d05",
            "c3f8ba6f75fc45a0ab30bd32752638e1",
            "d5cbf1ddc4264c88b2718ff3e8a8a1bc"
          ]
        },
        "id": "oO4Gd_B1LSJY",
        "outputId": "3e038bc2-5462-4055-d188-b4577440db92"
      }
    },
    {
      "cell_type": "code",
      "execution_count": 102,
      "source": [
        "plt.figure(1, figsize=(20,10))\n",
        "plt.subplot(2,1,1)\n",
        "plt.plot(train_losses)\n",
        "plt.plot(valid_losses)\n",
        "plt.xlabel(\"epoche\")\n",
        "plt.ylabel(\"loss\")\n",
        "plt.legend([\"Train\", \"Valid\"])\n",
        "\n",
        "plt.subplot(2,1,2)\n",
        "plt.plot(train_accuracies)\n",
        "plt.plot(valid_accuracies)\n",
        "plt.xlabel(\"epoche\")\n",
        "plt.ylabel(\"accuracy [%]\")\n",
        "plt.legend([\"Train\", \"Valid\"])\n",
        "\n",
        "plt.show()\n",
        "\n",
        "np.max(valid_accuracies)"
      ],
      "outputs": [
        {
          "output_type": "display_data",
          "data": {
            "image/png": "[encoded data removed]",
            "text/plain": [
              "<Figure size 1440x720 with 2 Axes>"
            ]
          },
          "metadata": {
            "needs_background": "light"
          }
        },
        {
          "output_type": "execute_result",
          "data": {
            "text/plain": [
              "0.5708"
            ]
          },
          "metadata": {},
          "execution_count": 102
        }
      ],
      "metadata": {
        "colab": {
          "base_uri": "https://localhost:8080/",
          "height": 607
        },
        "id": "S3sd5_2XPFrt",
        "outputId": "b504827a-a4ad-4992-cb51-61895c482a42"
      }
    },
    {
      "cell_type": "code",
      "execution_count": 103,
      "source": [
        "model = best_model[0]\n",
        "\n",
        "with torch.no_grad():\n",
        "\n",
        "    correct, total = 0, 0\n",
        "    model.eval()\n",
        "\n",
        "    for x, y in loader_test:\n",
        "\n",
        "      x, y = x.to(device), y.to(device)\n",
        "      logits = model(x)\n",
        "      log_probs = F.log_softmax(logits, dim=1)\n",
        "      loss = F.nll_loss(log_probs, y)\n",
        "\n",
        "      total += len(x)\n",
        "      correct += (torch.argmax(logits, dim=1) == y).sum().item()\n",
        "    \n",
        "valid_accuracy = correct/total\n",
        "\n",
        "print(\"The test accuracy: %s\"%(valid_accuracy))\n",
        "  "
      ],
      "outputs": [
        {
          "output_type": "stream",
          "name": "stdout",
          "text": [
            "The test accuracy: 0.5533\n"
          ]
        }
      ],
      "metadata": {
        "colab": {
          "base_uri": "https://localhost:8080/"
        },
        "id": "8arLZUU4Y1hY",
        "outputId": "d77b4a39-c065-4593-dd20-321abdbf5a95"
      }
    },
    {
      "cell_type": "code",
      "execution_count": 144,
      "source": [
        "class NeuralNetwork(nn.Module):\n",
        "    def __init__(self):\n",
        "        super(NeuralNetwork, self).__init__()\n",
        "        self.model = nn.Sequential(\n",
        "\n",
        "            # Inputs\n",
        "            nn.BatchNorm2d(3),\n",
        "\n",
        "            # Conv #1\n",
        "            nn.Conv2d(3, 9, 3, stride = 1, padding = 1),\n",
        "            nn.ReLU(),\n",
        "            nn.BatchNorm2d(9),\n",
        "            nn.MaxPool2d(2, 2),\n",
        "\n",
        "            # Conv #2\n",
        "            nn.Conv2d(9, 21, 5, stride = 1, padding = 1),\n",
        "            nn.ReLU(),\n",
        "            nn.BatchNorm2d(21),\n",
        "            nn.MaxPool2d(2, 2),\n",
        "\n",
        "            # Conv #3\n",
        "            nn.Conv2d(21, 42, 3, stride = 1, padding = 1),\n",
        "            nn.ReLU(),\n",
        "            nn.BatchNorm2d(42),\n",
        "            nn.MaxPool2d(2, 2),\n",
        "\n",
        "            # Flatten\n",
        "            nn.Flatten(),\n",
        "\n",
        "            # Linear #1\n",
        "            nn.Linear(378, 128),\n",
        "            nn.ReLU(),\n",
        "            nn.BatchNorm1d(128),\n",
        "\n",
        "            # Linear #2\n",
        "            nn.Linear(128, 64),\n",
        "            nn.ReLU(),\n",
        "            nn.BatchNorm1d(64),\n",
        "\n",
        "            # Linear #2\n",
        "            nn.Linear(64, 10)\n",
        "        )\n",
        "\n",
        "    def forward(self, x):\n",
        "        logits = self.model(x.reshape((-1, 3, 32, 32)))\n",
        "        return logits\n",
        "\n",
        "\n",
        "model = NeuralNetwork()"
      ],
      "outputs": [],
      "metadata": {}
    },
    {
      "cell_type": "code",
      "execution_count": 149,
      "source": [
        "all_losses, all_accuracies = {}, {}\n",
        "best_accuracy = 0\n",
        "best_model = None\n",
        "\n",
        "device = torch.device('cuda')\n",
        "batch_size = 256\n",
        "model = NeuralNetwork().to(device)\n",
        "opt = torch.optim.SGD(model.parameters(), lr=9e-2, weight_decay=2e-5, momentum = 0.8)\n",
        "\n",
        "train_losses, train_accuracies = [], [] \n",
        "valid_losses, valid_accuracies = [], []\n",
        "\n",
        "for epoch in tqdm(range(50)):\n",
        "\n",
        "    model.train()\n",
        "\n",
        "    epoch_losses = []\n",
        "    correct, total = 0, 0\n",
        "\n",
        "    for x, y in loader_train:\n",
        "        \n",
        "        x, y = x.to(device), y.to(device)\n",
        "        \n",
        "        logits = model(x)\n",
        "        log_probs = F.log_softmax(logits, dim=1)\n",
        "        loss = F.nll_loss(log_probs, y)\n",
        "\n",
        "        opt.zero_grad()\n",
        "        loss.backward()\n",
        "        opt.step()\n",
        "\n",
        "        epoch_losses.append(loss.item())\n",
        "        total += len(x)\n",
        "        correct += (torch.argmax(logits, dim=1) == y).sum().item()\n",
        "\n",
        "    train_loss = np.mean(epoch_losses)\n",
        "    train_accuracy = correct / total\n",
        "\n",
        "    with torch.no_grad():\n",
        "\n",
        "        model.eval()\n",
        "\n",
        "        valid_losses_batch = []\n",
        "        correct, total = 0, 0\n",
        "\n",
        "        for x, y in loader_valid:\n",
        "\n",
        "            x, y = x.to(device), y.to(device)\n",
        "\n",
        "            logits = model(x)\n",
        "            log_probs = F.log_softmax(logits, dim=1)\n",
        "            loss = F.nll_loss(log_probs, y)\n",
        "\n",
        "            total += len(x)\n",
        "            valid_losses_batch.append(loss.item())\n",
        "            correct += (torch.argmax(logits, dim=1) == y).sum().item()\n",
        "    \n",
        "    valid_loss = np.mean(valid_losses_batch)\n",
        "    valid_accuracy = correct/total\n",
        "\n",
        "    if valid_accuracy > best_accuracy:\n",
        "        best_accuracy = valid_accuracy\n",
        "        best_model = copy.deepcopy(model), epoch\n",
        "\n",
        "    train_losses.append(train_loss)\n",
        "    valid_losses.append(valid_loss)\n",
        "    train_accuracies.append(train_accuracy)\n",
        "    valid_accuracies.append(valid_accuracy)"
      ],
      "outputs": [
        {
          "output_type": "display_data",
          "data": {
            "application/vnd.jupyter.widget-view+json": {
              "version_major": 2,
              "version_minor": 0,
              "model_id": "ec6061a716234bf6959d896069dd2756"
            },
            "text/plain": [
              "  0%|          | 0/50 [00:00<?, ?it/s]"
            ]
          },
          "metadata": {}
        }
      ],
      "metadata": {}
    },
    {
      "cell_type": "code",
      "execution_count": 150,
      "source": [
        "plt.figure(1, figsize=(20,10))\n",
        "plt.subplot(2,1,1)\n",
        "plt.plot(train_losses)\n",
        "plt.plot(valid_losses)\n",
        "plt.xlabel(\"epoche\")\n",
        "plt.ylabel(\"loss\")\n",
        "plt.legend([\"Train\", \"Valid\"])\n",
        "\n",
        "plt.subplot(2,1,2)\n",
        "plt.plot(train_accuracies)\n",
        "plt.plot(valid_accuracies)\n",
        "plt.xlabel(\"epoche\")\n",
        "plt.ylabel(\"accuracy [%]\")\n",
        "plt.legend([\"Train\", \"Valid\"])\n",
        "\n",
        "plt.show()\n",
        "\n",
        "np.max(valid_accuracies)"
      ],
      "outputs": [
        {
          "output_type": "display_data",
          "data": {
            "image/png": "[encoded data removed]",
            "text/plain": [
              "<Figure size 1440x720 with 2 Axes>"
            ]
          },
          "metadata": {
            "needs_background": "light"
          }
        },
        {
          "output_type": "execute_result",
          "data": {
            "text/plain": [
              "0.7472"
            ]
          },
          "metadata": {},
          "execution_count": 150
        }
      ],
      "metadata": {}
    },
    {
      "cell_type": "code",
      "execution_count": 151,
      "source": [
        "model = best_model[0]\n",
        "\n",
        "with torch.no_grad():\n",
        "\n",
        "    correct, total = 0, 0\n",
        "    model.eval()\n",
        "\n",
        "    for x, y in loader_test:\n",
        "\n",
        "      x, y = x.to(device), y.to(device)\n",
        "\n",
        "      logits = model(x)\n",
        "      log_probs = F.log_softmax(logits, dim=1)\n",
        "      loss = F.nll_loss(log_probs, y)\n",
        "\n",
        "      total += len(x)\n",
        "      correct += (torch.argmax(logits, dim=1) == y).sum().item()\n",
        "    \n",
        "valid_accuracy = correct/total\n",
        "\n",
        "print(\"The test accuracy: %s\"%(valid_accuracy))"
      ],
      "outputs": [
        {
          "output_type": "stream",
          "name": "stdout",
          "text": [
            "The test accuracy: 0.7332\n"
          ]
        }
      ],
      "metadata": {}
    }
  ]
}