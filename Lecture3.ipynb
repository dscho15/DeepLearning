{
  "nbformat": 4,
  "nbformat_minor": 0,
  "metadata": {
    "colab": {
      "name": "Lecture3.ipynb",
      "provenance": [],
      "collapsed_sections": [],
      "authorship_tag": "ABX9TyNGlsGEJxlPSKdR7FWfbUIe",
      "include_colab_link": true
    },
    "kernelspec": {
      "name": "python3",
      "display_name": "Python 3"
    },
    "language_info": {
      "name": "python"
    },
    "accelerator": "GPU",
    "widgets": {
      "application/vnd.jupyter.widget-state+json": {
        "c80e6288f9184367bb0bcbe0d6ff4cd9": {
          "model_module": "@jupyter-widgets/controls",
          "model_name": "HBoxModel",
          "model_module_version": "1.5.0",
          "state": {
            "_view_name": "HBoxView",
            "_dom_classes": [],
            "_model_name": "HBoxModel",
            "_view_module": "@jupyter-widgets/controls",
            "_model_module_version": "1.5.0",
            "_view_count": null,
            "_view_module_version": "1.5.0",
            "box_style": "",
            "layout": "IPY_MODEL_4bf71ac1e5ff4afc92c4e16b781d084b",
            "_model_module": "@jupyter-widgets/controls",
            "children": [
              "IPY_MODEL_7e9447185652430c9a7625385a49813c",
              "IPY_MODEL_535a3cdb39cf4eefb2a9b835eda59cb3",
              "IPY_MODEL_e7805e13907842d29d0d28cacffb1576"
            ]
          }
        },
        "4bf71ac1e5ff4afc92c4e16b781d084b": {
          "model_module": "@jupyter-widgets/base",
          "model_name": "LayoutModel",
          "model_module_version": "1.2.0",
          "state": {
            "_view_name": "LayoutView",
            "grid_template_rows": null,
            "right": null,
            "justify_content": null,
            "_view_module": "@jupyter-widgets/base",
            "overflow": null,
            "_model_module_version": "1.2.0",
            "_view_count": null,
            "flex_flow": null,
            "width": null,
            "min_width": null,
            "border": null,
            "align_items": null,
            "bottom": null,
            "_model_module": "@jupyter-widgets/base",
            "top": null,
            "grid_column": null,
            "overflow_y": null,
            "overflow_x": null,
            "grid_auto_flow": null,
            "grid_area": null,
            "grid_template_columns": null,
            "flex": null,
            "_model_name": "LayoutModel",
            "justify_items": null,
            "grid_row": null,
            "max_height": null,
            "align_content": null,
            "visibility": null,
            "align_self": null,
            "height": null,
            "min_height": null,
            "padding": null,
            "grid_auto_rows": null,
            "grid_gap": null,
            "max_width": null,
            "order": null,
            "_view_module_version": "1.2.0",
            "grid_template_areas": null,
            "object_position": null,
            "object_fit": null,
            "grid_auto_columns": null,
            "margin": null,
            "display": null,
            "left": null
          }
        },
        "7e9447185652430c9a7625385a49813c": {
          "model_module": "@jupyter-widgets/controls",
          "model_name": "HTMLModel",
          "model_module_version": "1.5.0",
          "state": {
            "_view_name": "HTMLView",
            "style": "IPY_MODEL_0de103c7186e44b7aafb16b4ac5206a7",
            "_dom_classes": [],
            "description": "",
            "_model_name": "HTMLModel",
            "placeholder": "​",
            "_view_module": "@jupyter-widgets/controls",
            "_model_module_version": "1.5.0",
            "value": "100%",
            "_view_count": null,
            "_view_module_version": "1.5.0",
            "description_tooltip": null,
            "_model_module": "@jupyter-widgets/controls",
            "layout": "IPY_MODEL_2d20817b838d47a6bfde6d0a4b034d31"
          }
        },
        "535a3cdb39cf4eefb2a9b835eda59cb3": {
          "model_module": "@jupyter-widgets/controls",
          "model_name": "FloatProgressModel",
          "model_module_version": "1.5.0",
          "state": {
            "_view_name": "ProgressView",
            "style": "IPY_MODEL_a0400dae164849e49a9f6668dd5a2d5e",
            "_dom_classes": [],
            "description": "",
            "_model_name": "FloatProgressModel",
            "bar_style": "success",
            "max": 50,
            "_view_module": "@jupyter-widgets/controls",
            "_model_module_version": "1.5.0",
            "value": 50,
            "_view_count": null,
            "_view_module_version": "1.5.0",
            "orientation": "horizontal",
            "min": 0,
            "description_tooltip": null,
            "_model_module": "@jupyter-widgets/controls",
            "layout": "IPY_MODEL_9278a2033215433fa9d03605fbe67d05"
          }
        },
        "e7805e13907842d29d0d28cacffb1576": {
          "model_module": "@jupyter-widgets/controls",
          "model_name": "HTMLModel",
          "model_module_version": "1.5.0",
          "state": {
            "_view_name": "HTMLView",
            "style": "IPY_MODEL_c3f8ba6f75fc45a0ab30bd32752638e1",
            "_dom_classes": [],
            "description": "",
            "_model_name": "HTMLModel",
            "placeholder": "​",
            "_view_module": "@jupyter-widgets/controls",
            "_model_module_version": "1.5.0",
            "value": " 50/50 [02:29&lt;00:00,  3.02s/it]",
            "_view_count": null,
            "_view_module_version": "1.5.0",
            "description_tooltip": null,
            "_model_module": "@jupyter-widgets/controls",
            "layout": "IPY_MODEL_d5cbf1ddc4264c88b2718ff3e8a8a1bc"
          }
        },
        "0de103c7186e44b7aafb16b4ac5206a7": {
          "model_module": "@jupyter-widgets/controls",
          "model_name": "DescriptionStyleModel",
          "model_module_version": "1.5.0",
          "state": {
            "_view_name": "StyleView",
            "_model_name": "DescriptionStyleModel",
            "description_width": "",
            "_view_module": "@jupyter-widgets/base",
            "_model_module_version": "1.5.0",
            "_view_count": null,
            "_view_module_version": "1.2.0",
            "_model_module": "@jupyter-widgets/controls"
          }
        },
        "2d20817b838d47a6bfde6d0a4b034d31": {
          "model_module": "@jupyter-widgets/base",
          "model_name": "LayoutModel",
          "model_module_version": "1.2.0",
          "state": {
            "_view_name": "LayoutView",
            "grid_template_rows": null,
            "right": null,
            "justify_content": null,
            "_view_module": "@jupyter-widgets/base",
            "overflow": null,
            "_model_module_version": "1.2.0",
            "_view_count": null,
            "flex_flow": null,
            "width": null,
            "min_width": null,
            "border": null,
            "align_items": null,
            "bottom": null,
            "_model_module": "@jupyter-widgets/base",
            "top": null,
            "grid_column": null,
            "overflow_y": null,
            "overflow_x": null,
            "grid_auto_flow": null,
            "grid_area": null,
            "grid_template_columns": null,
            "flex": null,
            "_model_name": "LayoutModel",
            "justify_items": null,
            "grid_row": null,
            "max_height": null,
            "align_content": null,
            "visibility": null,
            "align_self": null,
            "height": null,
            "min_height": null,
            "padding": null,
            "grid_auto_rows": null,
            "grid_gap": null,
            "max_width": null,
            "order": null,
            "_view_module_version": "1.2.0",
            "grid_template_areas": null,
            "object_position": null,
            "object_fit": null,
            "grid_auto_columns": null,
            "margin": null,
            "display": null,
            "left": null
          }
        },
        "a0400dae164849e49a9f6668dd5a2d5e": {
          "model_module": "@jupyter-widgets/controls",
          "model_name": "ProgressStyleModel",
          "model_module_version": "1.5.0",
          "state": {
            "_view_name": "StyleView",
            "_model_name": "ProgressStyleModel",
            "description_width": "",
            "_view_module": "@jupyter-widgets/base",
            "_model_module_version": "1.5.0",
            "_view_count": null,
            "_view_module_version": "1.2.0",
            "bar_color": null,
            "_model_module": "@jupyter-widgets/controls"
          }
        },
        "9278a2033215433fa9d03605fbe67d05": {
          "model_module": "@jupyter-widgets/base",
          "model_name": "LayoutModel",
          "model_module_version": "1.2.0",
          "state": {
            "_view_name": "LayoutView",
            "grid_template_rows": null,
            "right": null,
            "justify_content": null,
            "_view_module": "@jupyter-widgets/base",
            "overflow": null,
            "_model_module_version": "1.2.0",
            "_view_count": null,
            "flex_flow": null,
            "width": null,
            "min_width": null,
            "border": null,
            "align_items": null,
            "bottom": null,
            "_model_module": "@jupyter-widgets/base",
            "top": null,
            "grid_column": null,
            "overflow_y": null,
            "overflow_x": null,
            "grid_auto_flow": null,
            "grid_area": null,
            "grid_template_columns": null,
            "flex": null,
            "_model_name": "LayoutModel",
            "justify_items": null,
            "grid_row": null,
            "max_height": null,
            "align_content": null,
            "visibility": null,
            "align_self": null,
            "height": null,
            "min_height": null,
            "padding": null,
            "grid_auto_rows": null,
            "grid_gap": null,
            "max_width": null,
            "order": null,
            "_view_module_version": "1.2.0",
            "grid_template_areas": null,
            "object_position": null,
            "object_fit": null,
            "grid_auto_columns": null,
            "margin": null,
            "display": null,
            "left": null
          }
        },
        "c3f8ba6f75fc45a0ab30bd32752638e1": {
          "model_module": "@jupyter-widgets/controls",
          "model_name": "DescriptionStyleModel",
          "model_module_version": "1.5.0",
          "state": {
            "_view_name": "StyleView",
            "_model_name": "DescriptionStyleModel",
            "description_width": "",
            "_view_module": "@jupyter-widgets/base",
            "_model_module_version": "1.5.0",
            "_view_count": null,
            "_view_module_version": "1.2.0",
            "_model_module": "@jupyter-widgets/controls"
          }
        },
        "d5cbf1ddc4264c88b2718ff3e8a8a1bc": {
          "model_module": "@jupyter-widgets/base",
          "model_name": "LayoutModel",
          "model_module_version": "1.2.0",
          "state": {
            "_view_name": "LayoutView",
            "grid_template_rows": null,
            "right": null,
            "justify_content": null,
            "_view_module": "@jupyter-widgets/base",
            "overflow": null,
            "_model_module_version": "1.2.0",
            "_view_count": null,
            "flex_flow": null,
            "width": null,
            "min_width": null,
            "border": null,
            "align_items": null,
            "bottom": null,
            "_model_module": "@jupyter-widgets/base",
            "top": null,
            "grid_column": null,
            "overflow_y": null,
            "overflow_x": null,
            "grid_auto_flow": null,
            "grid_area": null,
            "grid_template_columns": null,
            "flex": null,
            "_model_name": "LayoutModel",
            "justify_items": null,
            "grid_row": null,
            "max_height": null,
            "align_content": null,
            "visibility": null,
            "align_self": null,
            "height": null,
            "min_height": null,
            "padding": null,
            "grid_auto_rows": null,
            "grid_gap": null,
            "max_width": null,
            "order": null,
            "_view_module_version": "1.2.0",
            "grid_template_areas": null,
            "object_position": null,
            "object_fit": null,
            "grid_auto_columns": null,
            "margin": null,
            "display": null,
            "left": null
          }
        }
      }
    }
  },
  "cells": [
    {
      "cell_type": "markdown",
      "metadata": {
        "id": "view-in-github",
        "colab_type": "text"
      },
      "source": [
        "<a href=\"https://colab.research.google.com/github/dscho15/DeepLearning/blob/main/Lecture3.ipynb\" target=\"_parent\"><img src=\"https://colab.research.google.com/assets/colab-badge.svg\" alt=\"Open In Colab\"/></a>"
      ]
    },
    {
      "cell_type": "markdown",
      "metadata": {
        "id": "cKStmp8iKoRa"
      },
      "source": [
        "## MLP (one hidden layer) for classification on Cifar10"
      ]
    },
    {
      "cell_type": "code",
      "metadata": {
        "id": "IDiq1Ns5KlSs"
      },
      "source": [
        "import copy\n",
        "\n",
        "import numpy as np\n",
        "import matplotlib.pyplot as plt\n",
        "from tqdm.notebook import tqdm\n",
        "\n",
        "import torch\n",
        "from torch import nn\n",
        "import torch.nn.functional as F\n",
        "import torchvision\n",
        "from torchvision import transforms as T"
      ],
      "execution_count": 37,
      "outputs": []
    },
    {
      "cell_type": "code",
      "metadata": {
        "colab": {
          "base_uri": "https://localhost:8080/"
        },
        "id": "N7S1l-WMKsez",
        "outputId": "2b1cb32a-4de1-4b41-d0f1-7e20fddfa735"
      },
      "source": [
        "class Cifar10(torchvision.datasets.CIFAR10):\n",
        "  def __init__(self, train: bool):\n",
        "    super().__init__(root='~/data', train=train, download=True)\n",
        "    self.data = self.data.astype(np.float32) / 255 - 0.5\n",
        "\n",
        "  def __getitem__(self, idx):\n",
        "    return self.data[idx], self.targets[idx]\n",
        "\n",
        "# Recieve the training data and split it into: {train, validation}\n",
        "data_train = Cifar10(train=True)\n",
        "data_train, data_valid = torch.utils.data.random_split(data_train, (45000, 5000))\n",
        "data_test = Cifar10(train=False)"
      ],
      "execution_count": 47,
      "outputs": [
        {
          "output_type": "stream",
          "name": "stdout",
          "text": [
            "Files already downloaded and verified\n",
            "Files already downloaded and verified\n"
          ]
        }
      ]
    },
    {
      "cell_type": "code",
      "metadata": {
        "id": "_3i57I2bK4U_"
      },
      "source": [
        "kwargs = {'batch_size': 100, 'num_workers': 2}\n",
        "loader_train = torch.utils.data.DataLoader(data_train, **kwargs, shuffle=True)\n",
        "loader_valid = torch.utils.data.DataLoader(data_valid, **kwargs)\n",
        "loader_test = torch.utils.data.DataLoader(data_test, **kwargs)"
      ],
      "execution_count": 50,
      "outputs": []
    },
    {
      "cell_type": "markdown",
      "metadata": {
        "id": "n150kjHGLI3q"
      },
      "source": [
        "# Challenge\n",
        "* Build a Multi Layer Perceptron, MLP, with one ReLU-activated hidden layer.\n",
        "* Use the validation set to inform e.g. number of hidden neurons.\n",
        "* When you're satisfied, then, use the test set to get an  \n",
        "unbiased estimate of your models performance on the real data distribution."
      ]
    },
    {
      "cell_type": "code",
      "metadata": {
        "id": "pyqRBRXKK7cm"
      },
      "source": [
        "class NeuralNetwork(nn.Module):\n",
        "    def __init__(self, n_hidden_neurons):\n",
        "        super(NeuralNetwork, self).__init__()\n",
        "        self.flatten = nn.Flatten()\n",
        "        self.linear_relu_stack = nn.Sequential(\n",
        "            nn.Linear(32*32*3, n_hidden_neurons),\n",
        "            nn.ReLU(),\n",
        "            # nn.Dropout(0.2),\n",
        "            nn.Linear(n_hidden_neurons, 10)\n",
        "        )\n",
        "\n",
        "    def forward(self, x):\n",
        "        x = self.flatten(x)\n",
        "        logits = self.linear_relu_stack(x)\n",
        "        return logits"
      ],
      "execution_count": 71,
      "outputs": []
    },
    {
      "cell_type": "code",
      "metadata": {
        "id": "KwM5ff44LPXn"
      },
      "source": [
        "all_losses, all_accuracies = {}, {}\n",
        "best_accuracy = 0\n",
        "best_model = None"
      ],
      "execution_count": 72,
      "outputs": []
    },
    {
      "cell_type": "code",
      "metadata": {
        "colab": {
          "base_uri": "https://localhost:8080/",
          "height": 49,
          "referenced_widgets": [
            "c80e6288f9184367bb0bcbe0d6ff4cd9",
            "4bf71ac1e5ff4afc92c4e16b781d084b",
            "7e9447185652430c9a7625385a49813c",
            "535a3cdb39cf4eefb2a9b835eda59cb3",
            "e7805e13907842d29d0d28cacffb1576",
            "0de103c7186e44b7aafb16b4ac5206a7",
            "2d20817b838d47a6bfde6d0a4b034d31",
            "a0400dae164849e49a9f6668dd5a2d5e",
            "9278a2033215433fa9d03605fbe67d05",
            "c3f8ba6f75fc45a0ab30bd32752638e1",
            "d5cbf1ddc4264c88b2718ff3e8a8a1bc"
          ]
        },
        "id": "oO4Gd_B1LSJY",
        "outputId": "3e038bc2-5462-4055-d188-b4577440db92"
      },
      "source": [
        "device = torch.device('cuda')\n",
        "n_hidden_neurons = 128\n",
        "model = NeuralNetwork(n_hidden_neurons).to(device)\n",
        "opt = torch.optim.Adam(model.parameters(), lr=5e-4, weight_decay = 10e-5)\n",
        "\n",
        "train_losses, train_accuracies = [], []\n",
        "valid_losses, valid_accuracies = [], []\n",
        "\n",
        "for epoch in tqdm(range(50)):\n",
        "\n",
        "  epoch_losses = []\n",
        "  correct, total = 0, 0\n",
        "\n",
        "  for x, y in loader_train:\n",
        "    \n",
        "    x, y = x.to(device), y.to(device)\n",
        "    \n",
        "    logits = model(x)\n",
        "    log_probs = F.log_softmax(logits, dim=1)\n",
        "    loss = F.nll_loss(log_probs, y)\n",
        "    # or just: loss = F.cross_entropy(logits, y)\n",
        "\n",
        "    opt.zero_grad()\n",
        "    loss.backward()\n",
        "    opt.step()\n",
        "\n",
        "    epoch_losses.append(loss.item())\n",
        "    total += len(x)\n",
        "    correct += (torch.argmax(logits, dim=1) == y).sum().item()\n",
        "\n",
        "  train_loss = np.mean(epoch_losses)\n",
        "  train_accuracy = correct / total\n",
        "\n",
        "  with torch.no_grad():\n",
        "\n",
        "    valid_losses = []\n",
        "\n",
        "    for x, y in loader_valid:\n",
        "\n",
        "      x, y = x.to(device), y.to(device)\n",
        "      logits = model(x)\n",
        "      log_probs = F.log_softmax(logits, dim=1)\n",
        "      loss = F.nll_loss(log_probs, y)\n",
        "\n",
        "      total += len(x)\n",
        "      valid_losses.append(loss.item())\n",
        "      correct += (torch.argmax(logits, dim=1) == y).sum().item()\n",
        "  \n",
        "  valid_loss = np.mean(valid_losses)\n",
        "  valid_accuracy = correct/total\n",
        "\n",
        "  if valid_accuracy > best_accuracy:\n",
        "    best_accuracy = valid_accuracy\n",
        "    best_model = copy.deepcopy(model), n_hidden_neurons, epoch\n",
        "\n",
        "  train_losses.append(train_loss)\n",
        "  valid_losses.append(valid_loss)\n",
        "  train_accuracies.append(train_accuracy)\n",
        "  valid_accuracies.append(valid_accuracy)\n",
        "\n",
        "all_losses[n_hidden_neurons] = train_losses, valid_losses\n",
        "all_accuracies[n_hidden_neurons] = train_accuracies, valid_accuracies"
      ],
      "execution_count": 74,
      "outputs": [
        {
          "output_type": "display_data",
          "data": {
            "application/vnd.jupyter.widget-view+json": {
              "model_id": "c80e6288f9184367bb0bcbe0d6ff4cd9",
              "version_minor": 0,
              "version_major": 2
            },
            "text/plain": [
              "  0%|          | 0/50 [00:00<?, ?it/s]"
            ]
          },
          "metadata": {}
        }
      ]
    },
    {
      "cell_type": "code",
      "metadata": {
        "colab": {
          "base_uri": "https://localhost:8080/",
          "height": 607
        },
        "id": "S3sd5_2XPFrt",
        "outputId": "b504827a-a4ad-4992-cb51-61895c482a42"
      },
      "source": [
        "plt.figure(1, figsize=(20,10))\n",
        "plt.subplot(2,1,1)\n",
        "plt.plot(train_losses)\n",
        "plt.plot(valid_losses)\n",
        "plt.xlabel(\"epoche\")\n",
        "plt.ylabel(\"loss\")\n",
        "plt.legend([\"Train\", \"Valid\"])\n",
        "\n",
        "plt.subplot(2,1,2)\n",
        "plt.plot(train_accuracies)\n",
        "plt.plot(valid_accuracies)\n",
        "plt.xlabel(\"epoche\")\n",
        "plt.ylabel(\"accuracy [%]\")\n",
        "plt.legend([\"Train\", \"Valid\"])\n",
        "\n",
        "plt.show()"
      ],
      "execution_count": 70,
      "outputs": [
        {
          "output_type": "display_data",
          "data": {
            "image/png": "[encoded data removed]",
            "text/plain": [
              "<Figure size 1440x720 with 2 Axes>"
            ]
          },
          "metadata": {
            "needs_background": "light"
          }
        }
      ]
    },
    {
      "cell_type": "code",
      "metadata": {
        "colab": {
          "base_uri": "https://localhost:8080/"
        },
        "id": "8arLZUU4Y1hY",
        "outputId": "d77b4a39-c065-4593-dd20-321abdbf5a95"
      },
      "source": [
        "with torch.no_grad():\n",
        "\n",
        "    for x, y in loader_test:\n",
        "\n",
        "      x, y = x.to(device), y.to(device)\n",
        "      logits = model(x)\n",
        "      log_probs = F.log_softmax(logits, dim=1)\n",
        "      loss = F.nll_loss(log_probs, y)\n",
        "\n",
        "      total += len(x)\n",
        "      correct += (torch.argmax(logits, dim=1) == y).sum().item()\n",
        "    \n",
        "valid_accuracy = correct/total\n",
        "\n",
        "print(\"The validation accuracy: %s\"%(valid_accuracy))\n",
        "  "
      ],
      "execution_count": 73,
      "outputs": [
        {
          "output_type": "stream",
          "name": "stdout",
          "text": [
            "The validation accuracy: 0.6269666666666667\n"
          ]
        }
      ]
    }
  ]
}